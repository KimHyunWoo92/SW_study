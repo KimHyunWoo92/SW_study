{
 "cells": [
  {
   "cell_type": "markdown",
   "metadata": {},
   "source": [
    "# 데이터베이스\n",
    "- 데이터란 어떤 필요에 의해 수집했지만 아직 특정 목적을 위해 정제하지 않은 값, 사실 또는 자료를 의미함\n",
    "\n",
    "- 정보(information)란 수집된 데이터를 어떤 목적을 위해 분석, 가공하여 가치를 추구하거나 새로운 의미를 부여한 결과\n",
    "\n",
    "#### 반드시 알아야할 데이터베이스 키워드\n",
    "- Entity\n",
    "- Attribute\n",
    "- Instance\n",
    "- Relationship\n",
    "- Entity Relationship"
   ]
  }
 ],
 "metadata": {
  "language_info": {
   "name": "python"
  }
 },
 "nbformat": 4,
 "nbformat_minor": 2
}
