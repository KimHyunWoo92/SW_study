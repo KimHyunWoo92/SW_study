{
 "cells": [
  {
   "cell_type": "code",
   "execution_count": 2,
   "metadata": {},
   "outputs": [],
   "source": [
    "from selenium import webdriver as wb\n",
    "from selenium.webdriver.common.by import By\n",
    "#컴퓨터용 키보드 설치\n",
    "from selenium.webdriver.common.keys import Keys"
   ]
  },
  {
   "cell_type": "code",
   "execution_count": 3,
   "metadata": {},
   "outputs": [],
   "source": [
    "# 1. 크롬창을 실행해서 url로 이동\n",
    "driver = wb.Chrome()\n",
    "driver.get(\"https://www.hsd.co.kr/menu/menu_list\")"
   ]
  },
  {
   "cell_type": "code",
   "execution_count": 4,
   "metadata": {},
   "outputs": [],
   "source": [
    "#상품명과 가격정보 수집\n",
    "menu = driver.find_elements(By.CSS_SELECTOR,\" div > div.item-text > h4\")\n"
   ]
  },
  {
   "cell_type": "code",
   "execution_count": 5,
   "metadata": {},
   "outputs": [
    {
     "name": "stdout",
     "output_type": "stream",
     "text": [
      "['숯불 직화 닭갈비(간장맛)', '숯불 직화 닭갈비(고추장맛)', '숯불 직화 닭갈비 덮밥(간장맛)', '소확행 제육 도시락', '소확행 스팸 도시락', '멘치카츠', '스페셜 하이라이스', '송정식 떡갈비 Ⅱ', '이남장 설렁탕', '제육돈까스 도련님', '사골 조랭이떡 만둣국', '해바라기', '매화', '진달래', '개나리', '돈까스도련님 고기고기', '탕수육도련님 고기고기', '새치 고기고기', '돈치 고기고기', '카츠카츠', '숯불직화구이', '소불고기', '메가치킨제육', '칠리 찹쌀탕수육도련님', '동백', '치킨제육', '돈까스도련님', '제육볶음', '돈치스팸', '송정식 떡갈비', '제육 김치찌개 정식', '제육 김치 부대찌개 정식', '돈치스팸 김치 부대찌개 정식', '빅치킨마요 김치 부대찌개 정식', '치킨마요 김치 부대찌개 정식', '빅치킨마요 김치찌개 정식', '치킨마요 김치찌개 정식', '빅새치마요', '새치마요', '메가스팸마요', '스팸마요', '메가치킨마요', '왕치킨마요', '빅치킨마요', '치킨마요', '참치마요', '돈치마요', '돈까스 카레', '잡채볶음밥(중화풍 매운맛)', '잡채볶음밥(오리지널)', '스팸 김치볶음밥', '김치볶음밥', '스팸 철판볶음밥', '소불고기 철판볶음밥', '나시고랭', '묵은지 김치찌개', '김치 부대찌개', '핫 치즈 닭갈비덮밥', '오리지널 치즈 닭갈비덮밥', '숯불직화구이 덮밥', '마파두부 덮밥', '왕카레돈까스덮밥', '새우돈까스 덮밥', '돈까스 덮밥', '아보카도 소불고기 명란 비빔밥', '소불고기 감초고추장 비빔밥', '시골제육 두부강된장 비빔밥', '참치야채 감초고추장 비빔밥', '튼튼도시락'] 69\n"
     ]
    }
   ],
   "source": [
    "menu_name = []\n",
    "for i in menu:\n",
    "    menu_name.append(i.text)\n",
    "\n",
    "print(menu_name,len(menu_name))"
   ]
  },
  {
   "cell_type": "code",
   "execution_count": 6,
   "metadata": {},
   "outputs": [],
   "source": [
    "price = driver.find_elements(By.CSS_SELECTOR,\"div > div.item-text > div \")\n"
   ]
  },
  {
   "cell_type": "code",
   "execution_count": 7,
   "metadata": {},
   "outputs": [
    {
     "name": "stdout",
     "output_type": "stream",
     "text": [
      "['6,900원', '6,900원', '5,900원', '2,900원', '2,900원', '2,800원', '5,900원', '6,900원', '7,900원', '4,900원', '5,900원', '10,000원', '10,500원', '8,000원', '8,700원', '6,600원', '6,100원', '7,100원', '6,100원', '4,900원', '6,800원', '5,700원', '7,800원', '4,500원', '6,200원', '5,000원', '4,900원', '4,700원', '5,000원', '6,900원', '8,800원', '9,200원', '9,200원', '8,200원', '7,600원', '7,700원', '7,100원', '4,700원', '4,100원', '5,900원', '4,000원', '6,200원', '5,100원', '4,400원', '3,800원', '3,600원', '4,100원', '4,800원', '5,500원', '5,300원', '4,900원', '4,100원', '4,900원', '5,100원', '6,300원', '5,000원', '6,100원', '6,000원', '6,000원', '6,000원', '5,000원', '6,100원', '4,400원', '4,300원', '6,700원', '5,600원', '5,400원', '3,700원', '5,200원'] 69\n"
     ]
    }
   ],
   "source": [
    "price_list = []\n",
    "for i in price:\n",
    "    price_list.append(i.text)\n",
    "\n",
    "print(price_list,len(price_list))"
   ]
  },
  {
   "cell_type": "code",
   "execution_count": null,
   "metadata": {},
   "outputs": [],
   "source": [
    "#데이터의 완벽한 로딩을 위해서 더보기를 클릭\n",
    "btn = driver.find_element(By.CSS_SELECTOR,\"#btn_more > span > a\")\n",
    "btn.click()"
   ]
  },
  {
   "cell_type": "code",
   "execution_count": null,
   "metadata": {},
   "outputs": [],
   "source": [
    "#반복문을 통해서 더보기 버튼을 끝까지 눌러주기\n",
    "while True:\n",
    "    btn = driver.find_element(By.CSS_SELECTOR,\"#btn_more > span > a\")\n",
    "    btn.click()"
   ]
  },
  {
   "cell_type": "markdown",
   "metadata": {},
   "source": [
    "#### 예외처리\n",
    "- 오류가 나기 전까지 코드를 실행하다가, 오류가 나면 멈추는게 아니고 다른 코드를 실행\n",
    "- try, except\n",
    "- try: 오류가 나기전까지의 영역\n",
    "- except : 오류가 났을 때 영역\n"
   ]
  },
  {
   "cell_type": "code",
   "execution_count": 19,
   "metadata": {},
   "outputs": [
    {
     "name": "stdout",
     "output_type": "stream",
     "text": [
      "더보기 완료\n",
      "102 102\n"
     ]
    }
   ],
   "source": [
    "import time\n",
    "while True:\n",
    "    try:\n",
    "        btn = driver.find_element(By.CSS_SELECTOR,\"#btn_more > span > a\")\n",
    "        btn.click()\n",
    "        time.sleep(1)    \n",
    "    except:\n",
    "        print(\"더보기 완료\")\n",
    "        break\n",
    "\n",
    "menu = driver.find_elements(By.CSS_SELECTOR,\" div > div.item-text > h4\")\n",
    "price = driver.find_elements(By.CSS_SELECTOR,\"div > div.item-text > div \")\n",
    "menu_name = []\n",
    "price_list = []\n",
    "for i in range(len(menu)):\n",
    "    menu_name.append(menu[i].text)\n",
    "    price_list.append(price[i].text)\n",
    "\n",
    "print(len(menu_name),len(price_list))   \n"
   ]
  },
  {
   "cell_type": "markdown",
   "metadata": {},
   "source": [
    "# 크롤링(셀레니움) 하는 순서\n",
    "1. 브라우저 실행\n",
    "2. 데이터 로딩(더보기, 스크롤 내리기)\n",
    "3. 데이터 수집(요소)\n",
    "4. 텍스트 데이터로 변환\n",
    "5. 저장, 파일로 변환, 데이터를 활용"
   ]
  },
  {
   "cell_type": "code",
   "execution_count": null,
   "metadata": {},
   "outputs": [],
   "source": [
    "#수집한 텍스트 데이터를 DataFram으로 저장, csv파일로 저장"
   ]
  },
  {
   "cell_type": "code",
   "execution_count": null,
   "metadata": {},
   "outputs": [],
   "source": [
    "menu_name"
   ]
  },
  {
   "cell_type": "code",
   "execution_count": 20,
   "metadata": {},
   "outputs": [
    {
     "data": {
      "text/html": [
       "<div>\n",
       "<style scoped>\n",
       "    .dataframe tbody tr th:only-of-type {\n",
       "        vertical-align: middle;\n",
       "    }\n",
       "\n",
       "    .dataframe tbody tr th {\n",
       "        vertical-align: top;\n",
       "    }\n",
       "\n",
       "    .dataframe thead th {\n",
       "        text-align: right;\n",
       "    }\n",
       "</style>\n",
       "<table border=\"1\" class=\"dataframe\">\n",
       "  <thead>\n",
       "    <tr style=\"text-align: right;\">\n",
       "      <th></th>\n",
       "      <th>메뉴</th>\n",
       "      <th>가격</th>\n",
       "    </tr>\n",
       "  </thead>\n",
       "  <tbody>\n",
       "    <tr>\n",
       "      <th>0</th>\n",
       "      <td>숯불 직화 닭갈비(간장맛)</td>\n",
       "      <td>6,900원</td>\n",
       "    </tr>\n",
       "    <tr>\n",
       "      <th>1</th>\n",
       "      <td>숯불 직화 닭갈비(고추장맛)</td>\n",
       "      <td>6,900원</td>\n",
       "    </tr>\n",
       "    <tr>\n",
       "      <th>2</th>\n",
       "      <td>숯불 직화 닭갈비 덮밥(간장맛)</td>\n",
       "      <td>5,900원</td>\n",
       "    </tr>\n",
       "    <tr>\n",
       "      <th>3</th>\n",
       "      <td>소확행 제육 도시락</td>\n",
       "      <td>2,900원</td>\n",
       "    </tr>\n",
       "    <tr>\n",
       "      <th>4</th>\n",
       "      <td>소확행 스팸 도시락</td>\n",
       "      <td>2,900원</td>\n",
       "    </tr>\n",
       "    <tr>\n",
       "      <th>...</th>\n",
       "      <td>...</td>\n",
       "      <td>...</td>\n",
       "    </tr>\n",
       "    <tr>\n",
       "      <th>97</th>\n",
       "      <td>김치</td>\n",
       "      <td>400원</td>\n",
       "    </tr>\n",
       "    <tr>\n",
       "      <th>98</th>\n",
       "      <td>무말랭이 무침</td>\n",
       "      <td>500원</td>\n",
       "    </tr>\n",
       "    <tr>\n",
       "      <th>99</th>\n",
       "      <td>한솥밥</td>\n",
       "      <td>1,000원</td>\n",
       "    </tr>\n",
       "    <tr>\n",
       "      <th>100</th>\n",
       "      <td>현미밥</td>\n",
       "      <td>1,700원</td>\n",
       "    </tr>\n",
       "    <tr>\n",
       "      <th>101</th>\n",
       "      <td>리얼꿀 미니호떡</td>\n",
       "      <td>2,200원</td>\n",
       "    </tr>\n",
       "  </tbody>\n",
       "</table>\n",
       "<p>102 rows × 2 columns</p>\n",
       "</div>"
      ],
      "text/plain": [
       "                    메뉴      가격\n",
       "0       숯불 직화 닭갈비(간장맛)  6,900원\n",
       "1      숯불 직화 닭갈비(고추장맛)  6,900원\n",
       "2    숯불 직화 닭갈비 덮밥(간장맛)  5,900원\n",
       "3           소확행 제육 도시락  2,900원\n",
       "4           소확행 스팸 도시락  2,900원\n",
       "..                 ...     ...\n",
       "97                  김치    400원\n",
       "98             무말랭이 무침    500원\n",
       "99                 한솥밥  1,000원\n",
       "100                현미밥  1,700원\n",
       "101           리얼꿀 미니호떡  2,200원\n",
       "\n",
       "[102 rows x 2 columns]"
      ]
     },
     "execution_count": 20,
     "metadata": {},
     "output_type": "execute_result"
    }
   ],
   "source": [
    "import pandas as pd\n",
    "\n",
    "df_box = pd.DataFrame({\"메뉴\":menu_name,\"가격\":price_list})\n",
    "df_box"
   ]
  },
  {
   "cell_type": "code",
   "execution_count": 21,
   "metadata": {},
   "outputs": [],
   "source": [
    "df_box.to_csv(\"한솥_메뉴_가격.csv\",encoding='utf-8',index=False)"
   ]
  },
  {
   "cell_type": "code",
   "execution_count": 22,
   "metadata": {},
   "outputs": [
    {
     "data": {
      "text/html": [
       "<div>\n",
       "<style scoped>\n",
       "    .dataframe tbody tr th:only-of-type {\n",
       "        vertical-align: middle;\n",
       "    }\n",
       "\n",
       "    .dataframe tbody tr th {\n",
       "        vertical-align: top;\n",
       "    }\n",
       "\n",
       "    .dataframe thead th {\n",
       "        text-align: right;\n",
       "    }\n",
       "</style>\n",
       "<table border=\"1\" class=\"dataframe\">\n",
       "  <thead>\n",
       "    <tr style=\"text-align: right;\">\n",
       "      <th></th>\n",
       "      <th>메뉴</th>\n",
       "      <th>가격</th>\n",
       "    </tr>\n",
       "  </thead>\n",
       "  <tbody>\n",
       "    <tr>\n",
       "      <th>0</th>\n",
       "      <td>숯불 직화 닭갈비(간장맛)</td>\n",
       "      <td>6,900원</td>\n",
       "    </tr>\n",
       "    <tr>\n",
       "      <th>1</th>\n",
       "      <td>숯불 직화 닭갈비(고추장맛)</td>\n",
       "      <td>6,900원</td>\n",
       "    </tr>\n",
       "    <tr>\n",
       "      <th>2</th>\n",
       "      <td>숯불 직화 닭갈비 덮밥(간장맛)</td>\n",
       "      <td>5,900원</td>\n",
       "    </tr>\n",
       "    <tr>\n",
       "      <th>3</th>\n",
       "      <td>소확행 제육 도시락</td>\n",
       "      <td>2,900원</td>\n",
       "    </tr>\n",
       "    <tr>\n",
       "      <th>4</th>\n",
       "      <td>소확행 스팸 도시락</td>\n",
       "      <td>2,900원</td>\n",
       "    </tr>\n",
       "    <tr>\n",
       "      <th>...</th>\n",
       "      <td>...</td>\n",
       "      <td>...</td>\n",
       "    </tr>\n",
       "    <tr>\n",
       "      <th>97</th>\n",
       "      <td>김치</td>\n",
       "      <td>400원</td>\n",
       "    </tr>\n",
       "    <tr>\n",
       "      <th>98</th>\n",
       "      <td>무말랭이 무침</td>\n",
       "      <td>500원</td>\n",
       "    </tr>\n",
       "    <tr>\n",
       "      <th>99</th>\n",
       "      <td>한솥밥</td>\n",
       "      <td>1,000원</td>\n",
       "    </tr>\n",
       "    <tr>\n",
       "      <th>100</th>\n",
       "      <td>현미밥</td>\n",
       "      <td>1,700원</td>\n",
       "    </tr>\n",
       "    <tr>\n",
       "      <th>101</th>\n",
       "      <td>리얼꿀 미니호떡</td>\n",
       "      <td>2,200원</td>\n",
       "    </tr>\n",
       "  </tbody>\n",
       "</table>\n",
       "<p>102 rows × 2 columns</p>\n",
       "</div>"
      ],
      "text/plain": [
       "                    메뉴      가격\n",
       "0       숯불 직화 닭갈비(간장맛)  6,900원\n",
       "1      숯불 직화 닭갈비(고추장맛)  6,900원\n",
       "2    숯불 직화 닭갈비 덮밥(간장맛)  5,900원\n",
       "3           소확행 제육 도시락  2,900원\n",
       "4           소확행 스팸 도시락  2,900원\n",
       "..                 ...     ...\n",
       "97                  김치    400원\n",
       "98             무말랭이 무침    500원\n",
       "99                 한솥밥  1,000원\n",
       "100                현미밥  1,700원\n",
       "101           리얼꿀 미니호떡  2,200원\n",
       "\n",
       "[102 rows x 2 columns]"
      ]
     },
     "execution_count": 22,
     "metadata": {},
     "output_type": "execute_result"
    }
   ],
   "source": [
    "pd.read_csv(\"한솥_메뉴_가격.csv\")"
   ]
  },
  {
   "cell_type": "code",
   "execution_count": null,
   "metadata": {},
   "outputs": [],
   "source": []
  }
 ],
 "metadata": {
  "kernelspec": {
   "display_name": "base",
   "language": "python",
   "name": "python3"
  },
  "language_info": {
   "codemirror_mode": {
    "name": "ipython",
    "version": 3
   },
   "file_extension": ".py",
   "mimetype": "text/x-python",
   "name": "python",
   "nbconvert_exporter": "python",
   "pygments_lexer": "ipython3",
   "version": "3.11.7"
  }
 },
 "nbformat": 4,
 "nbformat_minor": 2
}
