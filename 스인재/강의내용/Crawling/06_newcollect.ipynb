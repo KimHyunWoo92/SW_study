{
 "cells": [
  {
   "cell_type": "markdown",
   "metadata": {},
   "source": [
    "#### 구버전 코드\n",
    "1. 크롬드라이버 설치 - 현재는 설치가 필요하지 않다.\n",
    "2. By - 사용하지 않았음\n",
    "3. find_element(By.id,\"id값\")\n",
    "4. fide_element_by_id(\"값\")"
   ]
  },
  {
   "cell_type": "code",
   "execution_count": 2,
   "metadata": {},
   "outputs": [],
   "source": [
    "from selenium import webdriver as wb\n",
    "from selenium.webdriver.common.by import By\n",
    "#컴퓨터용 키보드 설치\n",
    "from selenium.webdriver.common.keys import Keys\n"
   ]
  },
  {
   "cell_type": "code",
   "execution_count": 3,
   "metadata": {},
   "outputs": [],
   "source": [
    "#1.브라우저 실행\n",
    "driver = wb.Chrome()\n"
   ]
  },
  {
   "cell_type": "code",
   "execution_count": 4,
   "metadata": {},
   "outputs": [],
   "source": [
    "#2.네이버 페이지 가져와\n",
    "driver.get(\"https://www.naver.com\")"
   ]
  },
  {
   "cell_type": "code",
   "execution_count": 6,
   "metadata": {},
   "outputs": [],
   "source": [
    "#3.검색창을 찾아와\n",
    "search = driver.find_element(By.CSS_SELECTOR,\"#query\")"
   ]
  },
  {
   "cell_type": "code",
   "execution_count": 7,
   "metadata": {},
   "outputs": [],
   "source": [
    "#4.이정후를 검색\n",
    "search.send_keys(\"이정후\")"
   ]
  },
  {
   "cell_type": "code",
   "execution_count": 8,
   "metadata": {},
   "outputs": [],
   "source": [
    "#5.검색창에 키보드의 엔터 보내기\n",
    "search.send_keys(Keys.ENTER)"
   ]
  },
  {
   "cell_type": "code",
   "execution_count": 12,
   "metadata": {},
   "outputs": [],
   "source": [
    "#6.뉴스탭을 클릭\n",
    "news = driver.find_element(By.CSS_SELECTOR,\"#lnb > div.lnb_group > div > div.lnb_nav_area._nav_area_root > div > div.api_flicking_wrap._conveyer_root > div:nth-child(2) > a\")\n",
    "news.click()"
   ]
  },
  {
   "cell_type": "markdown",
   "metadata": {},
   "source": [
    "#### 선택자 가지고 올 때 주의할 점.\n",
    "- copy selector : 반드시 하나만 가지고 오는 기능\n",
    "- 복수개를 가져올때\n",
    "- 3가지 (id, >,nth-child) : 단수개를 의미\n",
    "\n",
    "정형 : nth-child(2)\n",
    "두번째 자식을 지칭."
   ]
  },
  {
   "cell_type": "code",
   "execution_count": 19,
   "metadata": {},
   "outputs": [],
   "source": [
    "#7.뉴스 제목들 수집\n",
    "title = driver.find_elements(By.CSS_SELECTOR,\" div.news_wrap.api_ani_send > div > div.news_contents > a.news_tit\")"
   ]
  },
  {
   "cell_type": "code",
   "execution_count": 21,
   "metadata": {},
   "outputs": [],
   "source": [
    "#수집한 요소에서 내가 필요한 텍스트만 수집\n",
    "title_list = []\n",
    "for i in title:\n",
    "    title_list.append(i.text)\n",
    "\n"
   ]
  },
  {
   "cell_type": "code",
   "execution_count": 22,
   "metadata": {},
   "outputs": [
    {
     "data": {
      "text/plain": [
       "['이정후, 보스턴전 4타수 무안타…시즌 타율 0.259',\n",
       " \"3G 연속 안타 끝...'4타수 무안타' 이정후, 타율은 0.259까지 하락\",\n",
       " '홈이면 홈런인데! 이정후, 보스턴 원정 아쉬운 무안타',\n",
       " '손흥민‧이정후‧오타니… 세계 최고 스포츠 스타 만든 ‘품성 교육’',\n",
       " \"키움 '포스트 이정후'는 김혜성…팀 타격 5개 부문 1위 질주\",\n",
       " '아버지는 84도루 했는데 아들은 13도루가 최고라니…美매체 “이정후, 생각만...',\n",
       " '이정후, 3경기 연속 안타…피츠버그전 4타수 1안타',\n",
       " '이정후도 야마모토도 아니다…4월 ML 최고의 루키는 4승·ERA 0.98 “던지는 ...',\n",
       " '팀은 \\'C-학점\\' 혹평, 그래도 이정후에겐 호의적 시선 \"발사각 높이면 장타 뻥...',\n",
       " '이정후, 보스턴전 1번 타자·중견수...요시다는 선발 라인업 제외']"
      ]
     },
     "execution_count": 22,
     "metadata": {},
     "output_type": "execute_result"
    }
   ],
   "source": [
    "title_list"
   ]
  },
  {
   "cell_type": "code",
   "execution_count": null,
   "metadata": {},
   "outputs": [],
   "source": []
  }
 ],
 "metadata": {
  "kernelspec": {
   "display_name": "base",
   "language": "python",
   "name": "python3"
  },
  "language_info": {
   "codemirror_mode": {
    "name": "ipython",
    "version": 3
   },
   "file_extension": ".py",
   "mimetype": "text/x-python",
   "name": "python",
   "nbconvert_exporter": "python",
   "pygments_lexer": "ipython3",
   "version": "3.11.7"
  }
 },
 "nbformat": 4,
 "nbformat_minor": 2
}
