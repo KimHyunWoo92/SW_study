{
 "cells": [
  {
   "cell_type": "code",
   "execution_count": 1,
   "metadata": {},
   "outputs": [],
   "source": [
    "from selenium import webdriver as wb\n",
    "from selenium.webdriver.common.by import By"
   ]
  },
  {
   "cell_type": "code",
   "execution_count": 2,
   "metadata": {},
   "outputs": [],
   "source": [
    "driver = wb.Chrome()\n",
    "driver.get(\"https://www.hsd.co.kr/\")"
   ]
  },
  {
   "cell_type": "code",
   "execution_count": null,
   "metadata": {},
   "outputs": [],
   "source": [
    "tab = driver.find_element(By.CSS_SELECTOR,\"#gnb > div.gnb_menu > ul > li:nth-child(3) > div > ul > li:nth-child(1) > a\")"
   ]
  },
  {
   "cell_type": "code",
   "execution_count": 6,
   "metadata": {},
   "outputs": [],
   "source": [
    "# 1. 마우스를 메뉴탭으로 이동 2.전체메뉴를 클릭\n",
    "from selenium.webdriver.common.action_chains import ActionChains\n",
    "import time"
   ]
  },
  {
   "cell_type": "code",
   "execution_count": 4,
   "metadata": {},
   "outputs": [],
   "source": [
    "actions = ActionChains(driver)"
   ]
  },
  {
   "cell_type": "code",
   "execution_count": 8,
   "metadata": {},
   "outputs": [],
   "source": [
    "menu =driver.find_element(By.CSS_SELECTOR,\"#gnb > div.gnb_menu > ul > li:nth-child(3) > p > a\")\n",
    "tab = driver.find_element(By.CSS_SELECTOR,\"#gnb > div.gnb_menu > ul > li:nth-child(3) > div > ul > li:nth-child(1) > a\")\n",
    "actions.move_to_element(menu)\n",
    "time.sleep(0.5)\n",
    "actions.click(tab)\n",
    "actions.perform()"
   ]
  },
  {
   "cell_type": "markdown",
   "metadata": {},
   "source": [
    "### ActionChains\n",
    "- 여러개의 동작을 묶어서 실행하는 경우 활용\n",
    "- 요소에 마우스를 이동하는 경우 활용\n",
    "- 반드시 명령을 묶었다면 마지막에 실행하는 명령문 필요 : perform"
   ]
  },
  {
   "cell_type": "code",
   "execution_count": null,
   "metadata": {},
   "outputs": [],
   "source": []
  }
 ],
 "metadata": {
  "kernelspec": {
   "display_name": "base",
   "language": "python",
   "name": "python3"
  },
  "language_info": {
   "codemirror_mode": {
    "name": "ipython",
    "version": 3
   },
   "file_extension": ".py",
   "mimetype": "text/x-python",
   "name": "python",
   "nbconvert_exporter": "python",
   "pygments_lexer": "ipython3",
   "version": "3.11.7"
  }
 },
 "nbformat": 4,
 "nbformat_minor": 2
}
