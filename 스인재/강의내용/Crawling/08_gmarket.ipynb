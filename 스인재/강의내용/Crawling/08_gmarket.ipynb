{
 "cells": [
  {
   "cell_type": "code",
   "execution_count": 1,
   "metadata": {},
   "outputs": [],
   "source": [
    "from selenium import webdriver as wb\n",
    "from selenium.webdriver.common.by import By\n",
    "#컴퓨터용 키보드 설치\n",
    "from selenium.webdriver.common.keys import Keys"
   ]
  },
  {
   "cell_type": "code",
   "execution_count": 2,
   "metadata": {},
   "outputs": [],
   "source": [
    "# 브라우저 실행\n",
    "driver = wb.Chrome()\n",
    "driver.get(\"https://www.gmarket.co.kr/n/best\")"
   ]
  },
  {
   "cell_type": "code",
   "execution_count": 5,
   "metadata": {},
   "outputs": [],
   "source": [
    "# 2. 첫번째 상품을 클릭\n",
    "# 선택자를 수정할 때 반드시 id와 nth-child() 수정해야 함.\n",
    "# 맨앞에 아이디가 오는경우 -> 영역을 구분하는 선택자. 굳이 삭제하지 않아도 상관 없다.\n",
    "# nth-child() -> tr태그와 li태그에서 가장 많이 등장한다.\n",
    "img = driver.find_elements(By.CSS_SELECTOR,\"#gBestWrap > div.best-list > ul > li > div.thumb > a > img\")\n",
    "img[0].click()"
   ]
  },
  {
   "cell_type": "code",
   "execution_count": 8,
   "metadata": {},
   "outputs": [
    {
     "data": {
      "text/plain": [
       "'(유니버스클럽 전용 쿠폰적용가 5천원) 메가박스 일반예매권 2D-주중/주말'"
      ]
     },
     "execution_count": 8,
     "metadata": {},
     "output_type": "execute_result"
    }
   ],
   "source": [
    "# 3. 상품명, 가격정보 수집.\n",
    "item_name = driver.find_element(By.CSS_SELECTOR,\"#itemcase_basic > div > h1\")\n",
    "item_name.text\n"
   ]
  },
  {
   "cell_type": "code",
   "execution_count": 9,
   "metadata": {},
   "outputs": [
    {
     "data": {
      "text/plain": [
       "'15,000원'"
      ]
     },
     "execution_count": 9,
     "metadata": {},
     "output_type": "execute_result"
    }
   ],
   "source": [
    "price = driver.find_element(By.CSS_SELECTOR,\"#itemcase_basic > div > div.price > span.price_innerwrap > strong\")\n",
    "price.text"
   ]
  },
  {
   "cell_type": "code",
   "execution_count": 10,
   "metadata": {},
   "outputs": [],
   "source": [
    "driver.back()"
   ]
  },
  {
   "cell_type": "code",
   "execution_count": 13,
   "metadata": {},
   "outputs": [],
   "source": [
    "# 반복문을 통해서 10개상품 수집\n",
    "# 페이지가 변하면(새로운 페이지가 로딩되면) 기존 데이터를 다 잊어버린다.\n",
    "title_list = []\n",
    "price_list = []\n",
    "for i in range(10):\n",
    "    img = driver.find_elements(By.CSS_SELECTOR,\"#gBestWrap > div.best-list > ul > li > div.thumb > a > img\")\n",
    "    img[i].click()\n",
    "    # 데이터 수집\n",
    "    title = driver.find_element(By.CSS_SELECTOR,\"#itemcase_basic > div > h1\")\n",
    "    try:\n",
    "        price = driver.find_element(By.CSS_SELECTOR,\"#itemcase_basic > div.box__item-title > div.price > span.price_innerwrap.price_innerwrap-coupon > strong\")\n",
    "    except:\n",
    "        price = driver.find_element(By.CSS_SELECTOR,\"#itemcase_basic > div > div.price > span.price_innerwrap > strong\")\n",
    "    \n",
    "    # 데이터 가공\n",
    "    title_list.append(title.text)\n",
    "    price_list.append(price.text)\n",
    "    driver.back()"
   ]
  },
  {
   "cell_type": "code",
   "execution_count": 14,
   "metadata": {},
   "outputs": [
    {
     "name": "stdout",
     "output_type": "stream",
     "text": [
      "['(유니버스클럽 전용 쿠폰적용가 5천원) 메가박스 일반예매권 2D-주중/주말', '하남쭈꾸미쭈꾸미볶음 500g 3팩', '웨스트우드 SS BEST 바람막이/집업/티셔츠/자켓/등산바지/반팔티/조끼/팬츠 모음전', '지케이라이프 제주돼지 돈까스 (등심8+치즈2+소스10)', '(최초가490000원)남여공용 수지 씬에어 LONG 다운 KUW22569', '더미식 백미밥 210g 24개 + 하림 닭육수 쌀라면 4개 증정', '잘풀리는집 순수PURE천연펄프 25m 30롤 x 3팩 휴지 (무형광 안심제품)', '(무료반품)((10%/모노시크))여름신상/티셔츠/맨투맨/니트/가디건/남방/블라우스/세트/팬츠/스커트/트레이닝', '영양찰떡40개 45gX40개 아침식사대용 선물세트 (어버이날 카네이션 감사카드 동봉)', '착한낙지 매콤~칼칼 착한낙지 135g x 6팩+비법소스 6팩']\n",
      "['15,000원', '27,920원', '9,750원', '26,320원', '114,960원', '20,970원', '25,610원', '12,960원', '25,900원', '21,520원']\n"
     ]
    }
   ],
   "source": [
    "print(title_list)\n",
    "print(price_list)"
   ]
  },
  {
   "cell_type": "code",
   "execution_count": 17,
   "metadata": {},
   "outputs": [],
   "source": [
    "import pandas as pd"
   ]
  },
  {
   "cell_type": "code",
   "execution_count": 18,
   "metadata": {},
   "outputs": [
    {
     "data": {
      "text/html": [
       "<div>\n",
       "<style scoped>\n",
       "    .dataframe tbody tr th:only-of-type {\n",
       "        vertical-align: middle;\n",
       "    }\n",
       "\n",
       "    .dataframe tbody tr th {\n",
       "        vertical-align: top;\n",
       "    }\n",
       "\n",
       "    .dataframe thead th {\n",
       "        text-align: right;\n",
       "    }\n",
       "</style>\n",
       "<table border=\"1\" class=\"dataframe\">\n",
       "  <thead>\n",
       "    <tr style=\"text-align: right;\">\n",
       "      <th></th>\n",
       "      <th>상품명</th>\n",
       "      <th>상품가격</th>\n",
       "    </tr>\n",
       "  </thead>\n",
       "  <tbody>\n",
       "    <tr>\n",
       "      <th>0</th>\n",
       "      <td>(유니버스클럽 전용 쿠폰적용가 5천원) 메가박스 일반예매권 2D-주중/주말</td>\n",
       "      <td>15,000원</td>\n",
       "    </tr>\n",
       "    <tr>\n",
       "      <th>1</th>\n",
       "      <td>하남쭈꾸미쭈꾸미볶음 500g 3팩</td>\n",
       "      <td>27,920원</td>\n",
       "    </tr>\n",
       "    <tr>\n",
       "      <th>2</th>\n",
       "      <td>웨스트우드 SS BEST 바람막이/집업/티셔츠/자켓/등산바지/반팔티/조끼/팬츠 모음전</td>\n",
       "      <td>9,750원</td>\n",
       "    </tr>\n",
       "    <tr>\n",
       "      <th>3</th>\n",
       "      <td>지케이라이프 제주돼지 돈까스 (등심8+치즈2+소스10)</td>\n",
       "      <td>26,320원</td>\n",
       "    </tr>\n",
       "    <tr>\n",
       "      <th>4</th>\n",
       "      <td>(최초가490000원)남여공용 수지 씬에어 LONG 다운 KUW22569</td>\n",
       "      <td>114,960원</td>\n",
       "    </tr>\n",
       "    <tr>\n",
       "      <th>5</th>\n",
       "      <td>더미식 백미밥 210g 24개 + 하림 닭육수 쌀라면 4개 증정</td>\n",
       "      <td>20,970원</td>\n",
       "    </tr>\n",
       "    <tr>\n",
       "      <th>6</th>\n",
       "      <td>잘풀리는집 순수PURE천연펄프 25m 30롤 x 3팩 휴지 (무형광 안심제품)</td>\n",
       "      <td>25,610원</td>\n",
       "    </tr>\n",
       "    <tr>\n",
       "      <th>7</th>\n",
       "      <td>(무료반품)((10%/모노시크))여름신상/티셔츠/맨투맨/니트/가디건/남방/블라우스/...</td>\n",
       "      <td>12,960원</td>\n",
       "    </tr>\n",
       "    <tr>\n",
       "      <th>8</th>\n",
       "      <td>영양찰떡40개 45gX40개 아침식사대용 선물세트 (어버이날 카네이션 감사카드 동봉)</td>\n",
       "      <td>25,900원</td>\n",
       "    </tr>\n",
       "    <tr>\n",
       "      <th>9</th>\n",
       "      <td>착한낙지 매콤~칼칼 착한낙지 135g x 6팩+비법소스 6팩</td>\n",
       "      <td>21,520원</td>\n",
       "    </tr>\n",
       "  </tbody>\n",
       "</table>\n",
       "</div>"
      ],
      "text/plain": [
       "                                                 상품명      상품가격\n",
       "0          (유니버스클럽 전용 쿠폰적용가 5천원) 메가박스 일반예매권 2D-주중/주말   15,000원\n",
       "1                                 하남쭈꾸미쭈꾸미볶음 500g 3팩   27,920원\n",
       "2    웨스트우드 SS BEST 바람막이/집업/티셔츠/자켓/등산바지/반팔티/조끼/팬츠 모음전    9,750원\n",
       "3                     지케이라이프 제주돼지 돈까스 (등심8+치즈2+소스10)   26,320원\n",
       "4           (최초가490000원)남여공용 수지 씬에어 LONG 다운 KUW22569  114,960원\n",
       "5                더미식 백미밥 210g 24개 + 하림 닭육수 쌀라면 4개 증정   20,970원\n",
       "6        잘풀리는집 순수PURE천연펄프 25m 30롤 x 3팩 휴지 (무형광 안심제품)   25,610원\n",
       "7  (무료반품)((10%/모노시크))여름신상/티셔츠/맨투맨/니트/가디건/남방/블라우스/...   12,960원\n",
       "8    영양찰떡40개 45gX40개 아침식사대용 선물세트 (어버이날 카네이션 감사카드 동봉)   25,900원\n",
       "9                  착한낙지 매콤~칼칼 착한낙지 135g x 6팩+비법소스 6팩   21,520원"
      ]
     },
     "execution_count": 18,
     "metadata": {},
     "output_type": "execute_result"
    }
   ],
   "source": [
    "g_market = pd.DataFrame({\"상품명\":title_list,\"상품가격\":price_list})\n",
    "g_market"
   ]
  },
  {
   "cell_type": "code",
   "execution_count": 19,
   "metadata": {},
   "outputs": [],
   "source": [
    "g_market.to_csv('G마켓.csv',index=False,encoding='utf-8')"
   ]
  },
  {
   "cell_type": "code",
   "execution_count": null,
   "metadata": {},
   "outputs": [],
   "source": [
    "# 전체 통합\n",
    "driver = wb.Chrome()\n",
    "driver.get(\"https://www.gmarket.co.kr/n/best\")\n",
    "\n",
    "titleList = []\n",
    "priceList = []\n",
    "for i in range(10) :\n",
    "    img = driver.find_elements(By.CSS_SELECTOR,\"#gBestWrap > div.best-list > ul > li > div.thumb > a > img\")\n",
    "    img[i].click()\n",
    "    # 데이터 수집 부분\n",
    "    title = driver.find_element(By.CSS_SELECTOR,\"#itemcase_basic > div > h1\")\n",
    "    try :\n",
    "        price = driver.find_element(By.CSS_SELECTOR,\"#itemcase_basic > div.box__item-title > div.price > span.price_innerwrap.price_innerwrap-coupon > strong\")\n",
    "    except :\n",
    "        price = driver.find_element(By.CSS_SELECTOR,\"#itemcase_basic > div > div.price > span.price_innerwrap > strong\")\n",
    "    \n",
    "    # 데이터 가공 부분\n",
    "    titleList.append(title.text)\n",
    "    priceList.append(price.text)\n",
    "    \n",
    "    driver.back()\n",
    "    \n",
    "dic = {\"상품명\" : titleList, \"가격\" : priceList}\n",
    "gmarket = pd.DataFrame(dic)\n",
    "gmarket.to_csv(\"지마켓.csv\",encoding=\"utf-8\")"
   ]
  },
  {
   "cell_type": "code",
   "execution_count": null,
   "metadata": {},
   "outputs": [],
   "source": [
    "#시간부여 방법2가지\n",
    "# 1. time\n",
    "# 2. selenium 기본적으로 시간부여하는 함수\n",
    "# time은 무조건 정해진 시간만큼 시간을 부여\n",
    "# impli -> 시간을 정해놔도 스스로 통신이 끝났다고 판단하면 시간을 지워버린다.\n",
    "import time"
   ]
  },
  {
   "cell_type": "code",
   "execution_count": null,
   "metadata": {},
   "outputs": [],
   "source": [
    "time.sleep(10)\n",
    "driver.implicitly_wait(10)"
   ]
  },
  {
   "cell_type": "markdown",
   "metadata": {},
   "source": [
    "### 해당 실습에서 학습한 내용\n",
    "1. time.sleep()을 통해서 적절하게 시간 부여 -> 클라가 서버에게 요청을 할 때마다\n",
    "2. 반복문을 작성할 때는 for를 먼저 적는게 아니고, 반복할 문장을 작성 후 for로 감싸주기\n",
    "3. 데이터 수집 할 때, 데이터의 태그가 바뀐다면 try,except를 통해 처리\n",
    "4. 페이지 전체가 변한다면, 컴퓨터는 기억을 초기화시킨다."
   ]
  }
 ],
 "metadata": {
  "kernelspec": {
   "display_name": "base",
   "language": "python",
   "name": "python3"
  },
  "language_info": {
   "codemirror_mode": {
    "name": "ipython",
    "version": 3
   },
   "file_extension": ".py",
   "mimetype": "text/x-python",
   "name": "python",
   "nbconvert_exporter": "python",
   "pygments_lexer": "ipython3",
   "version": "3.11.7"
  }
 },
 "nbformat": 4,
 "nbformat_minor": 2
}
