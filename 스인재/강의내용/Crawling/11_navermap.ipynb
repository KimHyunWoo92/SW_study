{
 "cells": [
  {
   "cell_type": "code",
   "execution_count": 3,
   "metadata": {},
   "outputs": [],
   "source": [
    "from selenium import webdriver as wb\n",
    "from selenium.webdriver.common.by import By\n",
    "from selenium.webdriver.common.keys import Keys\n",
    "from selenium.webdriver.common.action_chains import ActionChains\n",
    "\n",
    "\n",
    "import time"
   ]
  },
  {
   "cell_type": "code",
   "execution_count": 6,
   "metadata": {},
   "outputs": [],
   "source": [
    "driver = wb.Chrome()\n",
    "driver.get(\"https://map.naver.com/p/\")"
   ]
  },
  {
   "cell_type": "code",
   "execution_count": null,
   "metadata": {},
   "outputs": [],
   "source": [
    "#검색창에 동명동 맛집, 엔터를 검색\n",
    "actions = ActionChains(driver)"
   ]
  },
  {
   "cell_type": "code",
   "execution_count": 7,
   "metadata": {},
   "outputs": [],
   "source": [
    "#검색창의 id가매번 변경된다 -> 클래스 활용\n",
    "search = driver.find_element(By.CSS_SELECTOR,\".input_search\")\n",
    "search.send_keys(\"동명동 맛집\")\n",
    "time.sleep(0.5)\n",
    "search.send_keys(Keys.ENTER)\n"
   ]
  },
  {
   "cell_type": "code",
   "execution_count": 16,
   "metadata": {},
   "outputs": [
    {
     "data": {
      "text/plain": [
       "'한우곱창집 동명동 본점'"
      ]
     },
     "execution_count": 16,
     "metadata": {},
     "output_type": "execute_result"
    }
   ],
   "source": [
    "# 2.가게명 수집(복수) ->첫번째 가게 클릭\n",
    "title = driver.find_elements(By.CSS_SELECTOR,\"#_pcmap_list_scroll_container > ul > li > div.CHC5F > a > div > div > span.place_bluelink.TYaxT\")\n",
    "title[0].text"
   ]
  },
  {
   "cell_type": "code",
   "execution_count": 10,
   "metadata": {},
   "outputs": [],
   "source": [
    "#접근이 불가능한 이유는 iframe때문에 접근 불가\n",
    "#컴퓨터에게 지금 데이터를 iframe로 변경\n",
    "#너가 보고있는 데이터를 변경해 프레임으로\n",
    "#selenium에서 frame으로 변경하려면 switch_to.frame(\"iframe 위치\") 사용\n",
    "driver.switch_to.frame(\"searchIframe\")"
   ]
  },
  {
   "cell_type": "code",
   "execution_count": 18,
   "metadata": {},
   "outputs": [],
   "source": [
    "title[0].click()"
   ]
  },
  {
   "cell_type": "code",
   "execution_count": 19,
   "metadata": {},
   "outputs": [
    {
     "ename": "NoSuchFrameException",
     "evalue": "Message: entryIframe\n",
     "output_type": "error",
     "traceback": [
      "\u001b[1;31m---------------------------------------------------------------------------\u001b[0m",
      "\u001b[1;31mNoSuchElementException\u001b[0m                    Traceback (most recent call last)",
      "File \u001b[1;32mc:\\Users\\SMHRD\\anaconda3\\Lib\\site-packages\\selenium\\webdriver\\remote\\switch_to.py:88\u001b[0m, in \u001b[0;36mSwitchTo.frame\u001b[1;34m(self, frame_reference)\u001b[0m\n\u001b[0;32m     87\u001b[0m \u001b[38;5;28;01mtry\u001b[39;00m:\n\u001b[1;32m---> 88\u001b[0m     frame_reference \u001b[38;5;241m=\u001b[39m \u001b[38;5;28mself\u001b[39m\u001b[38;5;241m.\u001b[39m_driver\u001b[38;5;241m.\u001b[39mfind_element(By\u001b[38;5;241m.\u001b[39mID, frame_reference)\n\u001b[0;32m     89\u001b[0m \u001b[38;5;28;01mexcept\u001b[39;00m NoSuchElementException:\n",
      "File \u001b[1;32mc:\\Users\\SMHRD\\anaconda3\\Lib\\site-packages\\selenium\\webdriver\\remote\\webdriver.py:741\u001b[0m, in \u001b[0;36mWebDriver.find_element\u001b[1;34m(self, by, value)\u001b[0m\n\u001b[0;32m    739\u001b[0m     value \u001b[38;5;241m=\u001b[39m \u001b[38;5;124mf\u001b[39m\u001b[38;5;124m'\u001b[39m\u001b[38;5;124m[name=\u001b[39m\u001b[38;5;124m\"\u001b[39m\u001b[38;5;132;01m{\u001b[39;00mvalue\u001b[38;5;132;01m}\u001b[39;00m\u001b[38;5;124m\"\u001b[39m\u001b[38;5;124m]\u001b[39m\u001b[38;5;124m'\u001b[39m\n\u001b[1;32m--> 741\u001b[0m \u001b[38;5;28;01mreturn\u001b[39;00m \u001b[38;5;28mself\u001b[39m\u001b[38;5;241m.\u001b[39mexecute(Command\u001b[38;5;241m.\u001b[39mFIND_ELEMENT, {\u001b[38;5;124m\"\u001b[39m\u001b[38;5;124musing\u001b[39m\u001b[38;5;124m\"\u001b[39m: by, \u001b[38;5;124m\"\u001b[39m\u001b[38;5;124mvalue\u001b[39m\u001b[38;5;124m\"\u001b[39m: value})[\u001b[38;5;124m\"\u001b[39m\u001b[38;5;124mvalue\u001b[39m\u001b[38;5;124m\"\u001b[39m]\n",
      "File \u001b[1;32mc:\\Users\\SMHRD\\anaconda3\\Lib\\site-packages\\selenium\\webdriver\\remote\\webdriver.py:347\u001b[0m, in \u001b[0;36mWebDriver.execute\u001b[1;34m(self, driver_command, params)\u001b[0m\n\u001b[0;32m    346\u001b[0m \u001b[38;5;28;01mif\u001b[39;00m response:\n\u001b[1;32m--> 347\u001b[0m     \u001b[38;5;28mself\u001b[39m\u001b[38;5;241m.\u001b[39merror_handler\u001b[38;5;241m.\u001b[39mcheck_response(response)\n\u001b[0;32m    348\u001b[0m     response[\u001b[38;5;124m\"\u001b[39m\u001b[38;5;124mvalue\u001b[39m\u001b[38;5;124m\"\u001b[39m] \u001b[38;5;241m=\u001b[39m \u001b[38;5;28mself\u001b[39m\u001b[38;5;241m.\u001b[39m_unwrap_value(response\u001b[38;5;241m.\u001b[39mget(\u001b[38;5;124m\"\u001b[39m\u001b[38;5;124mvalue\u001b[39m\u001b[38;5;124m\"\u001b[39m, \u001b[38;5;28;01mNone\u001b[39;00m))\n",
      "File \u001b[1;32mc:\\Users\\SMHRD\\anaconda3\\Lib\\site-packages\\selenium\\webdriver\\remote\\errorhandler.py:229\u001b[0m, in \u001b[0;36mErrorHandler.check_response\u001b[1;34m(self, response)\u001b[0m\n\u001b[0;32m    228\u001b[0m     \u001b[38;5;28;01mraise\u001b[39;00m exception_class(message, screen, stacktrace, alert_text)  \u001b[38;5;66;03m# type: ignore[call-arg]  # mypy is not smart enough here\u001b[39;00m\n\u001b[1;32m--> 229\u001b[0m \u001b[38;5;28;01mraise\u001b[39;00m exception_class(message, screen, stacktrace)\n",
      "\u001b[1;31mNoSuchElementException\u001b[0m: Message: no such element: Unable to locate element: {\"method\":\"css selector\",\"selector\":\"[id=\"entryIframe\"]\"}\n  (Session info: chrome=124.0.6367.119); For documentation on this error, please visit: https://www.selenium.dev/documentation/webdriver/troubleshooting/errors#no-such-element-exception\nStacktrace:\n\tGetHandleVerifier [0x00007FF71DFD1502+60802]\n\t(No symbol) [0x00007FF71DF4AC02]\n\t(No symbol) [0x00007FF71DE07CE4]\n\t(No symbol) [0x00007FF71DE56D4D]\n\t(No symbol) [0x00007FF71DE56E1C]\n\t(No symbol) [0x00007FF71DE9CE37]\n\t(No symbol) [0x00007FF71DE7ABBF]\n\t(No symbol) [0x00007FF71DE9A224]\n\t(No symbol) [0x00007FF71DE7A923]\n\t(No symbol) [0x00007FF71DE48FEC]\n\t(No symbol) [0x00007FF71DE49C21]\n\tGetHandleVerifier [0x00007FF71E2D411D+3217821]\n\tGetHandleVerifier [0x00007FF71E3160B7+3488055]\n\tGetHandleVerifier [0x00007FF71E30F03F+3459263]\n\tGetHandleVerifier [0x00007FF71E08B846+823494]\n\t(No symbol) [0x00007FF71DF55F9F]\n\t(No symbol) [0x00007FF71DF50EC4]\n\t(No symbol) [0x00007FF71DF51052]\n\t(No symbol) [0x00007FF71DF418A4]\n\tBaseThreadInitThunk [0x00007FFD91027344+20]\n\tRtlUserThreadStart [0x00007FFD911626B1+33]\n",
      "\nDuring handling of the above exception, another exception occurred:\n",
      "\u001b[1;31mNoSuchElementException\u001b[0m                    Traceback (most recent call last)",
      "File \u001b[1;32mc:\\Users\\SMHRD\\anaconda3\\Lib\\site-packages\\selenium\\webdriver\\remote\\switch_to.py:91\u001b[0m, in \u001b[0;36mSwitchTo.frame\u001b[1;34m(self, frame_reference)\u001b[0m\n\u001b[0;32m     90\u001b[0m \u001b[38;5;28;01mtry\u001b[39;00m:\n\u001b[1;32m---> 91\u001b[0m     frame_reference \u001b[38;5;241m=\u001b[39m \u001b[38;5;28mself\u001b[39m\u001b[38;5;241m.\u001b[39m_driver\u001b[38;5;241m.\u001b[39mfind_element(By\u001b[38;5;241m.\u001b[39mNAME, frame_reference)\n\u001b[0;32m     92\u001b[0m \u001b[38;5;28;01mexcept\u001b[39;00m NoSuchElementException \u001b[38;5;28;01mas\u001b[39;00m exc:\n",
      "File \u001b[1;32mc:\\Users\\SMHRD\\anaconda3\\Lib\\site-packages\\selenium\\webdriver\\remote\\webdriver.py:741\u001b[0m, in \u001b[0;36mWebDriver.find_element\u001b[1;34m(self, by, value)\u001b[0m\n\u001b[0;32m    739\u001b[0m     value \u001b[38;5;241m=\u001b[39m \u001b[38;5;124mf\u001b[39m\u001b[38;5;124m'\u001b[39m\u001b[38;5;124m[name=\u001b[39m\u001b[38;5;124m\"\u001b[39m\u001b[38;5;132;01m{\u001b[39;00mvalue\u001b[38;5;132;01m}\u001b[39;00m\u001b[38;5;124m\"\u001b[39m\u001b[38;5;124m]\u001b[39m\u001b[38;5;124m'\u001b[39m\n\u001b[1;32m--> 741\u001b[0m \u001b[38;5;28;01mreturn\u001b[39;00m \u001b[38;5;28mself\u001b[39m\u001b[38;5;241m.\u001b[39mexecute(Command\u001b[38;5;241m.\u001b[39mFIND_ELEMENT, {\u001b[38;5;124m\"\u001b[39m\u001b[38;5;124musing\u001b[39m\u001b[38;5;124m\"\u001b[39m: by, \u001b[38;5;124m\"\u001b[39m\u001b[38;5;124mvalue\u001b[39m\u001b[38;5;124m\"\u001b[39m: value})[\u001b[38;5;124m\"\u001b[39m\u001b[38;5;124mvalue\u001b[39m\u001b[38;5;124m\"\u001b[39m]\n",
      "File \u001b[1;32mc:\\Users\\SMHRD\\anaconda3\\Lib\\site-packages\\selenium\\webdriver\\remote\\webdriver.py:347\u001b[0m, in \u001b[0;36mWebDriver.execute\u001b[1;34m(self, driver_command, params)\u001b[0m\n\u001b[0;32m    346\u001b[0m \u001b[38;5;28;01mif\u001b[39;00m response:\n\u001b[1;32m--> 347\u001b[0m     \u001b[38;5;28mself\u001b[39m\u001b[38;5;241m.\u001b[39merror_handler\u001b[38;5;241m.\u001b[39mcheck_response(response)\n\u001b[0;32m    348\u001b[0m     response[\u001b[38;5;124m\"\u001b[39m\u001b[38;5;124mvalue\u001b[39m\u001b[38;5;124m\"\u001b[39m] \u001b[38;5;241m=\u001b[39m \u001b[38;5;28mself\u001b[39m\u001b[38;5;241m.\u001b[39m_unwrap_value(response\u001b[38;5;241m.\u001b[39mget(\u001b[38;5;124m\"\u001b[39m\u001b[38;5;124mvalue\u001b[39m\u001b[38;5;124m\"\u001b[39m, \u001b[38;5;28;01mNone\u001b[39;00m))\n",
      "File \u001b[1;32mc:\\Users\\SMHRD\\anaconda3\\Lib\\site-packages\\selenium\\webdriver\\remote\\errorhandler.py:229\u001b[0m, in \u001b[0;36mErrorHandler.check_response\u001b[1;34m(self, response)\u001b[0m\n\u001b[0;32m    228\u001b[0m     \u001b[38;5;28;01mraise\u001b[39;00m exception_class(message, screen, stacktrace, alert_text)  \u001b[38;5;66;03m# type: ignore[call-arg]  # mypy is not smart enough here\u001b[39;00m\n\u001b[1;32m--> 229\u001b[0m \u001b[38;5;28;01mraise\u001b[39;00m exception_class(message, screen, stacktrace)\n",
      "\u001b[1;31mNoSuchElementException\u001b[0m: Message: no such element: Unable to locate element: {\"method\":\"css selector\",\"selector\":\"[name=\"entryIframe\"]\"}\n  (Session info: chrome=124.0.6367.119); For documentation on this error, please visit: https://www.selenium.dev/documentation/webdriver/troubleshooting/errors#no-such-element-exception\nStacktrace:\n\tGetHandleVerifier [0x00007FF71DFD1502+60802]\n\t(No symbol) [0x00007FF71DF4AC02]\n\t(No symbol) [0x00007FF71DE07CE4]\n\t(No symbol) [0x00007FF71DE56D4D]\n\t(No symbol) [0x00007FF71DE56E1C]\n\t(No symbol) [0x00007FF71DE9CE37]\n\t(No symbol) [0x00007FF71DE7ABBF]\n\t(No symbol) [0x00007FF71DE9A224]\n\t(No symbol) [0x00007FF71DE7A923]\n\t(No symbol) [0x00007FF71DE48FEC]\n\t(No symbol) [0x00007FF71DE49C21]\n\tGetHandleVerifier [0x00007FF71E2D411D+3217821]\n\tGetHandleVerifier [0x00007FF71E3160B7+3488055]\n\tGetHandleVerifier [0x00007FF71E30F03F+3459263]\n\tGetHandleVerifier [0x00007FF71E08B846+823494]\n\t(No symbol) [0x00007FF71DF55F9F]\n\t(No symbol) [0x00007FF71DF50EC4]\n\t(No symbol) [0x00007FF71DF51052]\n\t(No symbol) [0x00007FF71DF418A4]\n\tBaseThreadInitThunk [0x00007FFD91027344+20]\n\tRtlUserThreadStart [0x00007FFD911626B1+33]\n",
      "\nThe above exception was the direct cause of the following exception:\n",
      "\u001b[1;31mNoSuchFrameException\u001b[0m                      Traceback (most recent call last)",
      "Cell \u001b[1;32mIn[19], line 1\u001b[0m\n\u001b[1;32m----> 1\u001b[0m driver\u001b[38;5;241m.\u001b[39mswitch_to\u001b[38;5;241m.\u001b[39mframe(\u001b[38;5;124m\"\u001b[39m\u001b[38;5;124mentryIframe\u001b[39m\u001b[38;5;124m\"\u001b[39m)\n",
      "File \u001b[1;32mc:\\Users\\SMHRD\\anaconda3\\Lib\\site-packages\\selenium\\webdriver\\remote\\switch_to.py:93\u001b[0m, in \u001b[0;36mSwitchTo.frame\u001b[1;34m(self, frame_reference)\u001b[0m\n\u001b[0;32m     91\u001b[0m             frame_reference \u001b[38;5;241m=\u001b[39m \u001b[38;5;28mself\u001b[39m\u001b[38;5;241m.\u001b[39m_driver\u001b[38;5;241m.\u001b[39mfind_element(By\u001b[38;5;241m.\u001b[39mNAME, frame_reference)\n\u001b[0;32m     92\u001b[0m         \u001b[38;5;28;01mexcept\u001b[39;00m NoSuchElementException \u001b[38;5;28;01mas\u001b[39;00m exc:\n\u001b[1;32m---> 93\u001b[0m             \u001b[38;5;28;01mraise\u001b[39;00m NoSuchFrameException(frame_reference) \u001b[38;5;28;01mfrom\u001b[39;00m \u001b[38;5;21;01mexc\u001b[39;00m\n\u001b[0;32m     95\u001b[0m \u001b[38;5;28mself\u001b[39m\u001b[38;5;241m.\u001b[39m_driver\u001b[38;5;241m.\u001b[39mexecute(Command\u001b[38;5;241m.\u001b[39mSWITCH_TO_FRAME, {\u001b[38;5;124m\"\u001b[39m\u001b[38;5;124mid\u001b[39m\u001b[38;5;124m\"\u001b[39m: frame_reference})\n",
      "\u001b[1;31mNoSuchFrameException\u001b[0m: Message: entryIframe\n"
     ]
    }
   ],
   "source": [
    "# iframe에서 다른 iframe으로 이동이 불가 : 서로 독립적인 페이지\n",
    "# 원본에 한번 갔다가 다른 iframe으로 이동해야함.\n",
    "driver.switch_to.frame(\"entryIframe\")\n",
    "\n"
   ]
  },
  {
   "cell_type": "code",
   "execution_count": 20,
   "metadata": {},
   "outputs": [],
   "source": [
    "# iframe에서 다른 iframe으로 이동이 불가 : 서로 독립적인 페이지\n",
    "# 원본에 한번 갔다가 다른 iframe으로 이동해야함.\n",
    "# 브라우저야 원본으로 이동해줘\n",
    "driver.switch_to.default_content()"
   ]
  },
  {
   "cell_type": "code",
   "execution_count": 21,
   "metadata": {},
   "outputs": [],
   "source": [
    "driver.switch_to.frame(\"entryIframe\")"
   ]
  },
  {
   "cell_type": "code",
   "execution_count": 24,
   "metadata": {},
   "outputs": [
    {
     "data": {
      "text/plain": [
       "'한우곱창집 동명동 본점'"
      ]
     },
     "execution_count": 24,
     "metadata": {},
     "output_type": "execute_result"
    }
   ],
   "source": [
    "#가게 이름 수집 텍스트만 출력\n",
    "storeName = driver.find_element(By.CSS_SELECTOR,\"#_title > div > span.Fc1rA\")\n",
    "storeName.text"
   ]
  },
  {
   "cell_type": "markdown",
   "metadata": {},
   "source": [
    "#### 예제에서 학습한 내용\n",
    "1) 선택자가 변경되는 경우 (다른 대체 수단을 활용 id,class,계층선택자)\n",
    "    - 계층선택자 -> 반드시 부모태그가 구분자(id,class)가 있을 때 까지 검사 후 자식선택자를 활용(>)\n",
    "\n",
    "2) 데이터가 눈에 보이는데 수집이 안되는 경우, 반드시 3가지를 의심해라\n",
    "    - 선택자가 문제 있는 경우\n",
    "    - iframe 검사\n",
    "    - 차단당한 경우(해결불가)\n",
    "\n",
    "3) selenium에서 iframe으로 이동하는 방법\n",
    "    - 원본에서 iframe으로 이동하려면, driver.switch_to.frame(\"frame id or 선택자\")\n",
    "    - 주의점! frame to frame 이동이 불가능\n",
    "    - 원본에 이동 후, 다른 iframe으로 이동, driver.switch_to.default_content()"
   ]
  },
  {
   "cell_type": "code",
   "execution_count": null,
   "metadata": {},
   "outputs": [],
   "source": []
  }
 ],
 "metadata": {
  "kernelspec": {
   "display_name": "base",
   "language": "python",
   "name": "python3"
  },
  "language_info": {
   "codemirror_mode": {
    "name": "ipython",
    "version": 3
   },
   "file_extension": ".py",
   "mimetype": "text/x-python",
   "name": "python",
   "nbconvert_exporter": "python",
   "pygments_lexer": "ipython3",
   "version": "3.11.7"
  }
 },
 "nbformat": 4,
 "nbformat_minor": 2
}
