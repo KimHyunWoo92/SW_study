{
 "cells": [
  {
   "cell_type": "code",
   "execution_count": 2,
   "metadata": {},
   "outputs": [],
   "source": [
    "from selenium import webdriver as wb\n",
    "from selenium.webdriver.common.by import By\n",
    "from selenium.webdriver.common.keys import Keys\n",
    "# 파일 시스템을 위한 라이브러리(생성, 삭제..)\n",
    "import os\n",
    "\n",
    "# 이미지 url값을 실제 이미지로 변환 라이브러리\n",
    "from urllib.request import urlretrieve"
   ]
  },
  {
   "cell_type": "code",
   "execution_count": 3,
   "metadata": {},
   "outputs": [],
   "source": [
    "# 바탕화면에 폴더를 생성\n",
    "# 바탕화면에 이미지폴더가 없다면, 바탕화면에 이미지폴더를 생성해줘\n",
    "if not os.path.isdir(\"C:/Users/SMHRD/Desktop/이미지\"):\n",
    "    os.mkdir(\"C:/Users/SMHRD/Desktop/이미지\")"
   ]
  },
  {
   "cell_type": "code",
   "execution_count": 6,
   "metadata": {},
   "outputs": [],
   "source": [
    "driver = wb.Chrome()\n",
    "driver.get(\"https://search.naver.com/search.naver?ssc=tab.image.all&where=image&sm=tab_jum&query=%EC%96%91%ED%98%84%EC%A2%85\")"
   ]
  },
  {
   "cell_type": "code",
   "execution_count": 10,
   "metadata": {},
   "outputs": [],
   "source": [
    "#1.이미지 태그 수집\n",
    "img = driver.find_elements(By.CSS_SELECTOR,\"#main_pack > section.sc_new.sp_nimage._fe_image_viewer_prepend_target > div.api_subject_bx._fe_image_tab_list_root.ani_fadein > div > div > div.image_tile._fe_image_tab_grid > div > div > div > div > img\")"
   ]
  },
  {
   "cell_type": "code",
   "execution_count": 8,
   "metadata": {},
   "outputs": [
    {
     "data": {
      "text/plain": [
       "'https://search.pstatic.net/common/?src=http%3A%2F%2Fimgnews.naver.net%2Fimage%2F001%2F2024%2F05%2F01%2FPYH2024050115450005400_P4_20240501204923942.jpg&type=a340'"
      ]
     },
     "execution_count": 8,
     "metadata": {},
     "output_type": "execute_result"
    }
   ],
   "source": [
    "# 속성을 조회할 때는 get_attribute(\"속성\")\n",
    "# 이미지태그 src, a태그 href\n",
    "img[0].get_attribute(\"src\")"
   ]
  },
  {
   "cell_type": "code",
   "execution_count": null,
   "metadata": {},
   "outputs": [],
   "source": [
    "# 이미지태그들의 src값만 저장\n",
    "src = []\n",
    "for i in range(len(img)):\n",
    "    src.append(img[i].get_attribute(\"src\"))\n",
    "print(src)"
   ]
  },
  {
   "cell_type": "code",
   "execution_count": 12,
   "metadata": {},
   "outputs": [],
   "source": [
    "#이미지의 경로를 실제 파일로 저장\n",
    "for i in range(len(src)):\n",
    "    urlretrieve(src[i],\"C:/Users/SMHRD/Desktop/이미지/\"+str(i)+\".jpg\")"
   ]
  },
  {
   "cell_type": "code",
   "execution_count": null,
   "metadata": {},
   "outputs": [],
   "source": []
  },
  {
   "cell_type": "code",
   "execution_count": null,
   "metadata": {},
   "outputs": [],
   "source": [
    "#화면의 스크롤을 맨 밑으로 내리는 방법\n",
    "body = driver.find_element(By.CSS_SELECTOR,\"body\")\n",
    "body.send_keys(Keys.END)"
   ]
  }
 ],
 "metadata": {
  "kernelspec": {
   "display_name": "base",
   "language": "python",
   "name": "python3"
  },
  "language_info": {
   "codemirror_mode": {
    "name": "ipython",
    "version": 3
   },
   "file_extension": ".py",
   "mimetype": "text/x-python",
   "name": "python",
   "nbconvert_exporter": "python",
   "pygments_lexer": "ipython3",
   "version": "3.11.7"
  }
 },
 "nbformat": 4,
 "nbformat_minor": 2
}
