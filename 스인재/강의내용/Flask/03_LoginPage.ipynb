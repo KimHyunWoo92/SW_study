{
 "cells": [
  {
   "cell_type": "markdown",
   "metadata": {},
   "source": [
    "#### HTML 문서:\n",
    "- index.html : 로그인 화면(아이디/패스워드입력, 로그인, 회원가입 버튼)\n",
    "- member.html : 회원가입 페이지(아이디, 패스워드, 이름 입력, 가입 버튼)\n",
    "- loginFail.html : 로그인 실패 페이지\n",
    "- main.html : 로그인 성공시 보이는 메인 페이지"
   ]
  },
  {
   "cell_type": "code",
   "execution_count": 1,
   "metadata": {},
   "outputs": [],
   "source": [
    "import cx_Oracle"
   ]
  },
  {
   "cell_type": "code",
   "execution_count": 15,
   "metadata": {},
   "outputs": [
    {
     "name": "stdout",
     "output_type": "stream",
     "text": [
      "Overwriting templates/index.html\n"
     ]
    }
   ],
   "source": [
    "%%writefile templates/index.html\n",
    "<html>\n",
    "<head>\n",
    "<script>\n",
    "function main() {\n",
    "    document.login.action = \"/main\";\n",
    "}\n",
    "function member() {\n",
    "    document.login.action = \"/member\";\n",
    "}\n",
    "</script>\n",
    "</head>\n",
    "<body>\n",
    "    <form name=\"login\" method='get'>\n",
    "        <table width=400>\n",
    "            <tr>\n",
    "                <td width = 100 align=\"center\">아이디 :</td>\n",
    "                <td><input type=\"text\" name=\"id\"></td>\n",
    "            </tr>\n",
    "            <tr>\n",
    "                <td align=\"center\">암호 : </td>\n",
    "                <td><input type=\"password\" name=\"pw\"></td>\n",
    "            </tr>\n",
    "            <tr>\n",
    "                <td colspan=2 align=\"center\">\n",
    "                <input type=\"submit\" value=\"로그인\" onclick=\"main()\">\n",
    "                <input type=\"submit\" value=\"회원가입\" onclick=\"member()\">\n",
    "                </td>\n",
    "            </tr>\n",
    "        </table>\n",
    "    </form>\n",
    "</body>\n",
    "</html>"
   ]
  },
  {
   "cell_type": "code",
   "execution_count": 3,
   "metadata": {},
   "outputs": [
    {
     "name": "stdout",
     "output_type": "stream",
     "text": [
      "Overwriting templates/index.html\n"
     ]
    }
   ],
   "source": [
    "%%writefile templates/index.html\n",
    "<html>\n",
    "<head>\n",
    "<script>\n",
    "function main() {\n",
    "    document.login.action = \"/main\";\n",
    "}\n",
    "function member() {\n",
    "    document.login.action = \"/member\";\n",
    "}\n",
    "</script>\n",
    "</head>\n",
    "<body>\n",
    "<form name=\"login\" method=\"get\">\n",
    "<table width=400>\n",
    "<tr><td width=100 align=\"center\">아이디</td>\n",
    "<td><input type=\"text\" name=\"id\"></td></tr>\n",
    "<tr><td align=\"center\">암호</td>\n",
    "<td><input type=\"password\" name=\"pw\"></td></tr>\n",
    "<tr><td colspan=2 align=\"center\">\n",
    "<input type=\"submit\" value=\"로그인\" onclick=\"main()\">\n",
    "<input type=\"submit\" value=\"회원가입\" onclick=\"member()\">\n",
    "</td><tr>\n",
    "</table>\n",
    "</form>\n",
    "</body>\n",
    "</html>"
   ]
  },
  {
   "cell_type": "markdown",
   "metadata": {},
   "source": [
    "###웹서버 실행"
   ]
  },
  {
   "cell_type": "code",
   "execution_count": 4,
   "metadata": {},
   "outputs": [
    {
     "name": "stdout",
     "output_type": "stream",
     "text": [
      " * Serving Flask app '__main__'\n",
      " * Debug mode: off\n"
     ]
    },
    {
     "name": "stderr",
     "output_type": "stream",
     "text": [
      "WARNING: This is a development server. Do not use it in a production deployment. Use a production WSGI server instead.\n",
      " * Running on http://119.200.31.173:9000\n",
      "Press CTRL+C to quit\n",
      "119.200.31.173 - - [02/May/2024 17:24:10] \"GET / HTTP/1.1\" 200 -\n",
      "119.200.31.173 - - [02/May/2024 17:24:10] \"GET /favicon.ico HTTP/1.1\" 404 -\n",
      "119.200.31.173 - - [02/May/2024 17:24:24] \"POST /main HTTP/1.1\" 200 -\n"
     ]
    },
    {
     "name": "stdout",
     "output_type": "stream",
     "text": [
      "DB연결 성공\n",
      "('A1112', '23456', '고길동')\n",
      "DB연동 종료\n"
     ]
    }
   ],
   "source": [
    "from flask import Flask,render_template,request\n",
    "import DB_Control as dc\n",
    "\n",
    "app = Flask(__name__)\n",
    "\n",
    "@app.route(\"/\")\n",
    "def index():\n",
    "    return render_template(\"index.html\")\n",
    "\n",
    "@app.route(\"/main\", methods=[\"post\"])\n",
    "def main():\n",
    "    id_val = request.form[\"id\"]\n",
    "    pw_val = request.form[\"pw\"]\n",
    "\n",
    "    #DB연결\n",
    "    conn, cur = dc.db_conn(\"hr\",\"12345\",\"Localhost:1521/xe\")\n",
    "\n",
    "    #아이디로 검색\n",
    "    row = dc.search_one(cur,\"login_tbl2\",\"id\",id_val)\n",
    "    print(row)\n",
    "    dc.db_disconn(conn,cur)\n",
    "    \n",
    "    #아이디가 DB에 없는경우\n",
    "    if row == None:\n",
    "        return \"회원가입을 해주세요\"\n",
    "    #아이디가 있다면 패스워드가 일치하는지 판단\n",
    "    else:\n",
    "        # 입력한 암호와 DB의 암호가 일치하지 않는다면\n",
    "        if row[1] != pw_val:\n",
    "            return \"비밀번호가 틀렸습니다.\"\n",
    "        else:\n",
    "            return f\"{row[2]}님 환영합니다.\"    \n",
    "    \n",
    "    \n",
    "    \n",
    "\n",
    "@app.route(\"/member\")\n",
    "def member():\n",
    "    return \"회원 가입 화면\"\n",
    "\n",
    "\n",
    "if __name__ == \"__main__\":\n",
    "    app.run(host=\"119.200.31.173\",port=9000)"
   ]
  }
 ],
 "metadata": {
  "kernelspec": {
   "display_name": "base",
   "language": "python",
   "name": "python3"
  },
  "language_info": {
   "codemirror_mode": {
    "name": "ipython",
    "version": 3
   },
   "file_extension": ".py",
   "mimetype": "text/x-python",
   "name": "python",
   "nbconvert_exporter": "python",
   "pygments_lexer": "ipython3",
   "version": "3.11.7"
  }
 },
 "nbformat": 4,
 "nbformat_minor": 2
}
