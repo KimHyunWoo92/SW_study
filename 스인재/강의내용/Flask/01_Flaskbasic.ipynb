{
 "cells": [
  {
   "cell_type": "markdown",
   "metadata": {},
   "source": [
    "#학습 목표\n",
    "- Flask란?\n",
    "- Flask 설치\n",
    "- Flask 사용법 : Web서버 실행\n",
    "    - URL 함수로 연결\n",
    "    - 값 전달\n",
    "    - HTML 문서 전달\n",
    "    - 이미지가 포함된 문서 전송\n",
    "    - 스트리밍 데이터 전송"
   ]
  },
  {
   "cell_type": "markdown",
   "metadata": {},
   "source": [
    "#Flask란?\n",
    "- 파이썬으로 만들어진 웹 프레임워크\n",
    "- 대표적인 파이썬 웹프레임워크 : Django\n",
    "- Django를 간소화한 버전(동기방식)\n",
    "- FastAPI : Django를 간소화한 버전(비동기방식)"
   ]
  },
  {
   "cell_type": "code",
   "execution_count": 1,
   "metadata": {},
   "outputs": [
    {
     "name": "stdout",
     "output_type": "stream",
     "text": [
      "Requirement already satisfied: flask in c:\\users\\smhrd\\anaconda3\\lib\\site-packages (2.2.5)\n",
      "Requirement already satisfied: Werkzeug>=2.2.2 in c:\\users\\smhrd\\anaconda3\\lib\\site-packages (from flask) (2.2.3)\n",
      "Requirement already satisfied: Jinja2>=3.0 in c:\\users\\smhrd\\anaconda3\\lib\\site-packages (from flask) (3.1.3)\n",
      "Requirement already satisfied: itsdangerous>=2.0 in c:\\users\\smhrd\\anaconda3\\lib\\site-packages (from flask) (2.0.1)\n",
      "Requirement already satisfied: click>=8.0 in c:\\users\\smhrd\\anaconda3\\lib\\site-packages (from flask) (8.1.7)\n",
      "Requirement already satisfied: colorama in c:\\users\\smhrd\\anaconda3\\lib\\site-packages (from click>=8.0->flask) (0.4.6)\n",
      "Requirement already satisfied: MarkupSafe>=2.0 in c:\\users\\smhrd\\anaconda3\\lib\\site-packages (from Jinja2>=3.0->flask) (2.1.3)\n"
     ]
    }
   ],
   "source": [
    "# Flask 설치\n",
    "!pip install flask"
   ]
  },
  {
   "cell_type": "markdown",
   "metadata": {},
   "source": [
    "# 웹서버 구축하기\n",
    "- app = Flask(__name__) : flask 초기화하고 flask 객채를 app변수에 할당\n",
    "- @app.route(\"/\") : flask의 웹서버의 root경로 설정, 클라이언트가 IP를 입력하고 접속하면 연결되는 위치\n",
    "- app.run(host=\"IP\", port=포트번호) : 해당 IP와 포트로 웹 서버를 실행"
   ]
  },
  {
   "cell_type": "code",
   "execution_count": 2,
   "metadata": {},
   "outputs": [],
   "source": [
    "from flask import Flask\n"
   ]
  },
  {
   "cell_type": "code",
   "execution_count": 8,
   "metadata": {},
   "outputs": [
    {
     "name": "stdout",
     "output_type": "stream",
     "text": [
      " * Serving Flask app '__main__'\n",
      " * Debug mode: off\n"
     ]
    },
    {
     "name": "stderr",
     "output_type": "stream",
     "text": [
      "WARNING: This is a development server. Do not use it in a production deployment. Use a production WSGI server instead.\n",
      " * Running on http://119.200.31.173:9000\n",
      "Press CTRL+C to quit\n",
      "119.200.31.173 - - [26/Apr/2024 14:58:35] \"GET / HTTP/1.1\" 200 -\n",
      "119.200.31.173 - - [26/Apr/2024 14:58:35] \"GET /favicon.ico HTTP/1.1\" 404 -\n"
     ]
    }
   ],
   "source": [
    "app = Flask(__name__)\n",
    "\n",
    "@app.route(\"/\")\n",
    "\n",
    "def hello():\n",
    "    return \"안녕하세요 !! 김현우 입니다.\"\n",
    "\n",
    "\n",
    "#이름이 main함수라면\n",
    "if __name__ == \"__main__\":\n",
    "    # 웹 서버 실행\n",
    "    app.run(host=\"119.200.31.173\",port=9000)\n",
    "# 119.200.31.173\n",
    "# 59.0.236.87"
   ]
  },
  {
   "cell_type": "markdown",
   "metadata": {},
   "source": [
    "- 새로운 경로 추가"
   ]
  },
  {
   "cell_type": "code",
   "execution_count": 10,
   "metadata": {},
   "outputs": [
    {
     "name": "stdout",
     "output_type": "stream",
     "text": [
      " * Serving Flask app '__main__'\n",
      " * Debug mode: off\n"
     ]
    },
    {
     "name": "stderr",
     "output_type": "stream",
     "text": [
      "WARNING: This is a development server. Do not use it in a production deployment. Use a production WSGI server instead.\n",
      " * Running on http://119.200.31.173:9000\n",
      "Press CTRL+C to quit\n",
      "119.200.31.173 - - [26/Apr/2024 15:19:28] \"GET / HTTP/1.1\" 200 -\n",
      "119.200.31.173 - - [26/Apr/2024 15:19:28] \"GET /favicon.ico HTTP/1.1\" 404 -\n",
      "119.200.31.173 - - [26/Apr/2024 15:19:36] \"GET /menu1 HTTP/1.1\" 200 -\n",
      "119.200.31.173 - - [26/Apr/2024 15:19:41] \"GET /menu2 HTTP/1.1\" 200 -\n"
     ]
    }
   ],
   "source": [
    "app = Flask(__name__)\n",
    "\n",
    "@app.route(\"/\") # IP를 입력을 하면 접속되는 경로\n",
    "def root():\n",
    "    return \"안녕하세요 홍길동입니다.\"\n",
    "\n",
    "@app.route(\"/menu1\") #IP/menu1를 입력하면 접속하는 경로\n",
    "def menu1():\n",
    "    return \"메뉴1 페이지에 접속했습니다.\"\n",
    "\n",
    "@app.route(\"/menu2\")\n",
    "def menu2():\n",
    "    return \"메뉴2 페이지에 접속했습니다.\"\n",
    "\n",
    "if __name__ == \"__main__\":\n",
    "    app.run(host=\"119.200.31.173\",port=9000)\n"
   ]
  },
  {
   "cell_type": "markdown",
   "metadata": {},
   "source": [
    "- URL에 변수값 전송하기\n",
    "    -URL:port/menu3/값1 값2"
   ]
  },
  {
   "cell_type": "code",
   "execution_count": 12,
   "metadata": {},
   "outputs": [
    {
     "name": "stdout",
     "output_type": "stream",
     "text": [
      " * Serving Flask app '__main__'\n",
      " * Debug mode: off\n"
     ]
    },
    {
     "name": "stderr",
     "output_type": "stream",
     "text": [
      "WARNING: This is a development server. Do not use it in a production deployment. Use a production WSGI server instead.\n",
      " * Running on http://119.200.31.173:9000\n",
      "Press CTRL+C to quit\n",
      "119.200.31.173 - - [26/Apr/2024 15:34:57] \"GET / HTTP/1.1\" 200 -\n",
      "119.200.31.173 - - [26/Apr/2024 15:34:57] \"GET /favicon.ico HTTP/1.1\" 404 -\n",
      "119.200.31.173 - - [26/Apr/2024 15:35:01] \"GET /menu1 HTTP/1.1\" 404 -\n",
      "119.200.31.173 - - [26/Apr/2024 15:35:38] \"GET /menu2/gus%201234 HTTP/1.1\" 200 -\n"
     ]
    }
   ],
   "source": [
    "from flask import Flask\n",
    "\n",
    "app = Flask(__name__)\n",
    "\n",
    "@app.route(\"/\")\n",
    "def root():\n",
    "    return \"안녕하세요 홍길동입니다.\"\n",
    "\n",
    "@app.route(\"/\")\n",
    "def menu1():\n",
    "    return \"메뉴 1페이지입니다.\"\n",
    "\n",
    "# <id> : url의 값을 id라는 변수로 받는다.\n",
    "@app.route(\"/menu2/<id> <pw>\")\n",
    "def menu2(id,pw):\n",
    "    return f\"홍길동의 id는 {id}, 암호는 {pw}입니다.\"\n",
    "\n",
    "if __name__ == \"__main__\":\n",
    "    app.run(host=\"119.200.31.173\",port=9000)"
   ]
  },
  {
   "cell_type": "markdown",
   "metadata": {},
   "source": [
    "#HTML 문서 보내기\n",
    "    - render_template(\"HTML문서파일명\")\n",
    "    - HTML 문서는 templates 폴더에 저장\n"
   ]
  },
  {
   "cell_type": "code",
   "execution_count": 15,
   "metadata": {},
   "outputs": [],
   "source": [
    "# templates 폴더 생성\n",
    "import os\n",
    "\n",
    "temp_dir = \"./templates\"\n",
    "\n",
    "# 해당 폴더가 없다면\n",
    "if not os.path.exists(temp_dir):\n",
    "    #해당 폴더 생성\n",
    "    os.makedirs(temp_dir)"
   ]
  },
  {
   "cell_type": "markdown",
   "metadata": {},
   "source": [
    "- %%writefile 파일경로/파일명 : 다음 줄의 내용을 해당 파일을 생성해서 저장\n",
    "    - 무조건 %%writefile은 첫 줄에 써주어야 한다."
   ]
  },
  {
   "cell_type": "code",
   "execution_count": 16,
   "metadata": {},
   "outputs": [
    {
     "name": "stdout",
     "output_type": "stream",
     "text": [
      "Writing ./templates/hello.html\n"
     ]
    }
   ],
   "source": [
    "%%writefile ./templates/hello.html\n",
    "<html>\n",
    "<body>\n",
    "<h1>안녕하세요 김현우입니다.</h1>\n",
    "</body>\n",
    "</html>"
   ]
  },
  {
   "cell_type": "code",
   "execution_count": 17,
   "metadata": {},
   "outputs": [
    {
     "name": "stdout",
     "output_type": "stream",
     "text": [
      " * Serving Flask app '__main__'\n",
      " * Debug mode: off\n"
     ]
    },
    {
     "name": "stderr",
     "output_type": "stream",
     "text": [
      "WARNING: This is a development server. Do not use it in a production deployment. Use a production WSGI server instead.\n",
      " * Running on http://119.200.31.173:9000\n",
      "Press CTRL+C to quit\n",
      "119.200.31.173 - - [26/Apr/2024 15:55:55] \"GET / HTTP/1.1\" 200 -\n"
     ]
    }
   ],
   "source": [
    "from flask import Flask, render_template\n",
    "\n",
    "app = Flask(__name__)\n",
    "\n",
    "@app.route(\"/\")\n",
    "def root():\n",
    "    #자동으로 templates라는 폴더에 있는 hello.html을 찾고, 찾은 뒤 렌더링해서 전송\n",
    "    return render_template(\"hello.html\")\n",
    "\n",
    "\n",
    "\n",
    "if __name__ == \"__main__\":\n",
    "    app.run(host=\"119.200.31.173\",port=9000)"
   ]
  },
  {
   "cell_type": "code",
   "execution_count": 44,
   "metadata": {},
   "outputs": [
    {
     "name": "stdout",
     "output_type": "stream",
     "text": [
      "Overwriting ./templates/login.html\n"
     ]
    }
   ],
   "source": [
    "%%writefile ./templates/login.html\n",
    "<html>\n",
    "<body>\n",
    "    <form action=\"/login\", method='get'>\n",
    "        <table width=300>\n",
    "            <tr>\n",
    "                <td width = 100 align=\"center\">아이디 : </td>\n",
    "                <td><input type=\"text\"  name=\"id\"></td>\n",
    "            </tr><br>\n",
    "            <tr>\n",
    "                <td align=\"center\">암호 : </td>\n",
    "                <td><input type=\"password\"  name=\"pw\"></td>\n",
    "            </tr><br>\n",
    "            <tr>\n",
    "                <td width = 100 colspan=2 align=\"center\"><input type=\"submit\" value=\"Login\"></td>\n",
    "            </tr>\n",
    "            \n",
    "        </table>\n",
    "    </form>\n",
    "</body>\n",
    "</html>"
   ]
  },
  {
   "cell_type": "code",
   "execution_count": 46,
   "metadata": {},
   "outputs": [
    {
     "name": "stdout",
     "output_type": "stream",
     "text": [
      " * Serving Flask app '__main__'\n",
      " * Debug mode: off\n"
     ]
    },
    {
     "name": "stderr",
     "output_type": "stream",
     "text": [
      "WARNING: This is a development server. Do not use it in a production deployment. Use a production WSGI server instead.\n",
      " * Running on http://119.200.31.173:9000\n",
      "Press CTRL+C to quit\n",
      "119.200.31.173 - - [26/Apr/2024 16:39:30] \"GET / HTTP/1.1\" 200 -\n",
      "119.200.31.173 - - [26/Apr/2024 16:39:30] \"GET /favicon.ico HTTP/1.1\" 404 -\n",
      "119.200.31.173 - - [26/Apr/2024 16:39:36] \"GET /login?id=gus&pw=12345 HTTP/1.1\" 200 -\n"
     ]
    }
   ],
   "source": [
    "from flask import Flask, render_template, request\n",
    "\n",
    "app = Flask(__name__)\n",
    "\n",
    "@app.route(\"/\")\n",
    "def index():\n",
    "    #자동으로 templates라는 폴더에 있는 hello.html을 찾고, 찾은 뒤 렌더링해서 전송\n",
    "    return render_template(\"login.html\")\n",
    "\n",
    "#method[\"GET\"] : get방식으로 넘어온 데이터를 받는 형식\n",
    "@app.route(\"/login\", methods=[\"GET\"])\n",
    "def login():\n",
    "    id_val = request.args.get(\"id\")\n",
    "    pw_val = request.args.get(\"pw\")\n",
    "    return f\"id:{id_val},pw:{pw_val}\"\n",
    "\n",
    "if __name__ == \"__main__\":\n",
    "    app.run(host=\"119.200.31.173\",port=9000)"
   ]
  },
  {
   "cell_type": "code",
   "execution_count": 56,
   "metadata": {},
   "outputs": [
    {
     "name": "stdout",
     "output_type": "stream",
     "text": [
      "Overwriting ./templates/login2.html\n"
     ]
    }
   ],
   "source": [
    "%%writefile ./templates/login2.html\n",
    "<html>\n",
    "<body>\n",
    "    <form action=\"/login2\" method='post'>\n",
    "        <table width=300>\n",
    "            <tr>\n",
    "                <td width = 100 align=\"center\">아이디 : </td>\n",
    "                <td><input type=\"text\"  name=\"id\"></td>\n",
    "            </tr><br>\n",
    "            <tr>\n",
    "                <td align=\"center\">암호 : </td>\n",
    "                <td><input type=\"password\"  name=\"pw\"></td>\n",
    "            </tr><br>\n",
    "            <tr>\n",
    "                <td width = 100 colspan=2 align=\"center\"><input type=\"submit\" value=\"Login\"></td>\n",
    "            </tr>\n",
    "            \n",
    "        </table>\n",
    "    </form>\n",
    "</body>\n",
    "</html>"
   ]
  },
  {
   "cell_type": "code",
   "execution_count": 57,
   "metadata": {},
   "outputs": [
    {
     "name": "stdout",
     "output_type": "stream",
     "text": [
      " * Serving Flask app '__main__'\n",
      " * Debug mode: off\n"
     ]
    },
    {
     "name": "stderr",
     "output_type": "stream",
     "text": [
      "WARNING: This is a development server. Do not use it in a production deployment. Use a production WSGI server instead.\n",
      " * Running on http://119.200.31.173:9000\n",
      "Press CTRL+C to quit\n",
      "119.200.31.173 - - [26/Apr/2024 16:54:56] \"GET / HTTP/1.1\" 200 -\n",
      "119.200.31.173 - - [26/Apr/2024 16:55:01] \"POST /login2 HTTP/1.1\" 200 -\n"
     ]
    }
   ],
   "source": [
    "from flask import Flask, render_template, request\n",
    "\n",
    "app = Flask(__name__)\n",
    "\n",
    "@app.route(\"/\")\n",
    "def index():\n",
    "    #자동으로 templates라는 폴더에 있는 hello.html을 찾고, 찾은 뒤 렌더링해서 전송\n",
    "    return render_template(\"login2.html\")\n",
    "\n",
    "#method[\"GET\"] : get방식으로 넘어온 데이터를 받는 형식\n",
    "@app.route(\"/login2\", methods=[\"POST\"])\n",
    "def login():\n",
    "    id_val = request.form[\"id\"]\n",
    "    pw_val = request.form[\"pw\"]\n",
    "    return f\"id:{id_val},pw:{pw_val}\"\n",
    "\n",
    "if __name__ == \"__main__\":\n",
    "    app.run(host=\"119.200.31.173\",port=9000)"
   ]
  },
  {
   "cell_type": "markdown",
   "metadata": {},
   "source": [
    "- 이미지가 포함된 html 문서 전송\n",
    "    - static 폴더에 이미지를 저장(static은 지정폴더)"
   ]
  },
  {
   "cell_type": "code",
   "execution_count": 58,
   "metadata": {},
   "outputs": [],
   "source": [
    "import os \n",
    "\n",
    "img_dir = \"./static\"\n",
    "\n",
    "if not os.path.exists(img_dir):\n",
    "    os.makedirs(img_dir)"
   ]
  },
  {
   "cell_type": "markdown",
   "metadata": {},
   "source": [
    "- Jinja Template\n",
    "    - HTML 문서 내에서 파이썬 코드를 작성하게 해주는 탬플릿\n",
    "    - JSP : HTML 문서에서 Java코드를 작성하게 해주는 기능\n",
    "    - PHP : HTML 문서에서 C코드를 작성하게 해주는 기능\n",
    "\n",
    "    - 사용방법\n",
    "        - {{파이썬 코드 or 값}}, {변수 선언}"
   ]
  },
  {
   "cell_type": "code",
   "execution_count": 59,
   "metadata": {},
   "outputs": [
    {
     "name": "stdout",
     "output_type": "stream",
     "text": [
      "Writing ./templates/test.html\n"
     ]
    }
   ],
   "source": [
    "%%writefile ./templates/test.html\n",
    "\n",
    "<html>\n",
    "<body>\n",
    "{%set a = \"안녕하세요\"%}\n",
    "<h1>{{a}}</h1>\n",
    "</body>\n",
    "</html>"
   ]
  },
  {
   "cell_type": "code",
   "execution_count": 60,
   "metadata": {},
   "outputs": [
    {
     "name": "stdout",
     "output_type": "stream",
     "text": [
      " * Serving Flask app '__main__'\n",
      " * Debug mode: off\n"
     ]
    },
    {
     "name": "stderr",
     "output_type": "stream",
     "text": [
      "WARNING: This is a development server. Do not use it in a production deployment. Use a production WSGI server instead.\n",
      " * Running on http://119.200.31.173:9000\n",
      "Press CTRL+C to quit\n",
      "119.200.31.173 - - [26/Apr/2024 17:34:25] \"GET / HTTP/1.1\" 200 -\n",
      "119.200.31.173 - - [26/Apr/2024 17:34:25] \"GET /favicon.ico HTTP/1.1\" 404 -\n"
     ]
    }
   ],
   "source": [
    "from flask import Flask, render_template, request\n",
    "\n",
    "app = Flask(__name__)\n",
    "\n",
    "@app.route(\"/\")\n",
    "def index():\n",
    "    #자동으로 templates라는 폴더에 있는 hello.html을 찾고, 찾은 뒤 렌더링해서 전송\n",
    "    return render_template(\"test.html\")\n",
    "\n",
    "\n",
    "if __name__ == \"__main__\":\n",
    "    app.run(host=\"119.200.31.173\",port=9000)"
   ]
  },
  {
   "cell_type": "code",
   "execution_count": 76,
   "metadata": {},
   "outputs": [
    {
     "name": "stdout",
     "output_type": "stream",
     "text": [
      "Overwriting ./templates/imgedisp.html\n"
     ]
    }
   ],
   "source": [
    "%%writefile ./templates/imgedisp.html\n",
    "\n",
    "<html>\n",
    "<body>\n",
    "\n",
    "<h1>이미지 출력하기</h1>\n",
    "\n",
    "<img src=\"{{ url_for('static', filename='charactor.jpg') }}\">\n",
    "</body>\n",
    "</html>"
   ]
  },
  {
   "cell_type": "code",
   "execution_count": 77,
   "metadata": {},
   "outputs": [
    {
     "name": "stdout",
     "output_type": "stream",
     "text": [
      " * Serving Flask app '__main__'\n",
      " * Debug mode: off\n"
     ]
    },
    {
     "name": "stderr",
     "output_type": "stream",
     "text": [
      "WARNING: This is a development server. Do not use it in a production deployment. Use a production WSGI server instead.\n",
      " * Running on http://119.200.31.173:9000\n",
      "Press CTRL+C to quit\n",
      "[2024-04-26 17:50:59,792] ERROR in app: Exception on / [GET]\n",
      "Traceback (most recent call last):\n",
      "  File \"c:\\Users\\SMHRD\\anaconda3\\Lib\\site-packages\\flask\\app.py\", line 2529, in wsgi_app\n",
      "    response = self.full_dispatch_request()\n",
      "               ^^^^^^^^^^^^^^^^^^^^^^^^^^^^\n",
      "  File \"c:\\Users\\SMHRD\\anaconda3\\Lib\\site-packages\\flask\\app.py\", line 1825, in full_dispatch_request\n",
      "    rv = self.handle_user_exception(e)\n",
      "         ^^^^^^^^^^^^^^^^^^^^^^^^^^^^^\n",
      "  File \"c:\\Users\\SMHRD\\anaconda3\\Lib\\site-packages\\flask\\app.py\", line 1823, in full_dispatch_request\n",
      "    rv = self.dispatch_request()\n",
      "         ^^^^^^^^^^^^^^^^^^^^^^^\n",
      "  File \"c:\\Users\\SMHRD\\anaconda3\\Lib\\site-packages\\flask\\app.py\", line 1799, in dispatch_request\n",
      "    return self.ensure_sync(self.view_functions[rule.endpoint])(**view_args)\n",
      "           ^^^^^^^^^^^^^^^^^^^^^^^^^^^^^^^^^^^^^^^^^^^^^^^^^^^^^^^^^^^^^^^^^\n",
      "  File \"C:\\Users\\SMHRD\\AppData\\Local\\Temp\\ipykernel_3260\\1830129373.py\", line 8, in index\n",
      "    return render_template(\"imgdisp.html\")\n",
      "           ^^^^^^^^^^^^^^^^^^^^^^^^^^^^^^^\n",
      "  File \"c:\\Users\\SMHRD\\anaconda3\\Lib\\site-packages\\flask\\templating.py\", line 146, in render_template\n",
      "    template = app.jinja_env.get_or_select_template(template_name_or_list)\n",
      "               ^^^^^^^^^^^^^^^^^^^^^^^^^^^^^^^^^^^^^^^^^^^^^^^^^^^^^^^^^^^\n",
      "  File \"c:\\Users\\SMHRD\\anaconda3\\Lib\\site-packages\\jinja2\\environment.py\", line 1081, in get_or_select_template\n",
      "    return self.get_template(template_name_or_list, parent, globals)\n",
      "           ^^^^^^^^^^^^^^^^^^^^^^^^^^^^^^^^^^^^^^^^^^^^^^^^^^^^^^^^^\n",
      "  File \"c:\\Users\\SMHRD\\anaconda3\\Lib\\site-packages\\jinja2\\environment.py\", line 1010, in get_template\n",
      "    return self._load_template(name, globals)\n",
      "           ^^^^^^^^^^^^^^^^^^^^^^^^^^^^^^^^^^\n",
      "  File \"c:\\Users\\SMHRD\\anaconda3\\Lib\\site-packages\\jinja2\\environment.py\", line 969, in _load_template\n",
      "    template = self.loader.load(self, name, self.make_globals(globals))\n",
      "               ^^^^^^^^^^^^^^^^^^^^^^^^^^^^^^^^^^^^^^^^^^^^^^^^^^^^^^^^\n",
      "  File \"c:\\Users\\SMHRD\\anaconda3\\Lib\\site-packages\\jinja2\\loaders.py\", line 125, in load\n",
      "    source, filename, uptodate = self.get_source(environment, name)\n",
      "                                 ^^^^^^^^^^^^^^^^^^^^^^^^^^^^^^^^^^\n",
      "  File \"c:\\Users\\SMHRD\\anaconda3\\Lib\\site-packages\\flask\\templating.py\", line 62, in get_source\n",
      "    return self._get_source_fast(environment, template)\n",
      "           ^^^^^^^^^^^^^^^^^^^^^^^^^^^^^^^^^^^^^^^^^^^^\n",
      "  File \"c:\\Users\\SMHRD\\anaconda3\\Lib\\site-packages\\flask\\templating.py\", line 98, in _get_source_fast\n",
      "    raise TemplateNotFound(template)\n",
      "jinja2.exceptions.TemplateNotFound: imgdisp.html\n",
      "119.200.31.173 - - [26/Apr/2024 17:50:59] \"GET / HTTP/1.1\" 500 -\n",
      "119.200.31.173 - - [26/Apr/2024 17:50:59] \"GET /favicon.ico HTTP/1.1\" 404 -\n"
     ]
    }
   ],
   "source": [
    "from flask import Flask, render_template, request\n",
    "\n",
    "app = Flask(__name__)\n",
    "\n",
    "@app.route(\"/\")\n",
    "def index():\n",
    "    #자동으로 templates라는 폴더에 있는 hello.html을 찾고, 찾은 뒤 렌더링해서 전송\n",
    "    return render_template(\"imgdisp.html\")\n",
    "\n",
    "\n",
    "if __name__ == \"__main__\":\n",
    "    app.run(host=\"119.200.31.173\",port=9000)"
   ]
  },
  {
   "cell_type": "code",
   "execution_count": 73,
   "metadata": {},
   "outputs": [
    {
     "name": "stdout",
     "output_type": "stream",
     "text": [
      " * Serving Flask app '__main__'\n",
      " * Debug mode: off\n"
     ]
    },
    {
     "name": "stderr",
     "output_type": "stream",
     "text": [
      "WARNING: This is a development server. Do not use it in a production deployment. Use a production WSGI server instead.\n",
      " * Running on http://119.200.31.173:9000\n",
      "Press CTRL+C to quit\n",
      "119.200.31.173 - - [26/Apr/2024 17:46:29] \"GET / HTTP/1.1\" 200 -\n",
      "119.200.31.173 - - [26/Apr/2024 17:46:29] \"GET /favicon.ico HTTP/1.1\" 404 -\n",
      "[2024-04-26 17:46:33,688] ERROR in app: Exception on /img [GET]\n",
      "Traceback (most recent call last):\n",
      "  File \"c:\\Users\\SMHRD\\anaconda3\\Lib\\site-packages\\flask\\app.py\", line 2529, in wsgi_app\n",
      "    response = self.full_dispatch_request()\n",
      "               ^^^^^^^^^^^^^^^^^^^^^^^^^^^^\n",
      "  File \"c:\\Users\\SMHRD\\anaconda3\\Lib\\site-packages\\flask\\app.py\", line 1825, in full_dispatch_request\n",
      "    rv = self.handle_user_exception(e)\n",
      "         ^^^^^^^^^^^^^^^^^^^^^^^^^^^^^\n",
      "  File \"c:\\Users\\SMHRD\\anaconda3\\Lib\\site-packages\\flask\\app.py\", line 1823, in full_dispatch_request\n",
      "    rv = self.dispatch_request()\n",
      "         ^^^^^^^^^^^^^^^^^^^^^^^\n",
      "  File \"c:\\Users\\SMHRD\\anaconda3\\Lib\\site-packages\\flask\\app.py\", line 1799, in dispatch_request\n",
      "    return self.ensure_sync(self.view_functions[rule.endpoint])(**view_args)\n",
      "           ^^^^^^^^^^^^^^^^^^^^^^^^^^^^^^^^^^^^^^^^^^^^^^^^^^^^^^^^^^^^^^^^^\n",
      "  File \"C:\\Users\\SMHRD\\AppData\\Local\\Temp\\ipykernel_3260\\923713011.py\", line 12, in img\n",
      "    return render_template(\"imgdisp.html\")\n",
      "           ^^^^^^^^^^^^^^^^^^^^^^^^^^^^^^^\n",
      "  File \"c:\\Users\\SMHRD\\anaconda3\\Lib\\site-packages\\flask\\templating.py\", line 146, in render_template\n",
      "    template = app.jinja_env.get_or_select_template(template_name_or_list)\n",
      "               ^^^^^^^^^^^^^^^^^^^^^^^^^^^^^^^^^^^^^^^^^^^^^^^^^^^^^^^^^^^\n",
      "  File \"c:\\Users\\SMHRD\\anaconda3\\Lib\\site-packages\\jinja2\\environment.py\", line 1081, in get_or_select_template\n",
      "    return self.get_template(template_name_or_list, parent, globals)\n",
      "           ^^^^^^^^^^^^^^^^^^^^^^^^^^^^^^^^^^^^^^^^^^^^^^^^^^^^^^^^^\n",
      "  File \"c:\\Users\\SMHRD\\anaconda3\\Lib\\site-packages\\jinja2\\environment.py\", line 1010, in get_template\n",
      "    return self._load_template(name, globals)\n",
      "           ^^^^^^^^^^^^^^^^^^^^^^^^^^^^^^^^^^\n",
      "  File \"c:\\Users\\SMHRD\\anaconda3\\Lib\\site-packages\\jinja2\\environment.py\", line 969, in _load_template\n",
      "    template = self.loader.load(self, name, self.make_globals(globals))\n",
      "               ^^^^^^^^^^^^^^^^^^^^^^^^^^^^^^^^^^^^^^^^^^^^^^^^^^^^^^^^\n",
      "  File \"c:\\Users\\SMHRD\\anaconda3\\Lib\\site-packages\\jinja2\\loaders.py\", line 125, in load\n",
      "    source, filename, uptodate = self.get_source(environment, name)\n",
      "                                 ^^^^^^^^^^^^^^^^^^^^^^^^^^^^^^^^^^\n",
      "  File \"c:\\Users\\SMHRD\\anaconda3\\Lib\\site-packages\\flask\\templating.py\", line 62, in get_source\n",
      "    return self._get_source_fast(environment, template)\n",
      "           ^^^^^^^^^^^^^^^^^^^^^^^^^^^^^^^^^^^^^^^^^^^^\n",
      "  File \"c:\\Users\\SMHRD\\anaconda3\\Lib\\site-packages\\flask\\templating.py\", line 98, in _get_source_fast\n",
      "    raise TemplateNotFound(template)\n",
      "jinja2.exceptions.TemplateNotFound: imgdisp.html\n",
      "119.200.31.173 - - [26/Apr/2024 17:46:33] \"GET /img HTTP/1.1\" 500 -\n"
     ]
    }
   ],
   "source": [
    "from flask import Flask, render_template, request\n",
    "\n",
    "app = Flask(__name__)\n",
    "\n",
    "@app.route(\"/\")\n",
    "def index():\n",
    "    #자동으로 templates라는 폴더에 있는 hello.html을 찾고, 찾은 뒤 렌더링해서 전송\n",
    "    return render_template(\"test.html\")\n",
    "\n",
    "@app.route(\"/img\")\n",
    "def img():\n",
    "    return render_template(\"imgdisp.html\")\n",
    "\n",
    "\n",
    "if __name__ == \"__main__\":\n",
    "    app.run(host=\"119.200.31.173\",port=9000)"
   ]
  }
 ],
 "metadata": {
  "kernelspec": {
   "display_name": "base",
   "language": "python",
   "name": "python3"
  },
  "language_info": {
   "codemirror_mode": {
    "name": "ipython",
    "version": 3
   },
   "file_extension": ".py",
   "mimetype": "text/x-python",
   "name": "python",
   "nbconvert_exporter": "python",
   "pygments_lexer": "ipython3",
   "version": "3.11.7"
  }
 },
 "nbformat": 4,
 "nbformat_minor": 2
}
