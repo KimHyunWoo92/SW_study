{
 "cells": [
  {
   "cell_type": "markdown",
   "metadata": {},
   "source": [
    "### 오라클 _ 라이브러리 연동\n",
    "    - oxOracle 연동"
   ]
  },
  {
   "cell_type": "code",
   "execution_count": 1,
   "metadata": {},
   "outputs": [
    {
     "name": "stdout",
     "output_type": "stream",
     "text": [
      "Requirement already satisfied: cx_Oracle in c:\\users\\smhrd\\anaconda3\\lib\\site-packages (8.3.0)\n"
     ]
    }
   ],
   "source": [
    "# !pip install cx_Oracle"
   ]
  },
  {
   "cell_type": "code",
   "execution_count": 2,
   "metadata": {},
   "outputs": [
    {
     "name": "stdout",
     "output_type": "stream",
     "text": [
      "DB 접속 성공\n"
     ]
    }
   ],
   "source": [
    "import cx_Oracle\n",
    "\n",
    "un = \"hr\"\n",
    "pw = \"12345\"\n",
    "# dsn = 주소:포토/DB명\n",
    "dsn = \"Localhost:1521/xe\"\n",
    "\n",
    "# try except ~ : 예외처리\n",
    "# 예외처리 : 논리적인 문제가 아닌 실행중에 발새하는 오류를 처리하기위한 것\n",
    "# ex) 숫자입력에 문자를 입력하거나, 0으로 나누거나, 통신이 끊어지거나\n",
    "# try문에서 예외가 발생하면 except 문을 실행\n",
    "\n",
    "\n",
    "try :\n",
    "    # DB연결객체 - DB연결과 관련된 정보를 가지고 있음\n",
    "    conn = cx_Oracle.connect(un, pw, dsn)\n",
    "    print(\"DB 접속 성공\")\n",
    "    # DatabaseError : 데이터베이스 사용시 발생하는 오류의 종류 관리\n",
    "except cx_Oracle.DatabaseError as e:\n",
    "    print(\"DB 접속 실패\")\n",
    "    # 오류 내용을 출력\n",
    "    print(e)"
   ]
  },
  {
   "cell_type": "markdown",
   "metadata": {},
   "source": [
    "- 커서(cursor) 객체 : 데이터를 송수신하는 역할\n",
    "    - 연결객체에 선언\n",
    "    - 서비스 단에서 이력된 query 문을 DB로 전달하는 역할\n",
    "    - DB서버에서 query문으로 실행된 결과를 서비스단으로 전송하는 역할(select문 실행)"
   ]
  },
  {
   "cell_type": "code",
   "execution_count": 3,
   "metadata": {},
   "outputs": [],
   "source": [
    "cur = conn.cursor()"
   ]
  },
  {
   "cell_type": "markdown",
   "metadata": {},
   "source": [
    "# 구현내용\n",
    "- 테이블 생성\n",
    "- 테이블 데이터 저장\n",
    "- 테이블 데이터 변경\n",
    "- 테이블 데이터 삭제\n",
    "- 테이블 데이터 검색\n",
    "- DB 접속 종료"
   ]
  },
  {
   "cell_type": "code",
   "execution_count": 3,
   "metadata": {},
   "outputs": [],
   "source": [
    "query = \"\"\"create table member_tbl(\n",
    "    code varchar(10) primary key,\n",
    "    name varchar(10) not null,\n",
    "    id varchar(10) not null,\n",
    "    pw varchar(10) not null\n",
    ")\"\"\""
   ]
  },
  {
   "cell_type": "markdown",
   "metadata": {},
   "source": [
    "- query문의 형태\n",
    "    - execute() : 커서 객체에 있는 query문을 싱행해주는 기능\n",
    "    - 실행만 하고 반환값이 없는 형태\n",
    "        - DB값을 변경하는 경우 연결객체에 있는 commit() 함수 반드시 실행해주어야 적용\n",
    "    - 실행 후에 반환값이 있는 형태(select)\n",
    "        - 결과값을 받아서 되돌려주어야함\n",
    "        - fetchall() : 모든 결과값을 반환 (커서객체에 있음)\n",
    "        - fetchone() : 하나의 결과값만 반환 (커서객체에 있음)"
   ]
  },
  {
   "cell_type": "code",
   "execution_count": 7,
   "metadata": {},
   "outputs": [
    {
     "name": "stdout",
     "output_type": "stream",
     "text": [
      "테이블 생성 실패\n",
      "ORA-00955: name is already used by an existing object\n"
     ]
    }
   ],
   "source": [
    "# 테이블 생성\n",
    "try :\n",
    "    cur.execute(query)\n",
    "    conn.commit()\n",
    "except cx_Oracle.DatabaseError as e :\n",
    "    print(\"테이블 생성 실패\")\n",
    "    print(e)"
   ]
  },
  {
   "cell_type": "code",
   "execution_count": 9,
   "metadata": {},
   "outputs": [
    {
     "name": "stdout",
     "output_type": "stream",
     "text": [
      "[('TEST_성적표', 'USERS', None, None, 'VALID', 10, None, 1, 255, 65536, 1048576, 1, 2147483645, None, None, None, 'YES', 'N', 0, 0, 0, 0, 0, 0, 0, 0, '         1', '         1', '    N', 'ENABLED', 0, datetime.datetime(2024, 4, 12, 13, 42, 16), 'NO', None, 'N', 'N', 'NO', 'DEFAULT', 'DEFAULT', 'DEFAULT', 'DISABLED', 'YES', 'NO', None, 'DISABLED', 'YES', None, 'DISABLED', 'DISABLED', None, 'NO', 'NO', 'YES', 'DEFAULT'), ('TB_TEST1', 'USERS', None, None, 'VALID', 10, None, 1, 255, 65536, 1048576, 1, 2147483645, None, None, None, 'YES', 'N', 0, 0, 0, 0, 0, 0, 0, 0, '         1', '         1', '    N', 'ENABLED', 0, datetime.datetime(2024, 4, 12, 13, 42, 16), 'NO', None, 'N', 'N', 'NO', 'DEFAULT', 'DEFAULT', 'DEFAULT', 'DISABLED', 'YES', 'NO', None, 'DISABLED', 'YES', None, 'DISABLED', 'DISABLED', None, 'NO', 'NO', 'YES', 'DEFAULT'), ('TB_TEST2', 'USERS', None, None, 'VALID', 10, None, 1, 255, 65536, 1048576, 1, 2147483645, None, None, None, 'YES', 'N', 0, 0, 0, 0, 0, 0, 0, 0, '         1', '         1', '    N', 'ENABLED', 0, datetime.datetime(2024, 4, 12, 13, 42, 16), 'NO', None, 'N', 'N', 'NO', 'DEFAULT', 'DEFAULT', 'DEFAULT', 'DISABLED', 'YES', 'NO', None, 'DISABLED', 'YES', None, 'DISABLED', 'DISABLED', None, 'NO', 'NO', 'YES', 'DEFAULT'), ('LOGIN_TABLE', 'USERS', None, None, 'VALID', 10, None, 1, 255, 65536, 1048576, 1, 2147483645, None, None, None, 'YES', 'N', 0, 0, 0, 0, 0, 0, 0, 0, '         1', '         1', '    N', 'ENABLED', 0, datetime.datetime(2024, 4, 12, 13, 42, 16), 'NO', None, 'N', 'N', 'NO', 'DEFAULT', 'DEFAULT', 'DEFAULT', 'DISABLED', 'YES', 'NO', None, 'DISABLED', 'YES', None, 'DISABLED', 'DISABLED', None, 'NO', 'NO', 'YES', 'DEFAULT'), ('DROP_성적표', 'USERS', None, None, 'VALID', 10, None, 1, 255, 65536, 1048576, 1, 2147483645, None, None, None, 'YES', 'N', 18, 4, 0, 0, 0, 17, 0, 0, '         1', '         1', '    N', 'ENABLED', 18, datetime.datetime(2024, 4, 12, 13, 42, 16), 'NO', None, 'N', 'N', 'NO', 'DEFAULT', 'DEFAULT', 'DEFAULT', 'DISABLED', 'YES', 'NO', None, 'DISABLED', 'YES', None, 'DISABLED', 'DISABLED', None, 'NO', 'NO', 'YES', 'DEFAULT'), ('HY_SONGLIST', 'USERS', None, None, 'VALID', 10, None, 1, 255, 65536, 1048576, 1, 2147483645, None, None, None, 'YES', 'N', 0, 5, 0, 0, 0, 0, 0, 0, '         1', '         1', '    N', 'ENABLED', 0, datetime.datetime(2024, 4, 12, 13, 42, 16), 'NO', None, 'N', 'N', 'NO', 'DEFAULT', 'DEFAULT', 'DEFAULT', 'DISABLED', 'YES', 'NO', None, 'DISABLED', 'YES', None, 'DISABLED', 'DISABLED', None, 'NO', 'NO', 'YES', 'DEFAULT'), ('MEMBER_JOIN', 'USERS', None, None, 'VALID', 10, None, 1, 255, 65536, 1048576, 1, 2147483645, None, None, None, 'YES', 'N', 2, 5, 0, 0, 0, 65, 0, 0, '         1', '         1', '    N', 'ENABLED', 2, datetime.datetime(2024, 4, 19, 12, 0, 5), 'NO', None, 'N', 'N', 'NO', 'DEFAULT', 'DEFAULT', 'DEFAULT', 'DISABLED', 'YES', 'NO', None, 'DISABLED', 'YES', None, 'DISABLED', 'DISABLED', None, 'NO', 'NO', 'YES', 'DEFAULT'), ('REGIONS', 'USERS', None, None, 'VALID', 10, None, 1, 255, 65536, 1048576, 1, 2147483645, None, None, None, 'YES', 'N', 4, 5, 0, 0, 0, 14, 0, 0, '         1', '         1', '    N', 'ENABLED', 4, datetime.datetime(2014, 5, 29, 13, 21, 56), 'NO', None, 'N', 'N', 'NO', 'DEFAULT', 'DEFAULT', 'DEFAULT', 'DISABLED', 'YES', 'NO', None, 'DISABLED', 'YES', None, 'DISABLED', 'DISABLED', None, 'NO', 'NO', 'YES', 'DEFAULT'), ('COUNTRIES', None, None, None, 'VALID', 0, 0, 0, 0, None, None, None, None, None, None, None, None, 'N', 25, None, None, None, 0, 15, 0, None, '         1', '         1', '    N', 'ENABLED', 25, datetime.datetime(2014, 5, 29, 13, 21, 55), 'NO', 'IOT', 'N', 'N', 'NO', 'DEFAULT', 'DEFAULT', 'DEFAULT', 'DISABLED', 'YES', 'NO', None, 'DISABLED', 'YES', None, 'DISABLED', 'DISABLED', 'BASIC', 'NO', 'NO', 'YES', 'DEFAULT'), ('LOCATIONS', 'USERS', None, None, 'VALID', 10, None, 1, 255, 65536, 1048576, 1, 2147483645, None, None, None, 'YES', 'N', 23, 5, 0, 0, 0, 49, 0, 0, '         1', '         1', '    N', 'ENABLED', 23, datetime.datetime(2014, 5, 29, 13, 21, 56), 'NO', None, 'N', 'N', 'NO', 'DEFAULT', 'DEFAULT', 'DEFAULT', 'DISABLED', 'YES', 'NO', None, 'DISABLED', 'YES', None, 'DISABLED', 'DISABLED', None, 'NO', 'NO', 'YES', 'DEFAULT'), ('DEPARTMENTS', 'USERS', None, None, 'VALID', 10, None, 1, 255, 65536, 1048576, 1, 2147483645, None, None, None, 'YES', 'N', 27, 5, 0, 0, 0, 21, 0, 0, '         1', '         1', '    N', 'ENABLED', 27, datetime.datetime(2014, 5, 29, 13, 21, 55), 'NO', None, 'N', 'N', 'NO', 'DEFAULT', 'DEFAULT', 'DEFAULT', 'DISABLED', 'YES', 'NO', None, 'DISABLED', 'YES', None, 'DISABLED', 'DISABLED', None, 'NO', 'NO', 'YES', 'DEFAULT'), ('JOBS', 'USERS', None, None, 'VALID', 10, None, 1, 255, 65536, 1048576, 1, 2147483645, None, None, None, 'YES', 'N', 19, 5, 0, 0, 0, 33, 0, 0, '         1', '         1', '    N', 'ENABLED', 19, datetime.datetime(2014, 5, 29, 13, 21, 55), 'NO', None, 'N', 'N', 'NO', 'DEFAULT', 'DEFAULT', 'DEFAULT', 'DISABLED', 'YES', 'NO', None, 'DISABLED', 'YES', None, 'DISABLED', 'DISABLED', None, 'NO', 'NO', 'YES', 'DEFAULT'), ('EMPLOYEES', 'USERS', None, None, 'VALID', 10, None, 1, 255, 65536, 1048576, 1, 2147483645, None, None, None, 'YES', 'N', 107, 5, 0, 0, 0, 69, 0, 0, '         1', '         1', '    N', 'ENABLED', 107, datetime.datetime(2014, 5, 29, 13, 21, 55), 'NO', None, 'N', 'N', 'NO', 'DEFAULT', 'DEFAULT', 'DEFAULT', 'DISABLED', 'YES', 'NO', None, 'DISABLED', 'YES', None, 'DISABLED', 'DISABLED', None, 'NO', 'NO', 'YES', 'DEFAULT'), ('JOB_HISTORY', 'USERS', None, None, 'VALID', 10, None, 1, 255, 65536, 1048576, 1, 2147483645, None, None, None, 'YES', 'N', 10, 5, 0, 0, 0, 31, 0, 0, '         1', '         1', '    N', 'ENABLED', 10, datetime.datetime(2014, 5, 29, 13, 21, 56), 'NO', None, 'N', 'N', 'NO', 'DEFAULT', 'DEFAULT', 'DEFAULT', 'DISABLED', 'YES', 'NO', None, 'DISABLED', 'YES', None, 'DISABLED', 'DISABLED', None, 'NO', 'NO', 'YES', 'DEFAULT'), ('수강생정보', 'USERS', None, None, 'VALID', 10, None, 1, 255, 65536, 1048576, 1, 2147483645, None, None, None, 'YES', 'N', 9, 5, 0, 0, 0, 19, 0, 0, '         1', '         1', '    N', 'ENABLED', 9, datetime.datetime(2024, 4, 12, 13, 42, 16), 'NO', None, 'N', 'N', 'NO', 'DEFAULT', 'DEFAULT', 'DEFAULT', 'DISABLED', 'YES', 'NO', None, 'DISABLED', 'YES', None, 'DISABLED', 'DISABLED', None, 'NO', 'NO', 'YES', 'DEFAULT'), ('성적표', 'USERS', None, None, 'VALID', 10, None, 1, 255, 65536, 1048576, 1, 2147483645, None, None, None, 'YES', 'N', 18, 5, 0, 0, 0, 17, 0, 0, '         1', '         1', '    N', 'ENABLED', 18, datetime.datetime(2024, 4, 12, 13, 42, 16), 'NO', None, 'N', 'N', 'NO', 'DEFAULT', 'DEFAULT', 'DEFAULT', 'DISABLED', 'YES', 'NO', None, 'DISABLED', 'YES', None, 'DISABLED', 'DISABLED', None, 'NO', 'NO', 'YES', 'DEFAULT'), ('TCL_수강생정보', 'USERS', None, None, 'VALID', 10, None, 1, 255, 65536, 1048576, 1, 2147483645, None, None, None, 'YES', 'N', 9, 8, 0, 0, 0, 19, 0, 0, '         1', '         1', '    N', 'ENABLED', 9, datetime.datetime(2024, 4, 19, 12, 0, 3), 'NO', None, 'N', 'N', 'NO', 'DEFAULT', 'DEFAULT', 'DEFAULT', 'DISABLED', 'YES', 'NO', None, 'DISABLED', 'YES', None, 'DISABLED', 'DISABLED', None, 'NO', 'NO', 'YES', 'DEFAULT'), ('DB_SEQUENCE', 'USERS', None, None, 'VALID', 10, None, 1, 255, 65536, 1048576, 1, 2147483645, None, None, None, 'YES', 'N', 11, 5, 0, 0, 0, 37, 0, 0, '         1', '         1', '    N', 'ENABLED', 11, datetime.datetime(2024, 4, 19, 12, 0, 3), 'NO', None, 'N', 'N', 'NO', 'DEFAULT', 'DEFAULT', 'DEFAULT', 'DISABLED', 'YES', 'NO', None, 'DISABLED', 'YES', None, 'DISABLED', 'DISABLED', None, 'NO', 'NO', 'YES', 'DEFAULT'), ('DEPT', 'USERS', None, None, 'VALID', 10, None, 1, 255, 65536, 1048576, 1, 2147483645, None, None, None, 'YES', 'N', 0, 0, 0, 0, 0, 0, 0, 0, '         1', '         1', '    N', 'ENABLED', 0, datetime.datetime(2024, 4, 19, 12, 0, 3), 'NO', None, 'N', 'N', 'NO', 'DEFAULT', 'DEFAULT', 'DEFAULT', 'DISABLED', 'YES', 'NO', None, 'DISABLED', 'YES', None, 'DISABLED', 'DISABLED', None, 'NO', 'NO', 'YES', 'DEFAULT'), ('EMP', 'USERS', None, None, 'VALID', 10, None, 1, 255, 65536, 1048576, 1, 2147483645, None, None, None, 'YES', 'N', 0, 0, 0, 0, 0, 0, 0, 0, '         1', '         1', '    N', 'ENABLED', 0, datetime.datetime(2024, 4, 19, 12, 0, 3), 'NO', None, 'N', 'N', 'NO', 'DEFAULT', 'DEFAULT', 'DEFAULT', 'DISABLED', 'YES', 'NO', None, 'DISABLED', 'YES', None, 'DISABLED', 'DISABLED', None, 'NO', 'NO', 'YES', 'DEFAULT'), ('MEMBER_TBL', 'USERS', None, None, 'VALID', 10, None, 1, 255, 65536, 1048576, 1, 2147483645, None, None, None, 'YES', 'N', None, None, None, None, None, None, None, None, '         1', '         1', '    N', 'ENABLED', None, None, 'NO', None, 'N', 'N', 'NO', 'DEFAULT', 'DEFAULT', 'DEFAULT', 'DISABLED', 'NO', 'NO', None, 'DISABLED', 'YES', None, 'DISABLED', 'DISABLED', None, 'NO', 'NO', 'YES', 'DEFAULT')]\n"
     ]
    }
   ],
   "source": [
    "# 테이블 검색\n",
    "query = \"select * from tabs\"\n",
    "\n",
    "try:\n",
    "    cur.execute(query)\n",
    "    print(cur.fetchall())\n",
    "except cx_Oracle.DatabaseError as e:\n",
    "    print(\"테이블 검색 실패\")\n",
    "    print(e)"
   ]
  },
  {
   "cell_type": "markdown",
   "metadata": {},
   "source": [
    "#### 데이터 저장하기"
   ]
  },
  {
   "cell_type": "code",
   "execution_count": 19,
   "metadata": {},
   "outputs": [
    {
     "name": "stdout",
     "output_type": "stream",
     "text": [
      "저장성공\n"
     ]
    }
   ],
   "source": [
    "query = \"insert into member_tbl values ('A003','댕댕이', 'c123','12345')\"\n",
    "\n",
    "try:\n",
    "    cur.execute(query)\n",
    "    conn.commit()\n",
    "    print(\"저장성공\")\n",
    "\n",
    "except cx_Oracle.DatabaseError as e:\n",
    "    print(\"데이터 저장 불가\")\n",
    "    print(e)"
   ]
  },
  {
   "cell_type": "code",
   "execution_count": 4,
   "metadata": {},
   "outputs": [],
   "source": [
    "code = input(\"CODE 입력:ex)A001\")\n",
    "name = input(\"name 입력:ex)홍길동\")\n",
    "id = input(\"id 입력:ex)a123\")\n",
    "pw = input(\"pw 입력:ex)12345\")"
   ]
  },
  {
   "cell_type": "code",
   "execution_count": 21,
   "metadata": {},
   "outputs": [
    {
     "name": "stdout",
     "output_type": "stream",
     "text": [
      "저장성공\n"
     ]
    }
   ],
   "source": [
    "# 개발 시에 값이 추가된 쿼리문의 확인이 필요한 경우에 주로 사용\n",
    "# 값 입력받기\n",
    "\n",
    "\n",
    "code = input(\"CODE 입력:ex)A001\")\n",
    "n_val = input(\"name 입력:ex)홍길동\")\n",
    "id_val = input(\"id 입력:ex)a123\")\n",
    "pw_val = input(\"pw 입력:ex)12345\")\n",
    "\n",
    "query = f\"insert into member_tbl values ('{code}','{n_val}','{id_val}','{pw_val}')\"\n",
    "\n",
    "print(query)\n",
    "try:\n",
    "    cur.execute(query)\n",
    "    conn.commit()\n",
    "    print(\"저장성공\")\n",
    "\n",
    "except cx_Oracle.DatabaseError as e:\n",
    "    print(\"데이터 저장 불가\")\n",
    "    print(e)"
   ]
  },
  {
   "cell_type": "markdown",
   "metadata": {},
   "source": [
    "- 값을 쿼리문에 자동으로 할당해서 쿼리문을 완성\n",
    "- 중간 쿼리문을 확인할 수 없음\n",
    "- 다양한 쿼리문을 생성할 수 있음.\n",
    "\n",
    "- 사용자가 입력한 값들을 딕셔너리에 저장한 다음 딕셔너리의 key값으로 커서객체가  \n",
    "  쿼리문에 값들을 할당해서 query문을 완성하고 실행"
   ]
  },
  {
   "cell_type": "code",
   "execution_count": 22,
   "metadata": {},
   "outputs": [
    {
     "name": "stdout",
     "output_type": "stream",
     "text": [
      "저장성공\n"
     ]
    }
   ],
   "source": [
    "code = input(\"CODE 입력:ex)A001\")\n",
    "n_val = input(\"name 입력:ex)홍길동\")\n",
    "id_val = input(\"id 입력:ex)a123\")\n",
    "pw_val = input(\"pw 입력:ex)12345\")\n",
    "\n",
    "# 입력한 값들을 딕셔너리에 저장\n",
    "input_data = {\"code\":code,\"name\":n_val,\"id\":id_val,\"pw\":pw_val}\n",
    "\n",
    "# 쿼리문 작성 (값들이 할당될 위치를 키값으로 설정)\n",
    "# 문자열의 경우 따옴표는 자동으로 부여\n",
    "query = \"insert into member_tbl values (:code,:name,:id,:pw)\"\n",
    "\n",
    "try:\n",
    "    # 입력값들을 할당해서 쿼리문을 완성하고 실행\n",
    "    cur.execute(query,input_data)\n",
    "    conn.commit()\n",
    "    print(\"저장성공\")\n",
    "\n",
    "except cx_Oracle.DatabaseError as e:\n",
    "    print(\"데이터 저장 불가\")\n",
    "    print(e)"
   ]
  },
  {
   "cell_type": "markdown",
   "metadata": {},
   "source": [
    "- 데이터 검색"
   ]
  },
  {
   "cell_type": "code",
   "execution_count": 24,
   "metadata": {},
   "outputs": [
    {
     "data": {
      "text/plain": [
       "[('A001', '홍길동', 'a123', '12345'),\n",
       " ('A002', '마당쇠', 'b123', '12345'),\n",
       " ('A003', '댕댕이', 'c123', '12345'),\n",
       " ('A004', '김현우', 'a126', '23456'),\n",
       " ('C001', '김유신', 'C123', '13579')]"
      ]
     },
     "metadata": {},
     "output_type": "display_data"
    }
   ],
   "source": [
    "query = \"select * from member_tbl\"\n",
    "\n",
    "try:\n",
    "    cur.execute(query)\n",
    "    row = cur.fetchall()\n",
    "    display(row)\n",
    "\n",
    "except cx_Oracle.DatabaseError as e:\n",
    "    print(\"검색 실패\")\n",
    "    print(e)"
   ]
  },
  {
   "cell_type": "markdown",
   "metadata": {},
   "source": [
    "- 검색 결과를 데이터 프레임으로 출력"
   ]
  },
  {
   "cell_type": "code",
   "execution_count": 28,
   "metadata": {},
   "outputs": [],
   "source": [
    "import pandas as pd\n",
    "columns = [\"code\",\"name\",\"id\",\"pw\"]\n",
    "df = pd.DataFrame(row, columns=columns)"
   ]
  },
  {
   "cell_type": "code",
   "execution_count": 29,
   "metadata": {},
   "outputs": [
    {
     "data": {
      "text/html": [
       "<div>\n",
       "<style scoped>\n",
       "    .dataframe tbody tr th:only-of-type {\n",
       "        vertical-align: middle;\n",
       "    }\n",
       "\n",
       "    .dataframe tbody tr th {\n",
       "        vertical-align: top;\n",
       "    }\n",
       "\n",
       "    .dataframe thead th {\n",
       "        text-align: right;\n",
       "    }\n",
       "</style>\n",
       "<table border=\"1\" class=\"dataframe\">\n",
       "  <thead>\n",
       "    <tr style=\"text-align: right;\">\n",
       "      <th></th>\n",
       "      <th>code</th>\n",
       "      <th>name</th>\n",
       "      <th>id</th>\n",
       "      <th>pw</th>\n",
       "    </tr>\n",
       "  </thead>\n",
       "  <tbody>\n",
       "    <tr>\n",
       "      <th>0</th>\n",
       "      <td>A001</td>\n",
       "      <td>홍길동</td>\n",
       "      <td>a123</td>\n",
       "      <td>12345</td>\n",
       "    </tr>\n",
       "    <tr>\n",
       "      <th>1</th>\n",
       "      <td>A002</td>\n",
       "      <td>마당쇠</td>\n",
       "      <td>b123</td>\n",
       "      <td>12345</td>\n",
       "    </tr>\n",
       "    <tr>\n",
       "      <th>2</th>\n",
       "      <td>A003</td>\n",
       "      <td>댕댕이</td>\n",
       "      <td>c123</td>\n",
       "      <td>12345</td>\n",
       "    </tr>\n",
       "    <tr>\n",
       "      <th>3</th>\n",
       "      <td>A004</td>\n",
       "      <td>김현우</td>\n",
       "      <td>a126</td>\n",
       "      <td>23456</td>\n",
       "    </tr>\n",
       "    <tr>\n",
       "      <th>4</th>\n",
       "      <td>C001</td>\n",
       "      <td>김유신</td>\n",
       "      <td>C123</td>\n",
       "      <td>13579</td>\n",
       "    </tr>\n",
       "  </tbody>\n",
       "</table>\n",
       "</div>"
      ],
      "text/plain": [
       "   code name    id     pw\n",
       "0  A001  홍길동  a123  12345\n",
       "1  A002  마당쇠  b123  12345\n",
       "2  A003  댕댕이  c123  12345\n",
       "3  A004  김현우  a126  23456\n",
       "4  C001  김유신  C123  13579"
      ]
     },
     "execution_count": 29,
     "metadata": {},
     "output_type": "execute_result"
    }
   ],
   "source": [
    "df"
   ]
  },
  {
   "cell_type": "markdown",
   "metadata": {},
   "source": [
    "- 코드를 입력받아서 입력받은 코드로 데이터를 검색하는 기능 구현\n",
    "    - 코드를 입력 받음.\n",
    "    - 입력받은 코드를 딕셔너리에 저장\n",
    "    - 딕셔너리 키를 갖는 query문 선언\n",
    "    - execute() 문으로 쿼리문에 키값을 할당하고 실행\n",
    "    - 검색 결과를 fetchone()으로 받아서 출력"
   ]
  },
  {
   "cell_type": "code",
   "execution_count": 32,
   "metadata": {},
   "outputs": [
    {
     "data": {
      "text/plain": [
       "('A001', '홍길동', 'a123', '12345')"
      ]
     },
     "metadata": {},
     "output_type": "display_data"
    }
   ],
   "source": [
    "code = input(\"코드 입력:\")\n",
    "input_data = {\"code\":code}\n",
    "query = \"select * from member_tbl where code = (:code)\"\n",
    "\n",
    "\n",
    "try:\n",
    "    cur.execute(query,input_data)\n",
    "    row = cur.fetchone()\n",
    "    display(row)\n",
    "\n",
    "except cx_Oracle.DatabaseError as e:\n",
    "    print(\"검색 실패\")\n",
    "    print(e)"
   ]
  },
  {
   "cell_type": "markdown",
   "metadata": {},
   "source": [
    "#### 데이터 변경\n",
    "- 해당 코드의 데이터를 재입력 (코드는 제외)\n",
    "- 딕셔너리로 저장\n",
    "- query문 생성\n",
    "- cursor로 딕셔너리에 저장된 데이터를 query문에 적용해서 실행\n",
    "- 변경 결과를 출력"
   ]
  },
  {
   "cell_type": "code",
   "execution_count": null,
   "metadata": {},
   "outputs": [],
   "source": [
    "# 코드입력시 데이터 검색\n",
    "code = input(\"코드 입력:\")\n",
    "input_data = {\"code\":code}\n",
    "\n",
    "\n",
    "query = \"select * from member_tbl where code = :code\"\n",
    "\n",
    "\n",
    "\n",
    "try:\n",
    "    cur.execute(query,input_data)\n",
    "    row = cur.fetchone()\n",
    "    display(row)\n",
    "\n",
    "except cx_Oracle.DatabaseError as e:\n",
    "    print(\"검색 실패\")\n",
    "    print(e)"
   ]
  },
  {
   "cell_type": "code",
   "execution_count": 9,
   "metadata": {},
   "outputs": [
    {
     "data": {
      "text/plain": [
       "('A004', '김현우', 'a126', '23456')"
      ]
     },
     "metadata": {},
     "output_type": "display_data"
    },
    {
     "name": "stdout",
     "output_type": "stream",
     "text": [
      "변경 성공\n"
     ]
    },
    {
     "data": {
      "text/plain": [
       "('A004', '홍길동', 'D123', '56789')"
      ]
     },
     "metadata": {},
     "output_type": "display_data"
    }
   ],
   "source": [
    "# 변경전 데이터 검색\n",
    "code = input(\"코드 입력:\")\n",
    "input_data = {\"code\":code}\n",
    "\n",
    "\n",
    "query = \"select * from member_tbl where code = :code\"\n",
    "\n",
    "try:\n",
    "    cur.execute(query,input_data)\n",
    "    row = cur.fetchone()\n",
    "    display(row)\n",
    "\n",
    "except cx_Oracle.DatabaseError as e:\n",
    "    print(\"검색 실패\")\n",
    "    print(e)\n",
    "\n",
    "# 해당 코드의 데티어 재입력\n",
    "n_val = input(\"변경할 name :ex)홍길동\")\n",
    "id_val = input(\"변경할 id :ex)a123\")\n",
    "pw_val = input(\"변경할 pw :ex)12345\")\n",
    "\n",
    "# 입력한 값들을 딕셔너리에 저장\n",
    "input_data = {\"code\":code,\"name\":n_val,\"id\":id_val,\"pw\":pw_val}\n",
    "query = \"update member_tbl set name=:name, id=:id, pw=:pw where code=:code\"\n",
    "\n",
    "try:\n",
    "    cur.execute(query,input_data)\n",
    "    conn.commit()\n",
    "    print(\"변경 성공\")\n",
    "    \n",
    "\n",
    "except cx_Oracle.DatabaseError as e:\n",
    "    print(\"검색 실패\")\n",
    "    print(e)\n",
    "\n",
    "# 변경결과를 출력\n",
    "input_data = {\"code\":code}\n",
    "\n",
    "\n",
    "query = \"select * from member_tbl where code = :code\"\n",
    "\n",
    "try:\n",
    "    cur.execute(query,input_data)\n",
    "    row = cur.fetchone()\n",
    "    display(row)\n",
    "\n",
    "except cx_Oracle.DatabaseError as e:\n",
    "    print(\"검색 실패\")\n",
    "    print(e)"
   ]
  },
  {
   "cell_type": "markdown",
   "metadata": {},
   "source": [
    "### 데이터 삭제\n"
   ]
  },
  {
   "cell_type": "code",
   "execution_count": 21,
   "metadata": {},
   "outputs": [
    {
     "data": {
      "text/plain": [
       "None"
      ]
     },
     "metadata": {},
     "output_type": "display_data"
    },
    {
     "name": "stdout",
     "output_type": "stream",
     "text": [
      "삭제 성공\n"
     ]
    },
    {
     "data": {
      "text/html": [
       "<div>\n",
       "<style scoped>\n",
       "    .dataframe tbody tr th:only-of-type {\n",
       "        vertical-align: middle;\n",
       "    }\n",
       "\n",
       "    .dataframe tbody tr th {\n",
       "        vertical-align: top;\n",
       "    }\n",
       "\n",
       "    .dataframe thead th {\n",
       "        text-align: right;\n",
       "    }\n",
       "</style>\n",
       "<table border=\"1\" class=\"dataframe\">\n",
       "  <thead>\n",
       "    <tr style=\"text-align: right;\">\n",
       "      <th></th>\n",
       "      <th>code</th>\n",
       "      <th>name</th>\n",
       "      <th>id</th>\n",
       "      <th>pw</th>\n",
       "    </tr>\n",
       "  </thead>\n",
       "  <tbody>\n",
       "    <tr>\n",
       "      <th>0</th>\n",
       "      <td>A001</td>\n",
       "      <td>홍길동</td>\n",
       "      <td>a123</td>\n",
       "      <td>12345</td>\n",
       "    </tr>\n",
       "    <tr>\n",
       "      <th>1</th>\n",
       "      <td>A002</td>\n",
       "      <td>마당쇠</td>\n",
       "      <td>b123</td>\n",
       "      <td>12345</td>\n",
       "    </tr>\n",
       "    <tr>\n",
       "      <th>2</th>\n",
       "      <td>A003</td>\n",
       "      <td>댕댕이</td>\n",
       "      <td>c123</td>\n",
       "      <td>12345</td>\n",
       "    </tr>\n",
       "    <tr>\n",
       "      <th>3</th>\n",
       "      <td>A004</td>\n",
       "      <td>홍길동</td>\n",
       "      <td>D123</td>\n",
       "      <td>56789</td>\n",
       "    </tr>\n",
       "  </tbody>\n",
       "</table>\n",
       "</div>"
      ],
      "text/plain": [
       "   code name    id     pw\n",
       "0  A001  홍길동  a123  12345\n",
       "1  A002  마당쇠  b123  12345\n",
       "2  A003  댕댕이  c123  12345\n",
       "3  A004  홍길동  D123  56789"
      ]
     },
     "metadata": {},
     "output_type": "display_data"
    }
   ],
   "source": [
    "# 변경전 데이터 검색\n",
    "code = input(\"코드 입력:\")\n",
    "input_data = {\"code\":code}\n",
    "\n",
    "query = \"select * from member_tbl where code = :code\"\n",
    "\n",
    "try:\n",
    "    cur.execute(query,input_data)\n",
    "    row = cur.fetchone()\n",
    "    display(row)\n",
    "\n",
    "except cx_Oracle.DatabaseError as e:\n",
    "    print(\"검색 실패\")\n",
    "    print(e)\n",
    "\n",
    "\n",
    "# 삭제할 데이터 입력\n",
    "query = \"delete from member_tbl where code=:code\"\n",
    "\n",
    "try:\n",
    "    cur.execute(query,input_data)\n",
    "    conn.commit()\n",
    "    print(\"삭제 성공\")\n",
    "except cx_Oracle.DatabaseError as e:\n",
    "    print(\"삭제 실패\")\n",
    "    print(e)\n",
    "\n",
    "# 삭제 이후 검색\n",
    "\n",
    "query = \"select * from member_tbl\"\n",
    "import pandas as pd\n",
    "try:\n",
    "    cur.execute(query)\n",
    "    row = pd.DataFrame(cur.fetchall(),columns=[\"code\",\"name\",\"id\",\"pw\"])\n",
    "    display(row)\n",
    "\n",
    "except cx_Oracle.DatabaseError as e:\n",
    "    print(\"검색 실패\")\n",
    "    print(e)"
   ]
  },
  {
   "cell_type": "markdown",
   "metadata": {},
   "source": [
    "### 데이터베이스 연결 종료\n",
    "- 커서객체 종료\n",
    "- 연결객체 종료\n",
    "- 데이터베이스 종료"
   ]
  },
  {
   "cell_type": "code",
   "execution_count": 22,
   "metadata": {},
   "outputs": [],
   "source": [
    "cur.close()\n",
    "conn.close()"
   ]
  },
  {
   "cell_type": "markdown",
   "metadata": {},
   "source": [
    "#### DB 연동 관련 기능들을 모듈로 제작"
   ]
  },
  {
   "cell_type": "code",
   "execution_count": 4,
   "metadata": {},
   "outputs": [
    {
     "name": "stdout",
     "output_type": "stream",
     "text": [
      "Overwriting DB_Control.py\n"
     ]
    }
   ],
   "source": [
    "%%writefile DB_Control.py\n",
    "import cx_Oracle\n",
    "\n",
    "# DB연결\n",
    "def db_conn(user_name,passward,dsn):\n",
    "    try:\n",
    "        #연결객체 생성\n",
    "        conn = cx_Oracle.connect(user_name,passward,dsn)\n",
    "        #연결객체에 커서 객체를 생성\n",
    "        cur = conn.cursor()\n",
    "        print(\"DB연결 성공\")\n",
    "    except cx_Oracle.DatabaseError as e:\n",
    "        print(\"DB연결 실패\")\n",
    "\n",
    "    #다른함수에서 사용하도록 cur,conn return    \n",
    "    return conn, cur\n",
    "\n",
    "# DB연결 종료\n",
    "def db_disconn(conn, cur):\n",
    "    cur.close()\n",
    "    conn.close()\n",
    "    print(\"DB연동 종료\")\n",
    "\n",
    "# 테이블생성\n",
    "def create_tbl(conn,cur,query):\n",
    "    try :\n",
    "        cur.execute(query)\n",
    "        conn.commit()\n",
    "        print(\"테이블 생성\")\n",
    "    except cx_Oracle.DatabaseError as e :\n",
    "        print(\"테이블 생성 실패\")\n",
    "        print(e)\n",
    "        \n",
    "\n",
    "# 데이터 저장\n",
    "# t_name : 테이블명\n",
    "# dic : 입력 데이터를 저장하고 있는 딕셔너리\n",
    "def insert_data(conn,cur,t_name,dic):\n",
    "\n",
    "    query = f\"insert into {t_name} values (\"\n",
    "    \n",
    "    # 딕셔너리에 저장된 데이터의 수에 맞게 저장 데이터를 설정하는 query문\n",
    "    # 딕셔너이에서 키값들을 하나씩 읽어와서 쿼리문을 작성\n",
    "    # dic = {\"id\":\"a1111\",\"pw\":\"12345\",\"name\":\"홍길동\"}\n",
    "    # -> insert into Login_tbl2 values (:id,:pw,:name)\n",
    "    for key in dic.keys():\n",
    "        query += f\":{key},\"\n",
    "\n",
    "    # 마지막 (,)를 제거하고, )를 추가\n",
    "    # > :id,:pw,:name)\n",
    "    query = query.rstrip(\",\")\n",
    "    query += \")\"\n",
    "\n",
    "    try :\n",
    "        cur.execute(query, dic)\n",
    "        conn.commit()\n",
    "        print(\"데이터 저장 성공\")\n",
    "    except cx_Oracle.DatabaseError as e:\n",
    "        print(\"저장 실패\")\n",
    "        print(e)\n",
    "        \n",
    "# 전체 데이터 검색\n",
    "def search_all(cur,t_name):\n",
    "    query = f\"select * from {t_name}\"\n",
    "\n",
    "    try:\n",
    "        cur.execute(query)\n",
    "        return cur.fetchall()\n",
    "    except cx_Oracle.DatabaseError as e:\n",
    "        print(\"검색 실패\")\n",
    "        print(e)\n",
    "\n",
    "# 1개 데이터 검색\n",
    "def search_one(cur,t_name,col,val):\n",
    "    query = f\"select * from {t_name} where {col}='{val}'\"\n",
    "    \n",
    "    try:\n",
    "        cur.execute(query)\n",
    "        return cur.fetchone()\n",
    "\n",
    "    except cx_Oracle.DatabaseError as e:\n",
    "        print(\"검색 실패\")\n",
    "        print(e)\n",
    "\n",
    "\n",
    "\n",
    "# 데이터 수정\n",
    "def update_data(conn,cur,t_name,dic,col,val):\n",
    "    #update login_tbl2 set\n",
    "    query = f\"update {t_name} set \"\n",
    "    \n",
    "    #id=:id, pw=:pw, name=:name,\n",
    "    for key in dic.keys():\n",
    "        query+=f\"{key}=:{key},\"\n",
    "\n",
    "    #id=:id, pw=:pw, name=:name\n",
    "    query = query.rstrip(',')\n",
    "    \n",
    "    # where col='val'\n",
    "    query += f\" where {col}='{val}'\"\n",
    "\n",
    "    try:\n",
    "        cur.execute(query,dic)\n",
    "        conn.commit()\n",
    "        print(\"수정 완료\")        \n",
    "\n",
    "    except cx_Oracle.DatabaseError as e:\n",
    "        print(\"수정 실패\")\n",
    "        print(e)\n",
    "\n",
    "# 데이터삭제\n",
    "\n",
    "def delete_data(conn,cur,t_name,col,val):\n",
    "    query = f\"delete from {t_name} where {col}='{val}'\"\n",
    "    \n",
    "    try:\n",
    "        cur.execute(query)\n",
    "        conn.commit()\n",
    "        print(\"삭제 성공\")\n",
    "    except cx_Oracle.DatabaseError as e:\n",
    "        print(\"삭제 실패\")\n",
    "        print(e)"
   ]
  },
  {
   "cell_type": "markdown",
   "metadata": {},
   "source": [
    "### 모듈테스트"
   ]
  },
  {
   "cell_type": "code",
   "execution_count": 2,
   "metadata": {},
   "outputs": [
    {
     "name": "stdout",
     "output_type": "stream",
     "text": [
      "DB연결 성공\n"
     ]
    }
   ],
   "source": [
    "import DB_Control as dc\n",
    "\n",
    "#DB연결\n",
    "conn,cur = dc.db_conn(\"hr\",\"12345\",\"Localhost:1521/xe\")\n"
   ]
  },
  {
   "cell_type": "code",
   "execution_count": 9,
   "metadata": {},
   "outputs": [
    {
     "name": "stdout",
     "output_type": "stream",
     "text": [
      "테이블 생성 실패\n",
      "ORA-00955: name is already used by an existing object\n"
     ]
    }
   ],
   "source": [
    "query = \"\"\" create table login_tbl2(\n",
    "id varchar(10) primary key,\n",
    "pw varchar(10) not null,\n",
    "name varchar(10) not null)\"\"\"\n",
    "dc.create_tbl(conn,cur,query)\n"
   ]
  },
  {
   "cell_type": "code",
   "execution_count": 7,
   "metadata": {},
   "outputs": [
    {
     "name": "stdout",
     "output_type": "stream",
     "text": [
      "데이터 저장 성공\n"
     ]
    }
   ],
   "source": [
    "# 데이터 저장\n",
    "id_val = input(\"아이디 입력:\")\n",
    "pw_val = input(\"비밀번호 입력:\")\n",
    "na_val = input(\"이름 입력:\")\n",
    "\n",
    "dic = {\"id\":id_val,\"pw\":pw_val,\"name\":na_val}\n",
    "dc.insert_data(conn,cur,\"login_tbl2\",dic)"
   ]
  },
  {
   "cell_type": "code",
   "execution_count": 4,
   "metadata": {},
   "outputs": [
    {
     "data": {
      "text/html": [
       "<div>\n",
       "<style scoped>\n",
       "    .dataframe tbody tr th:only-of-type {\n",
       "        vertical-align: middle;\n",
       "    }\n",
       "\n",
       "    .dataframe tbody tr th {\n",
       "        vertical-align: top;\n",
       "    }\n",
       "\n",
       "    .dataframe thead th {\n",
       "        text-align: right;\n",
       "    }\n",
       "</style>\n",
       "<table border=\"1\" class=\"dataframe\">\n",
       "  <thead>\n",
       "    <tr style=\"text-align: right;\">\n",
       "      <th></th>\n",
       "      <th>아이디</th>\n",
       "      <th>비밀번호</th>\n",
       "      <th>이름</th>\n",
       "    </tr>\n",
       "  </thead>\n",
       "  <tbody>\n",
       "    <tr>\n",
       "      <th>0</th>\n",
       "      <td>A1112</td>\n",
       "      <td>23456</td>\n",
       "      <td>고길동</td>\n",
       "    </tr>\n",
       "    <tr>\n",
       "      <th>1</th>\n",
       "      <td>A0001</td>\n",
       "      <td>12345</td>\n",
       "      <td>홍길동</td>\n",
       "    </tr>\n",
       "    <tr>\n",
       "      <th>2</th>\n",
       "      <td>A0003</td>\n",
       "      <td>34567</td>\n",
       "      <td>김유신</td>\n",
       "    </tr>\n",
       "  </tbody>\n",
       "</table>\n",
       "</div>"
      ],
      "text/plain": [
       "     아이디   비밀번호   이름\n",
       "0  A1112  23456  고길동\n",
       "1  A0001  12345  홍길동\n",
       "2  A0003  34567  김유신"
      ]
     },
     "metadata": {},
     "output_type": "display_data"
    }
   ],
   "source": [
    "#DB 전체 검색\n",
    "import pandas as pd\n",
    "dc.search_all(cur,\"login_tbl2\")\n",
    "display(pd.DataFrame(dc.search_all(cur,\"login_tbl2\"),columns=[\"아이디\",\"비밀번호\",\"이름\"]))"
   ]
  },
  {
   "cell_type": "code",
   "execution_count": 3,
   "metadata": {},
   "outputs": [
    {
     "name": "stdout",
     "output_type": "stream",
     "text": [
      "select * from login_tbl2 where id='A1112'\n"
     ]
    },
    {
     "data": {
      "text/plain": [
       "('A1112', '23456', '고길동')"
      ]
     },
     "metadata": {},
     "output_type": "display_data"
    }
   ],
   "source": [
    "#DB 1개 데이터 검색\n",
    "id_val = input(\"아이디입력:\")\n",
    "display(dc.search_one(cur,\"login_tbl2\",\"id\",id_val))"
   ]
  },
  {
   "cell_type": "code",
   "execution_count": 3,
   "metadata": {},
   "outputs": [
    {
     "name": "stdout",
     "output_type": "stream",
     "text": [
      "수정 완료\n"
     ]
    }
   ],
   "source": [
    "#데이터 수정\n",
    "\n",
    "id_val = input(\"아이디입력\")\n",
    "pw_val = input(\"패스워드입력\")\n",
    "name_val = input(\"이름입력\")\n",
    "\n",
    "\n",
    "\n",
    "input_data = {\"id\":id_val,\"pw\":pw_val,\"name\":name_val}\n",
    "dc.update_data(conn,cur,\"login_tbl2\",input_data,\"id\",id_val)\n",
    "    "
   ]
  },
  {
   "cell_type": "code",
   "execution_count": null,
   "metadata": {},
   "outputs": [],
   "source": []
  },
  {
   "cell_type": "code",
   "execution_count": null,
   "metadata": {},
   "outputs": [],
   "source": [
    "#DB 종료\n",
    "dc.db_disconn(conn,cur)"
   ]
  }
 ],
 "metadata": {
  "kernelspec": {
   "display_name": "base",
   "language": "python",
   "name": "python3"
  },
  "language_info": {
   "codemirror_mode": {
    "name": "ipython",
    "version": 3
   },
   "file_extension": ".py",
   "mimetype": "text/x-python",
   "name": "python",
   "nbconvert_exporter": "python",
   "pygments_lexer": "ipython3",
   "version": "3.11.7"
  }
 },
 "nbformat": 4,
 "nbformat_minor": 2
}
