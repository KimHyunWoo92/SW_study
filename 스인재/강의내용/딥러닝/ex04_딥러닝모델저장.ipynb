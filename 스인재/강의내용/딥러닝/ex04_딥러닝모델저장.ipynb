{
 "cells": [
  {
   "cell_type": "code",
   "execution_count": 1,
   "metadata": {},
   "outputs": [],
   "source": [
    "import numpy as np\n",
    "import pandas as pd\n",
    "import seaborn as sns\n",
    "\n",
    "from sklearn.preprocessing import LabelEncoder\n",
    "from sklearn.model_selection import train_test_split\n",
    "\n",
    "import tensorflow as tf\n",
    "from tensorflow.keras.utils import to_categorical\n",
    "from tensorflow.keras.models import Sequential\n",
    "from tensorflow.keras.layers import Dense,Activation\n",
    "\n",
    "from matplotlib import font_manager, rc\n",
    "import matplotlib.pyplot as plt\n",
    "\n",
    "seed = 999\n",
    "np.random.seed(seed)\n",
    "tf.random.set_seed(seed)"
   ]
  },
  {
   "cell_type": "markdown",
   "metadata": {},
   "source": [
    "# 학습목표\n",
    "- 손글씨 숫제 데이터 전처리\n",
    "- 신경망 학습\n",
    "    - 베스트 모델 저장\n",
    "    - 학습 중단 기능 구현\n",
    "    - 최종 모델 저장\n",
    "- 학습 결과 시각화\n",
    "- 저장된 모델을 가져오기\n",
    "- 가져온 모델을 이용해서 예측\n",
    "- 실제 손글씨 숫자 데이터를 만들어서 예측\n",
    "- 과적합 방지를 위한 Dropout 사용하기"
   ]
  },
  {
   "cell_type": "markdown",
   "metadata": {},
   "source": [
    "# 손글씨 숫자 이미지 데이터\n",
    "- 미국/영국의 공무원을 대상으로 만든 데이터 셋\n",
    "- 60000개의 훈련데이터, 10,000개의 테스트 데이터로 구성\n",
    "- 라벨은 0~9로 구성\n",
    "- 이미지 데이터는 28*28 크기의 흑백 이미지로 구성(0,255만으로 구성)로 구성"
   ]
  },
  {
   "cell_type": "code",
   "execution_count": 2,
   "metadata": {},
   "outputs": [
    {
     "name": "stdout",
     "output_type": "stream",
     "text": [
      "Downloading data from https://storage.googleapis.com/tensorflow/tf-keras-datasets/mnist.npz\n",
      "\u001b[1m11490434/11490434\u001b[0m \u001b[32m━━━━━━━━━━━━━━━━━━━━\u001b[0m\u001b[37m\u001b[0m \u001b[1m1s\u001b[0m 0us/step\n"
     ]
    },
    {
     "data": {
      "text/plain": [
       "((60000, 28, 28), (60000,), (10000, 28, 28), (60000,))"
      ]
     },
     "execution_count": 2,
     "metadata": {},
     "output_type": "execute_result"
    }
   ],
   "source": [
    "from tensorflow.keras.datasets import mnist\n",
    "(X_train,y_train),(X_test,y_test) = mnist.load_data()\n",
    "\n",
    "X_train.shape,y_train.shape,X_test.shape,y_train.shape"
   ]
  },
  {
   "cell_type": "code",
   "execution_count": 3,
   "metadata": {},
   "outputs": [
    {
     "name": "stdout",
     "output_type": "stream",
     "text": [
      "5\n"
     ]
    },
    {
     "data": {
      "image/png": "[encoded data removed]",
      "text/plain": [
       "<Figure size 640x480 with 1 Axes>"
      ]
     },
     "metadata": {},
     "output_type": "display_data"
    }
   ],
   "source": [
    "print(y_train[0])\n",
    "plt.imshow(X_train[0],cmap=\"gray\")\n",
    "plt.show()"
   ]
  },
  {
   "cell_type": "markdown",
   "metadata": {},
   "source": [
    "- 전처리\n",
    "    - Dense층 1차원 입력을 받는데 이미지는 2차원 데이터-> 2차원 데이터를 1차원으로 변환\n",
    "    - 0-255범위의 값을 0.0-1.0으로 정규화 -> 성능 향상"
   ]
  },
  {
   "cell_type": "code",
   "execution_count": 4,
   "metadata": {},
   "outputs": [
    {
     "data": {
      "text/plain": [
       "((60000, 784), (10000, 784))"
      ]
     },
     "execution_count": 4,
     "metadata": {},
     "output_type": "execute_result"
    }
   ],
   "source": [
    "# 2차원 -> 1차원\n",
    "X_train = X_train.reshape(-1,28*28)\n",
    "X_test = X_test.reshape(-1,28*28)\n",
    "\n",
    "X_train.shape,X_test.shape"
   ]
  },
  {
   "cell_type": "code",
   "execution_count": 5,
   "metadata": {},
   "outputs": [],
   "source": [
    "# 최대값으로 나누어 0.0-1.0 사이로 변환\n",
    "X_train = X_train/255.0\n",
    "X_test = X_test/255.0"
   ]
  },
  {
   "cell_type": "markdown",
   "metadata": {},
   "source": [
    "# 라벨을 원핫인코딩"
   ]
  },
  {
   "cell_type": "code",
   "execution_count": 6,
   "metadata": {},
   "outputs": [
    {
     "data": {
      "text/plain": [
       "((60000, 10), (10000, 10))"
      ]
     },
     "execution_count": 6,
     "metadata": {},
     "output_type": "execute_result"
    }
   ],
   "source": [
    "y_train_en = pd.get_dummies(y_train)\n",
    "y_test_en = pd.get_dummies(y_test)\n",
    "\n",
    "y_train_en.shape,y_test_en.shape"
   ]
  },
  {
   "cell_type": "markdown",
   "metadata": {},
   "source": [
    "# 신경망 설계\n",
    "    - 입력층, 은닉층, 출력층을 1개씩만 사용\n",
    "    - 활성화 함수 : relu"
   ]
  },
  {
   "cell_type": "code",
   "execution_count": 15,
   "metadata": {},
   "outputs": [
    {
     "name": "stderr",
     "output_type": "stream",
     "text": [
      "c:\\Users\\SMHRD\\anaconda3\\Lib\\site-packages\\keras\\src\\layers\\core\\dense.py:87: UserWarning: Do not pass an `input_shape`/`input_dim` argument to a layer. When using Sequential models, prefer using an `Input(shape)` object as the first layer in the model instead.\n",
      "  super().__init__(activity_regularizer=activity_regularizer, **kwargs)\n"
     ]
    },
    {
     "data": {
      "text/html": [
       "<pre style=\"white-space:pre;overflow-x:auto;line-height:normal;font-family:Menlo,'DejaVu Sans Mono',consolas,'Courier New',monospace\"><span style=\"font-weight: bold\">Model: \"sequential_4\"</span>\n",
       "</pre>\n"
      ],
      "text/plain": [
       "\u001b[1mModel: \"sequential_4\"\u001b[0m\n"
      ]
     },
     "metadata": {},
     "output_type": "display_data"
    },
    {
     "data": {
      "text/html": [
       "<pre style=\"white-space:pre;overflow-x:auto;line-height:normal;font-family:Menlo,'DejaVu Sans Mono',consolas,'Courier New',monospace\">┏━━━━━━━━━━━━━━━━━━━━━━━━━━━━━━━━━┳━━━━━━━━━━━━━━━━━━━━━━━━┳━━━━━━━━━━━━━━━┓\n",
       "┃<span style=\"font-weight: bold\"> Layer (type)                    </span>┃<span style=\"font-weight: bold\"> Output Shape           </span>┃<span style=\"font-weight: bold\">       Param # </span>┃\n",
       "┡━━━━━━━━━━━━━━━━━━━━━━━━━━━━━━━━━╇━━━━━━━━━━━━━━━━━━━━━━━━╇━━━━━━━━━━━━━━━┩\n",
       "│ dense_12 (<span style=\"color: #0087ff; text-decoration-color: #0087ff\">Dense</span>)                │ (<span style=\"color: #00d7ff; text-decoration-color: #00d7ff\">None</span>, <span style=\"color: #00af00; text-decoration-color: #00af00\">64</span>)             │        <span style=\"color: #00af00; text-decoration-color: #00af00\">50,240</span> │\n",
       "├─────────────────────────────────┼────────────────────────┼───────────────┤\n",
       "│ dense_13 (<span style=\"color: #0087ff; text-decoration-color: #0087ff\">Dense</span>)                │ (<span style=\"color: #00d7ff; text-decoration-color: #00d7ff\">None</span>, <span style=\"color: #00af00; text-decoration-color: #00af00\">32</span>)             │         <span style=\"color: #00af00; text-decoration-color: #00af00\">2,080</span> │\n",
       "├─────────────────────────────────┼────────────────────────┼───────────────┤\n",
       "│ dense_14 (<span style=\"color: #0087ff; text-decoration-color: #0087ff\">Dense</span>)                │ (<span style=\"color: #00d7ff; text-decoration-color: #00d7ff\">None</span>, <span style=\"color: #00af00; text-decoration-color: #00af00\">10</span>)             │           <span style=\"color: #00af00; text-decoration-color: #00af00\">330</span> │\n",
       "└─────────────────────────────────┴────────────────────────┴───────────────┘\n",
       "</pre>\n"
      ],
      "text/plain": [
       "┏━━━━━━━━━━━━━━━━━━━━━━━━━━━━━━━━━┳━━━━━━━━━━━━━━━━━━━━━━━━┳━━━━━━━━━━━━━━━┓\n",
       "┃\u001b[1m \u001b[0m\u001b[1mLayer (type)                   \u001b[0m\u001b[1m \u001b[0m┃\u001b[1m \u001b[0m\u001b[1mOutput Shape          \u001b[0m\u001b[1m \u001b[0m┃\u001b[1m \u001b[0m\u001b[1m      Param #\u001b[0m\u001b[1m \u001b[0m┃\n",
       "┡━━━━━━━━━━━━━━━━━━━━━━━━━━━━━━━━━╇━━━━━━━━━━━━━━━━━━━━━━━━╇━━━━━━━━━━━━━━━┩\n",
       "│ dense_12 (\u001b[38;5;33mDense\u001b[0m)                │ (\u001b[38;5;45mNone\u001b[0m, \u001b[38;5;34m64\u001b[0m)             │        \u001b[38;5;34m50,240\u001b[0m │\n",
       "├─────────────────────────────────┼────────────────────────┼───────────────┤\n",
       "│ dense_13 (\u001b[38;5;33mDense\u001b[0m)                │ (\u001b[38;5;45mNone\u001b[0m, \u001b[38;5;34m32\u001b[0m)             │         \u001b[38;5;34m2,080\u001b[0m │\n",
       "├─────────────────────────────────┼────────────────────────┼───────────────┤\n",
       "│ dense_14 (\u001b[38;5;33mDense\u001b[0m)                │ (\u001b[38;5;45mNone\u001b[0m, \u001b[38;5;34m10\u001b[0m)             │           \u001b[38;5;34m330\u001b[0m │\n",
       "└─────────────────────────────────┴────────────────────────┴───────────────┘\n"
      ]
     },
     "metadata": {},
     "output_type": "display_data"
    },
    {
     "data": {
      "text/html": [
       "<pre style=\"white-space:pre;overflow-x:auto;line-height:normal;font-family:Menlo,'DejaVu Sans Mono',consolas,'Courier New',monospace\"><span style=\"font-weight: bold\"> Total params: </span><span style=\"color: #00af00; text-decoration-color: #00af00\">52,650</span> (205.66 KB)\n",
       "</pre>\n"
      ],
      "text/plain": [
       "\u001b[1m Total params: \u001b[0m\u001b[38;5;34m52,650\u001b[0m (205.66 KB)\n"
      ]
     },
     "metadata": {},
     "output_type": "display_data"
    },
    {
     "data": {
      "text/html": [
       "<pre style=\"white-space:pre;overflow-x:auto;line-height:normal;font-family:Menlo,'DejaVu Sans Mono',consolas,'Courier New',monospace\"><span style=\"font-weight: bold\"> Trainable params: </span><span style=\"color: #00af00; text-decoration-color: #00af00\">52,650</span> (205.66 KB)\n",
       "</pre>\n"
      ],
      "text/plain": [
       "\u001b[1m Trainable params: \u001b[0m\u001b[38;5;34m52,650\u001b[0m (205.66 KB)\n"
      ]
     },
     "metadata": {},
     "output_type": "display_data"
    },
    {
     "data": {
      "text/html": [
       "<pre style=\"white-space:pre;overflow-x:auto;line-height:normal;font-family:Menlo,'DejaVu Sans Mono',consolas,'Courier New',monospace\"><span style=\"font-weight: bold\"> Non-trainable params: </span><span style=\"color: #00af00; text-decoration-color: #00af00\">0</span> (0.00 B)\n",
       "</pre>\n"
      ],
      "text/plain": [
       "\u001b[1m Non-trainable params: \u001b[0m\u001b[38;5;34m0\u001b[0m (0.00 B)\n"
      ]
     },
     "metadata": {},
     "output_type": "display_data"
    }
   ],
   "source": [
    "m1 = Sequential()\n",
    "m1.add(Dense(units=64,input_dim=784,activation=\"relu\"))\n",
    "m1.add(Dense(units=32))\n",
    "m1.add(Dense(units=10,activation=\"softmax\"))\n",
    "m1.summary()"
   ]
  },
  {
   "cell_type": "code",
   "execution_count": 16,
   "metadata": {},
   "outputs": [
    {
     "name": "stdout",
     "output_type": "stream",
     "text": [
      "Epoch 1/10\n",
      "\u001b[1m375/375\u001b[0m \u001b[32m━━━━━━━━━━━━━━━━━━━━\u001b[0m\u001b[37m\u001b[0m \u001b[1m1s\u001b[0m 899us/step - accuracy: 0.7976 - loss: 0.7161\n",
      "Epoch 2/10\n",
      "\u001b[1m375/375\u001b[0m \u001b[32m━━━━━━━━━━━━━━━━━━━━\u001b[0m\u001b[37m\u001b[0m \u001b[1m0s\u001b[0m 912us/step - accuracy: 0.9427 - loss: 0.1977\n",
      "Epoch 3/10\n",
      "\u001b[1m375/375\u001b[0m \u001b[32m━━━━━━━━━━━━━━━━━━━━\u001b[0m\u001b[37m\u001b[0m \u001b[1m0s\u001b[0m 908us/step - accuracy: 0.9592 - loss: 0.1394\n",
      "Epoch 4/10\n",
      "\u001b[1m375/375\u001b[0m \u001b[32m━━━━━━━━━━━━━━━━━━━━\u001b[0m\u001b[37m\u001b[0m \u001b[1m0s\u001b[0m 909us/step - accuracy: 0.9680 - loss: 0.1092\n",
      "Epoch 5/10\n",
      "\u001b[1m375/375\u001b[0m \u001b[32m━━━━━━━━━━━━━━━━━━━━\u001b[0m\u001b[37m\u001b[0m \u001b[1m0s\u001b[0m 913us/step - accuracy: 0.9738 - loss: 0.0898\n",
      "Epoch 6/10\n",
      "\u001b[1m375/375\u001b[0m \u001b[32m━━━━━━━━━━━━━━━━━━━━\u001b[0m\u001b[37m\u001b[0m \u001b[1m0s\u001b[0m 940us/step - accuracy: 0.9786 - loss: 0.0747\n",
      "Epoch 7/10\n",
      "\u001b[1m375/375\u001b[0m \u001b[32m━━━━━━━━━━━━━━━━━━━━\u001b[0m\u001b[37m\u001b[0m \u001b[1m0s\u001b[0m 1ms/step - accuracy: 0.9820 - loss: 0.0634\n",
      "Epoch 8/10\n",
      "\u001b[1m375/375\u001b[0m \u001b[32m━━━━━━━━━━━━━━━━━━━━\u001b[0m\u001b[37m\u001b[0m \u001b[1m0s\u001b[0m 931us/step - accuracy: 0.9851 - loss: 0.0542\n",
      "Epoch 9/10\n",
      "\u001b[1m375/375\u001b[0m \u001b[32m━━━━━━━━━━━━━━━━━━━━\u001b[0m\u001b[37m\u001b[0m \u001b[1m0s\u001b[0m 968us/step - accuracy: 0.9870 - loss: 0.0466\n",
      "Epoch 10/10\n",
      "\u001b[1m375/375\u001b[0m \u001b[32m━━━━━━━━━━━━━━━━━━━━\u001b[0m\u001b[37m\u001b[0m \u001b[1m0s\u001b[0m 963us/step - accuracy: 0.9890 - loss: 0.0403\n"
     ]
    }
   ],
   "source": [
    "m1.compile(optimizer=\"adam\",loss=\"categorical_crossentropy\",metrics=[\"accuracy\"])\n",
    "h1 = m1.fit(X_train,y_train_en,batch_size=160,epochs=10)"
   ]
  },
  {
   "cell_type": "code",
   "execution_count": 17,
   "metadata": {},
   "outputs": [],
   "source": [
    "import os\n",
    "\n",
    "# 모델 폴더 생성\n",
    "model_dir = \"./model\"\n",
    "\n",
    "# os.path.exists() : 해당 폴더가 있다면 True로 반환\n",
    "# not : 해당 폴더가 없다면\n",
    "if not os.path.exists(model_dir):\n",
    "    os.mkdir(model_dir)\n"
   ]
  },
  {
   "cell_type": "code",
   "execution_count": 18,
   "metadata": {},
   "outputs": [
    {
     "name": "stderr",
     "output_type": "stream",
     "text": [
      "WARNING:absl:You are saving your model as an HDF5 file via `model.save()` or `keras.saving.save_model(model)`. This file format is considered legacy. We recommend using instead the native Keras format, e.g. `model.save('my_model.keras')` or `keras.saving.save_model(model, 'my_model.keras')`. \n"
     ]
    }
   ],
   "source": [
    "#모델 저장\n",
    "m1.save(\"./model/m1_mnist_last.h5\")"
   ]
  },
  {
   "cell_type": "markdown",
   "metadata": {},
   "source": [
    "# 저장된 모델 불러오기"
   ]
  },
  {
   "cell_type": "code",
   "execution_count": 19,
   "metadata": {},
   "outputs": [
    {
     "name": "stderr",
     "output_type": "stream",
     "text": [
      "WARNING:absl:Compiled the loaded model, but the compiled metrics have yet to be built. `model.compile_metrics` will be empty until you train or evaluate the model.\n"
     ]
    }
   ],
   "source": [
    "from tensorflow.keras.models import load_model\n",
    "\n",
    "m2 = load_model(\"./model/m1_mnist_last.h5\")"
   ]
  },
  {
   "cell_type": "markdown",
   "metadata": {},
   "source": [
    "# 예측"
   ]
  },
  {
   "cell_type": "code",
   "execution_count": 24,
   "metadata": {},
   "outputs": [
    {
     "name": "stdout",
     "output_type": "stream",
     "text": [
      "\u001b[1m1/1\u001b[0m \u001b[32m━━━━━━━━━━━━━━━━━━━━\u001b[0m\u001b[37m\u001b[0m \u001b[1m0s\u001b[0m 27ms/step\n",
      "[[5.7721237e-09 2.8367515e-09 3.2530834e-09 2.7853414e-08 9.9988222e-01\n",
      "  4.2343765e-07 5.0700169e-07 3.6069185e-05 4.6151435e-08 8.0805068e-05]]\n",
      "예측값 :  4\n",
      "실제값 :  4\n"
     ]
    }
   ],
   "source": [
    "pred = m2.predict(X_test[210:211])\n",
    "print(pred)\n",
    "print(\"예측값 : \",pred.argmax())\n",
    "print(\"실제값 : \",y_test[210])"
   ]
  },
  {
   "cell_type": "markdown",
   "metadata": {},
   "source": [
    "# 잘못 찾는 데이터 검색"
   ]
  },
  {
   "cell_type": "code",
   "execution_count": 26,
   "metadata": {},
   "outputs": [
    {
     "name": "stdout",
     "output_type": "stream",
     "text": [
      "\u001b[1m313/313\u001b[0m \u001b[32m━━━━━━━━━━━━━━━━━━━━\u001b[0m\u001b[37m\u001b[0m \u001b[1m0s\u001b[0m 623us/step\n",
      "115 9 4\n",
      "241 8 9\n",
      "247 2 4\n",
      "259 0 6\n",
      "321 7 2\n",
      "340 3 5\n",
      "381 7 3\n",
      "391 2 8\n",
      "445 0 6\n",
      "447 9 4\n",
      "495 2 8\n",
      "582 2 8\n",
      "591 3 8\n",
      "610 2 4\n",
      "655 2 8\n",
      "691 4 8\n",
      "707 9 4\n",
      "717 6 0\n",
      "726 9 7\n",
      "844 7 8\n",
      "877 6 8\n",
      "895 2 0\n",
      "938 5 3\n",
      "947 9 8\n",
      "951 4 5\n",
      "956 2 1\n",
      "965 0 6\n",
      "1014 5 6\n",
      "1039 2 7\n",
      "1044 8 6\n",
      "1107 3 9\n",
      "1112 6 4\n",
      "1181 1 6\n",
      "1191 7 0\n",
      "1226 2 7\n",
      "1232 4 9\n",
      "1242 9 4\n",
      "1247 5 9\n",
      "1251 1 2\n",
      "1272 4 5\n",
      "1283 2 7\n",
      "1289 9 5\n",
      "1299 7 5\n",
      "1319 3 8\n",
      "1325 6 8\n",
      "1393 3 5\n",
      "1433 3 8\n",
      "1500 1 7\n",
      "1522 9 7\n",
      "1530 7 8\n",
      "1549 2 4\n",
      "1553 3 9\n",
      "1609 6 2\n",
      "1621 6 0\n",
      "1641 6 5\n",
      "1681 7 3\n",
      "1709 3 9\n",
      "1717 0 8\n",
      "1737 1 5\n",
      "1751 2 4\n",
      "1754 2 7\n",
      "1774 5 8\n",
      "1790 4 2\n",
      "1800 2 6\n",
      "1828 7 3\n",
      "1850 7 8\n",
      "1878 3 8\n",
      "1901 4 9\n",
      "1903 2 7\n",
      "1955 2 8\n",
      "1984 0 2\n",
      "1987 9 0\n",
      "2004 3 8\n",
      "2016 2 7\n",
      "2033 4 0\n",
      "2043 8 4\n",
      "2053 9 4\n",
      "2073 6 5\n",
      "2109 7 3\n",
      "2118 0 6\n",
      "2129 2 9\n",
      "2130 9 4\n",
      "2135 1 6\n",
      "2182 2 1\n",
      "2189 1 9\n",
      "2224 8 5\n",
      "2272 0 8\n",
      "2291 7 5\n",
      "2293 0 9\n",
      "2329 2 0\n",
      "2343 7 1\n",
      "2369 9 5\n",
      "2387 1 9\n",
      "2395 3 8\n",
      "2406 1 9\n",
      "2408 9 3\n",
      "2414 7 9\n",
      "2422 4 6\n",
      "2488 6 2\n",
      "2607 2 7\n",
      "2618 5 3\n",
      "2648 0 9\n",
      "2654 1 6\n",
      "2770 2 3\n",
      "2850 3 5\n",
      "2877 7 4\n",
      "2896 0 8\n",
      "2915 3 7\n",
      "2921 2 3\n",
      "2927 2 3\n",
      "2939 7 9\n",
      "2945 7 3\n",
      "3005 1 9\n",
      "3060 7 9\n",
      "3073 2 1\n",
      "3117 9 5\n",
      "3129 2 3\n",
      "3173 2 6\n",
      "3206 3 8\n",
      "3225 9 7\n",
      "3251 9 0\n",
      "3289 9 8\n",
      "3405 9 4\n",
      "3475 7 3\n",
      "3503 1 9\n",
      "3520 4 6\n",
      "3549 2 3\n",
      "3558 0 5\n",
      "3559 5 8\n",
      "3567 5 8\n",
      "3574 7 0\n",
      "3597 3 9\n",
      "3634 2 0\n",
      "3674 3 8\n",
      "3702 4 5\n",
      "3718 9 4\n",
      "3727 4 8\n",
      "3751 2 7\n",
      "3764 7 0\n",
      "3780 6 4\n",
      "3811 3 2\n",
      "3818 4 0\n",
      "3838 1 7\n",
      "3853 2 6\n",
      "3893 6 5\n",
      "3906 2 1\n",
      "3941 2 4\n",
      "3968 3 5\n",
      "3976 1 7\n",
      "3985 4 9\n",
      "4000 8 9\n",
      "4007 4 7\n",
      "4063 5 6\n",
      "4065 2 0\n",
      "4075 3 8\n",
      "4078 3 9\n",
      "4140 2 8\n",
      "4176 7 2\n",
      "4199 9 7\n",
      "4201 7 1\n",
      "4224 7 9\n",
      "4248 1 2\n",
      "4289 7 2\n",
      "4306 7 3\n",
      "4374 6 5\n",
      "4419 4 8\n",
      "4433 2 7\n",
      "4437 2 3\n",
      "4439 4 6\n",
      "4443 2 3\n",
      "4497 7 8\n",
      "4498 3 7\n",
      "4534 3 9\n",
      "4536 5 6\n",
      "4547 2 6\n",
      "4548 6 5\n",
      "4551 4 7\n",
      "4567 9 4\n",
      "4601 4 8\n",
      "4731 7 8\n",
      "4761 8 9\n",
      "4807 3 8\n",
      "4814 4 6\n",
      "4823 4 9\n",
      "4860 9 4\n",
      "4880 8 0\n",
      "4890 2 8\n",
      "4918 4 9\n",
      "4956 4 8\n",
      "5046 5 3\n",
      "5165 5 0\n",
      "5246 2 7\n",
      "5331 6 1\n",
      "5409 6 4\n",
      "5450 7 0\n",
      "5495 3 8\n",
      "5642 5 1\n",
      "5676 2 4\n",
      "5734 7 3\n",
      "5749 2 8\n",
      "5771 2 8\n",
      "5842 7 4\n",
      "5888 6 4\n",
      "5936 9 4\n",
      "5937 3 5\n",
      "5955 8 3\n",
      "5972 3 5\n",
      "5973 8 3\n",
      "5982 3 5\n",
      "6011 9 3\n",
      "6030 9 3\n",
      "6045 9 3\n",
      "6059 9 3\n",
      "6071 3 9\n",
      "6166 3 9\n",
      "6238 2 8\n",
      "6359 2 8\n",
      "6370 2 3\n",
      "6400 6 0\n",
      "6421 2 3\n",
      "6532 7 0\n",
      "6538 2 6\n",
      "6555 9 8\n",
      "6557 2 0\n",
      "6558 2 6\n",
      "6568 4 9\n",
      "6571 7 9\n",
      "6576 1 7\n",
      "6577 2 7\n",
      "6597 7 0\n",
      "6598 1 5\n",
      "6625 4 8\n",
      "6651 4 0\n",
      "6755 9 8\n",
      "6769 8 4\n",
      "6783 6 1\n",
      "6847 4 6\n",
      "7182 7 9\n",
      "7208 7 8\n",
      "7434 8 4\n",
      "7451 8 5\n",
      "7472 7 2\n",
      "7492 7 2\n",
      "7800 2 3\n",
      "7821 2 3\n",
      "7858 2 3\n",
      "7886 4 2\n",
      "8062 8 5\n",
      "8091 8 2\n",
      "8094 8 2\n",
      "8143 4 6\n",
      "8183 5 8\n",
      "8246 9 3\n",
      "8273 9 0\n",
      "8279 4 8\n",
      "8311 4 6\n",
      "8325 6 0\n",
      "8362 5 3\n",
      "8408 5 8\n",
      "8413 5 8\n",
      "8520 9 4\n",
      "8522 6 8\n",
      "8527 9 4\n",
      "9009 2 7\n",
      "9015 2 7\n",
      "9019 2 7\n",
      "9024 2 7\n",
      "9202 9 3\n",
      "9280 5 8\n",
      "9422 3 5\n",
      "9587 4 9\n",
      "9634 3 0\n",
      "9679 3 6\n",
      "9698 1 6\n",
      "9729 6 5\n",
      "9745 2 4\n",
      "9755 5 8\n",
      "9768 9 2\n",
      "9770 0 5\n",
      "9779 0 2\n",
      "9782 5 6\n",
      "9808 4 9\n",
      "9839 7 2\n",
      "9879 2 0\n",
      "9944 9 3\n",
      "9982 6 5\n",
      "286\n"
     ]
    }
   ],
   "source": [
    "pred = m2.predict(X_test)\n",
    "count = 0\n",
    "for i in range(len(pred)):\n",
    "    if pred[i].argmax() != y_test[i]:\n",
    "        count += 1\n",
    "        print(i,pred[i].argmax(), y_test[i])\n",
    "print(count)"
   ]
  },
  {
   "cell_type": "code",
   "execution_count": 31,
   "metadata": {},
   "outputs": [
    {
     "data": {
      "image/png": "[encoded data removed]",
      "text/plain": [
       "<Figure size 640x480 with 1 Axes>"
      ]
     },
     "metadata": {},
     "output_type": "display_data"
    }
   ],
   "source": [
    "# 시각화 하기 위해서 784로 된 이미지를 28,28로 변환\n",
    "plt.imshow(X_test[8527].reshape(28,28),cmap=\"gray\")\n",
    "plt.show()"
   ]
  },
  {
   "cell_type": "markdown",
   "metadata": {},
   "source": [
    "- 베스트모델 저장\n",
    "    - 가장 좋은 모델이 최종 모델과 일치하지 않는 경우 가장 좋은 모델을 반복시 마다 저장하는 것\n",
    "    - ModelCheckpoint() 사용\n",
    "        - filepath : 파일명\n",
    "        - monitor : 베스트모델일 기준\n",
    "        - save_best_only : True이면 베스트모델인 경우에만 저장, False이면 모든 모델을 다 저장\n",
    "- 학습 중단\n",
    "    - 학습이 설정된 반복수동안 더 나아지지 않는다면 학습을 중지하는 기능\n",
    "    - EarlyStopping() 사용\n",
    "        - monitor : 학습중단 조건\n",
    "        - patience : 기준이 더 좋아지지 않더라도 대기하는 반복 수\n",
    "        "
   ]
  },
  {
   "cell_type": "code",
   "execution_count": 32,
   "metadata": {},
   "outputs": [],
   "source": [
    "from tensorflow.keras.callbacks import EarlyStopping,ModelCheckpoint"
   ]
  },
  {
   "cell_type": "code",
   "execution_count": 37,
   "metadata": {},
   "outputs": [
    {
     "name": "stdout",
     "output_type": "stream",
     "text": [
      "Epoch 1/10\n",
      "\u001b[1m375/375\u001b[0m \u001b[32m━━━━━━━━━━━━━━━━━━━━\u001b[0m\u001b[37m\u001b[0m \u001b[1m1s\u001b[0m 1ms/step - accuracy: 0.9976 - loss: 0.0072 - val_accuracy: 0.9781 - val_loss: 0.1107\n",
      "Epoch 2/10\n",
      "\u001b[1m375/375\u001b[0m \u001b[32m━━━━━━━━━━━━━━━━━━━━\u001b[0m\u001b[37m\u001b[0m \u001b[1m0s\u001b[0m 1ms/step - accuracy: 0.9983 - loss: 0.0054 - val_accuracy: 0.9805 - val_loss: 0.0976\n",
      "Epoch 3/10\n",
      "\u001b[1m375/375\u001b[0m \u001b[32m━━━━━━━━━━━━━━━━━━━━\u001b[0m\u001b[37m\u001b[0m \u001b[1m0s\u001b[0m 1ms/step - accuracy: 0.9995 - loss: 0.0025 - val_accuracy: 0.9803 - val_loss: 0.1052\n",
      "Epoch 4/10\n",
      "\u001b[1m375/375\u001b[0m \u001b[32m━━━━━━━━━━━━━━━━━━━━\u001b[0m\u001b[37m\u001b[0m \u001b[1m0s\u001b[0m 1ms/step - accuracy: 0.9988 - loss: 0.0046 - val_accuracy: 0.9743 - val_loss: 0.1403\n",
      "Epoch 5/10\n",
      "\u001b[1m375/375\u001b[0m \u001b[32m━━━━━━━━━━━━━━━━━━━━\u001b[0m\u001b[37m\u001b[0m \u001b[1m0s\u001b[0m 1ms/step - accuracy: 0.9967 - loss: 0.0095 - val_accuracy: 0.9785 - val_loss: 0.1247\n",
      "Epoch 6/10\n",
      "\u001b[1m375/375\u001b[0m \u001b[32m━━━━━━━━━━━━━━━━━━━━\u001b[0m\u001b[37m\u001b[0m \u001b[1m0s\u001b[0m 1ms/step - accuracy: 0.9985 - loss: 0.0044 - val_accuracy: 0.9785 - val_loss: 0.1213\n",
      "Epoch 7/10\n",
      "\u001b[1m375/375\u001b[0m \u001b[32m━━━━━━━━━━━━━━━━━━━━\u001b[0m\u001b[37m\u001b[0m \u001b[1m0s\u001b[0m 1ms/step - accuracy: 0.9985 - loss: 0.0046 - val_accuracy: 0.9789 - val_loss: 0.1183\n"
     ]
    }
   ],
   "source": [
    "# 파일명 형식 설정\n",
    "# epoch:03d : epoch변수 값을 정수형 3자리로 표시, 자리수가 적으면 오른쪽에 0을 채워서 표시\n",
    "# loss:.3f : loss 키 값을 소수점 3째짜리로 표시\n",
    "# 파일명 형태 : mnist_best_003_89.06_88.45.hdf5\n",
    "filename = \"./model/mnist_best_{epoch:03d}_{loss:.3f}_{val_loss:.3f}.keras\"\n",
    "\n",
    "# 베스트모델 저장 설정\n",
    "mc = ModelCheckpoint(filepath=filename,monitor=\"val_loss\",save_best_only=True)\n",
    "\n",
    "# 학습중단 기능 설정\n",
    "# monitor 값은 ModelCheckpoint의 monitor 값과 동일한 갓ㅂ을 사용\n",
    "# val_loss 값이 5회동안 더 좋아지지 않으면 학습을 중단\n",
    "es = EarlyStopping(monitor=\"val_loss\", patience=5)\n",
    "\n",
    "\n",
    "h2 = m1.fit(X_train,y_train_en, epochs=10, batch_size=128, validation_split=0.2, callbacks=[mc,es])"
   ]
  },
  {
   "cell_type": "code",
   "execution_count": 39,
   "metadata": {},
   "outputs": [],
   "source": [
    "# 모델 불러오기\n",
    "bs_model = load_model(\"./model/mnist_best_001_0.006_0.111.keras\")"
   ]
  },
  {
   "cell_type": "code",
   "execution_count": 40,
   "metadata": {},
   "outputs": [
    {
     "name": "stdout",
     "output_type": "stream",
     "text": [
      "\u001b[1m313/313\u001b[0m \u001b[32m━━━━━━━━━━━━━━━━━━━━\u001b[0m\u001b[37m\u001b[0m \u001b[1m0s\u001b[0m 634us/step - accuracy: 0.9735 - loss: 0.1712\n"
     ]
    },
    {
     "data": {
      "text/plain": [
       "[0.15101094543933868, 0.9739999771118164]"
      ]
     },
     "execution_count": 40,
     "metadata": {},
     "output_type": "execute_result"
    }
   ],
   "source": [
    "bs_model.evaluate(X_test,y_test_en)"
   ]
  },
  {
   "cell_type": "code",
   "execution_count": 41,
   "metadata": {},
   "outputs": [],
   "source": [
    "import PIL.Image as img"
   ]
  },
  {
   "cell_type": "code",
   "execution_count": 51,
   "metadata": {},
   "outputs": [
    {
     "data": {
      "image/png": "[encoded data removed]",
      "text/plain": [
       "<Figure size 640x480 with 1 Axes>"
      ]
     },
     "metadata": {},
     "output_type": "display_data"
    }
   ],
   "source": [
    "# 이미지 불러오기\n",
    "# convert('L') : 칼라 이미지를 흑백이미지로 변환\n",
    "num_img = img.open(\"./data/6.png\").convert(\"L\")\n",
    "num_img = np.array(num_img)\n",
    "\n",
    "plt.imshow(num_img,cmap=\"gray\")\n",
    "plt.show()"
   ]
  },
  {
   "cell_type": "markdown",
   "metadata": {},
   "source": [
    "- 훈련데이터와 동일한 전처리\n",
    "    - 2차원 -> 1차원\n",
    "    - 정규화"
   ]
  },
  {
   "cell_type": "code",
   "execution_count": 52,
   "metadata": {},
   "outputs": [
    {
     "data": {
      "text/plain": [
       "(1, 784)"
      ]
     },
     "execution_count": 52,
     "metadata": {},
     "output_type": "execute_result"
    }
   ],
   "source": [
    "test_img = num_img.reshape(-1,28*28)\n",
    "test_img.shape"
   ]
  },
  {
   "cell_type": "code",
   "execution_count": 53,
   "metadata": {},
   "outputs": [],
   "source": [
    "test_img = test_img/255.0"
   ]
  },
  {
   "cell_type": "markdown",
   "metadata": {},
   "source": [
    "- 예측"
   ]
  },
  {
   "cell_type": "code",
   "execution_count": 54,
   "metadata": {},
   "outputs": [
    {
     "name": "stdout",
     "output_type": "stream",
     "text": [
      "\u001b[1m1/1\u001b[0m \u001b[32m━━━━━━━━━━━━━━━━━━━━\u001b[0m\u001b[37m\u001b[0m \u001b[1m0s\u001b[0m 17ms/step\n",
      "출력결과 :  [[3.3253254e-16 4.3917904e-20 3.7985183e-19 4.2039513e-19 1.9549631e-15\n",
      "  8.3341329e-06 9.9999166e-01 1.2910004e-28 1.9878826e-08 1.0642370e-17]]\n",
      "예측값 :  6\n"
     ]
    }
   ],
   "source": [
    "pred = bs_model.predict(test_img)\n",
    "print(\"출력결과 : \",pred)\n",
    "print(\"예측값 : \",pred.argmax())"
   ]
  },
  {
   "cell_type": "markdown",
   "metadata": {},
   "source": [
    "- 과적합 감소 방법 : Drop out\n",
    "    - 해당 층에서 학습에 참여하지 안흔 퍼셉트론의 비율을 설정\n",
    "    - 반복 시마다 Dropout되는 퍼셉트론 다름(랜덤)\n",
    "    - Dropout 비율은 0.5이하로 설정\n",
    "        - 설계한 신경망 층의 특성을 유지하도록 하기 위해\n",
    "    - Dropout의 위치는 층 사이의 파라미터의 수가 크게 차이 나는 곳에 배치\n",
    "    "
   ]
  },
  {
   "cell_type": "code",
   "execution_count": null,
   "metadata": {},
   "outputs": [],
   "source": []
  }
 ],
 "metadata": {
  "kernelspec": {
   "display_name": "base",
   "language": "python",
   "name": "python3"
  },
  "language_info": {
   "codemirror_mode": {
    "name": "ipython",
    "version": 3
   },
   "file_extension": ".py",
   "mimetype": "text/x-python",
   "name": "python",
   "nbconvert_exporter": "python",
   "pygments_lexer": "ipython3",
   "version": "3.11.7"
  }
 },
 "nbformat": 4,
 "nbformat_minor": 2
}
