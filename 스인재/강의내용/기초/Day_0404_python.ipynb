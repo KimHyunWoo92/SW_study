{
 "cells": [
  {
   "cell_type": "code",
   "execution_count": 6,
   "metadata": {},
   "outputs": [],
   "source": [
    "# 자료형 확인시 유용한 도구\n",
    "x = 100\n",
    "y = 100.0\n",
    "z = \"100\""
   ]
  },
  {
   "cell_type": "code",
   "execution_count": 9,
   "metadata": {},
   "outputs": [
    {
     "name": "stdout",
     "output_type": "stream",
     "text": [
      "============================== x ==============================\n",
      "<class 'int'>\n",
      "True\n",
      "False\n",
      "============================== y ==============================\n",
      "<class 'float'>\n",
      "True\n",
      "============================== z ==============================\n",
      "<class 'str'>\n",
      "True\n"
     ]
    }
   ],
   "source": [
    "print(\"=\" * 30,\"x\",\"=\"*30)\n",
    "print(type(x))# 자료형 확인\n",
    "print(isinstance(x,int)) #해당 자료형이 맞는지 확인\n",
    "print(isinstance(x,float))\n",
    "\n",
    "\n",
    "print(\"=\" * 30,\"y\",\"=\"*30)\n",
    "print(type(y))\n",
    "print(isinstance(y,float))\n",
    "\n",
    "print(\"=\" * 30,\"z\",\"=\"*30)\n",
    "print(type(z))\n",
    "print(isinstance(z,str))\n"
   ]
  },
  {
   "cell_type": "markdown",
   "metadata": {},
   "source": [
    "### 문자열 다루기\n",
    "- 문자열 안에 홀따옴표나 쌍따옴표를 포함시키고 싶을 때"
   ]
  },
  {
   "cell_type": "code",
   "execution_count": 10,
   "metadata": {},
   "outputs": [],
   "source": [
    "# 아래의 코드를 실행시켰을떄 'she'만 문자열로 인식,\n",
    "# 이때 다른 부호로 감싸주면, 전체가 다 문자열로 인식가능\n",
    "s1 ='she's gone'\n",
    "\n",
    "s2 = \"she's gone\"\n",
    "\n",
    "# 위 두가지 방식은 제한사항이 있음\n",
    "# \\를 통해서 she 다음의 '가 문자열을 구분하는 '가 아님을 나타냄\n",
    "# \\ : 이미 약속된 문자열 조합으로 뒤에 있는 홀따움표를 그대로 출력\n",
    "s3 = 'she\\'s gone'"
   ]
  },
  {
   "attachments": {
    "image.png": {
     "image/png": "[encoded data removed]"
    }
   },
   "cell_type": "markdown",
   "metadata": {},
   "source": [
    "#### 이스케이프 코드\n",
    "- 프로그래밍 할 때 사용할 수 있도록 미리 정의해둔 \"문자조합\"\n",
    "![image.png](attachment:image.png)\n"
   ]
  },
  {
   "cell_type": "code",
   "execution_count": 17,
   "metadata": {},
   "outputs": [
    {
     "name": "stdout",
     "output_type": "stream",
     "text": [
      "제목 : 풀꽃\n",
      "시인 : 나태주\n",
      "\n",
      "자세히 보아야 예쁘다.\n",
      "오래 보아야 사랑스럽다.\n",
      "너도 그렇다.\n"
     ]
    }
   ],
   "source": [
    "s = \"제목 : 풀꽃\\n시인 : 나태주\\n\\n자세히 보아야 예쁘다.\\n오래 보아야 사랑스럽다.\\n너도 그렇다.\"\n",
    "print(s)"
   ]
  },
  {
   "cell_type": "code",
   "execution_count": 18,
   "metadata": {},
   "outputs": [
    {
     "name": "stdout",
     "output_type": "stream",
     "text": [
      "제목 : 풀꽃\n",
      "시인 : 나태주\n",
      "\n",
      "자세히 보아야 예쁘다.\n",
      "오래 보아야 사랑스럽다.\n",
      "너도 그렇다.\n"
     ]
    }
   ],
   "source": [
    "# 긴 문자열 기호 : \"\"\"\"\"\", ''''''\n",
    "s = \"\"\"제목 : 풀꽃\n",
    "시인 : 나태주\n",
    "\n",
    "자세히 보아야 예쁘다.\n",
    "오래 보아야 사랑스럽다.\n",
    "너도 그렇다.\"\"\"\n",
    "print(s)"
   ]
  },
  {
   "cell_type": "markdown",
   "metadata": {},
   "source": [
    "### 인덱싱, 슬라이싱\n",
    "- 인덱스(index) : 순서가 있는 데이터가 생성될 때, 자동으로 부여되는 순서(방번호)\n",
    "- 인덱싱(indexing) : 무엇인가는 가리킨다는 의미\n",
    "- 슬라이싱(slicing) : 무엇인가를 잘라낸다는 의미"
   ]
  },
  {
   "cell_type": "code",
   "execution_count": 21,
   "metadata": {},
   "outputs": [
    {
     "data": {
      "text/plain": [
       "'My name is KIM'"
      ]
     },
     "execution_count": 21,
     "metadata": {},
     "output_type": "execute_result"
    }
   ],
   "source": [
    "str1 = \"My name is KIM\"\n",
    "str1"
   ]
  },
  {
   "cell_type": "code",
   "execution_count": 26,
   "metadata": {},
   "outputs": [
    {
     "name": "stdout",
     "output_type": "stream",
     "text": [
      "i\n"
     ]
    }
   ],
   "source": [
    "#indexing\n",
    "print(str1[8])"
   ]
  },
  {
   "cell_type": "code",
   "execution_count": 32,
   "metadata": {},
   "outputs": [
    {
     "name": "stdout",
     "output_type": "stream",
     "text": [
      "name\n"
     ]
    }
   ],
   "source": [
    "print(str1[3:7])"
   ]
  },
  {
   "cell_type": "code",
   "execution_count": 39,
   "metadata": {},
   "outputs": [
    {
     "name": "stdout",
     "output_type": "stream",
     "text": [
      "년도 : 2024\n",
      "월일 : 0404\n",
      "날씨 :  Rain\n",
      "년도 : 2024\n",
      "월일 : 0404\n",
      "날씨 : Rain\n"
     ]
    }
   ],
   "source": [
    "#문자열 슬라이싱 실습\n",
    "day_info = \"20240404Rain\"\n",
    "year = \"년도 : \"\n",
    "day = \"월일 : \"\n",
    "weather = \"날씨 : \"\n",
    "\n",
    "#sep=\"\"는 ','를 기준으로 어떻게 동작할 것인지 기본은 띄어쓰기\n",
    "print(year,day_info[:4],sep='')\n",
    "print(day,day_info[4:8],sep='')\n",
    "print(weather,day_info[8:])\n",
    "\n",
    "print(f\"{year+day_info[:4]}\\n{day+day_info[4:8]}\\n{weather+day_info[8:]}\")"
   ]
  },
  {
   "cell_type": "markdown",
   "metadata": {},
   "source": [
    "### 문자열 포매팅\n",
    "- 문자열 안에 특정한 값을 수정, 삽입해야 할 때 사용\n",
    "1. 포맷코드 활용\n",
    "2. format() 활용\n",
    "3. f문자열 포맷팅"
   ]
  },
  {
   "cell_type": "code",
   "execution_count": 40,
   "metadata": {},
   "outputs": [
    {
     "data": {
      "text/plain": [
       "'오늘은 04월 04일 입니다.'"
      ]
     },
     "execution_count": 40,
     "metadata": {},
     "output_type": "execute_result"
    }
   ],
   "source": [
    "#1.포맷코드\n",
    "month = 4\n",
    "day = 4\n",
    "s = \"오늘은 04월 %d일 입니다.\"%day\n",
    "s"
   ]
  },
  {
   "cell_type": "code",
   "execution_count": null,
   "metadata": {},
   "outputs": [],
   "source": [
    "month = 4\n",
    "day = 4\n",
    "# 두개 이상의 변수를 포매팅하고자 하는경우에는 소괄호로 묶어주어야함\n",
    "s = \"오늘은 %d월 %d일 입니다.\"%(month,day)\n",
    "s\n"
   ]
  },
  {
   "attachments": {
    "image.png": {
     "image/png": "[encoded data removed]"
    }
   },
   "cell_type": "markdown",
   "metadata": {},
   "source": [
    "![image.png](attachment:image.png)"
   ]
  },
  {
   "cell_type": "code",
   "execution_count": 41,
   "metadata": {},
   "outputs": [
    {
     "data": {
      "text/plain": [
       "'오늘은 4월 4일 입니다.'"
      ]
     },
     "execution_count": 41,
     "metadata": {},
     "output_type": "execute_result"
    }
   ],
   "source": [
    "#2. format() 도구 활용\n",
    "month = 4\n",
    "day = 4\n",
    "s = \"오늘은 {}월 {}일 입니다.\".format(month,day)\n",
    "s"
   ]
  },
  {
   "cell_type": "code",
   "execution_count": null,
   "metadata": {},
   "outputs": [],
   "source": [
    "#3. f문자열\n",
    "month =4\n",
    "day = 4\n",
    "s = f\"오늘은 {month}월 {day}일 입니다.\"\n",
    "s"
   ]
  },
  {
   "cell_type": "code",
   "execution_count": 45,
   "metadata": {},
   "outputs": [
    {
     "name": "stdout",
     "output_type": "stream",
     "text": [
      "100과 200의 합은 300입니다.\n",
      "100과 200의 합은 300입니다.\n",
      "100과 200의 합은 300입니다.\n"
     ]
    }
   ],
   "source": [
    "x = 100\n",
    "y = 200\n",
    "add = x+y\n",
    "\n",
    "print(\"%d과 %d의 합은 %d입니다.\"%(x,y,add))\n",
    "print(\"{}과 {}의 합은 {}입니다.\".format(x,y,add))\n",
    "print(f\"{x}과 {y}의 합은 {add}입니다.\")\n"
   ]
  },
  {
   "cell_type": "code",
   "execution_count": 49,
   "metadata": {},
   "outputs": [
    {
     "name": "stdout",
     "output_type": "stream",
     "text": [
      "오늘 날씨가 흐립니다.\n",
      "1\n"
     ]
    }
   ],
   "source": [
    "s = \"오늘 날씨가 흐립니다!\"\n",
    "print(s.replace(\"!\",\".\"))\n",
    "print(s.count(\"오\"))"
   ]
  },
  {
   "cell_type": "markdown",
   "metadata": {},
   "source": [
    "### 문자열 함수\n",
    "| 함수 | 사용법 | 설명 | 반환값 |\n",
    "|------|--------|------|-------|\n",
    "| replace | `str.replace(old, new[, count])` | 문자열에서 `old`를 `new`로 대체 | 새 문자열 |\n",
    "| upper | `str.upper()` | 문자열의 모든 문자를 대문자로 변환 | 새 문자열 |\n",
    "| lower | `str.lower()` | 문자열의 모든 문자를 소문자로 변환 | 새 문자열 |\n",
    "| strip | `str.strip([chars])` | 문자열 양쪽 끝의 공백이나 `chars`에 지정된 문자 제거 | 새 문자열 |\n",
    "| lstrip | `str.lstrip([chars])` | 문자열 왼쪽 끝의 공백이나 `chars`에 지정된 문자 제거 | 새 문자열 |\n",
    "| rstrip | `str.rstrip([chars])` | 문자열 오른쪽 끝의 공백이나 `chars`에 지정된 문자 제거 | 새 문자열 |\n",
    "| find | `str.find(sub[, start[, end]])` | 부분 문자열 `sub`이 처음 나타나는 위치 탐색 | 위치 인덱스 또는 -1 |\n",
    "| rfind | `str.rfind(sub[, start[, end]])` | 부분 문자열 `sub`이 마지막으로 나타나는 위치 탐색 | 위치 인덱스 또는 -1 |\n",
    "| split | `str.split([sep[, maxsplit]])` | `sep`을 기준으로 문자열을 나눔 | 문자열 리스트 |\n",
    "| rsplit | `str.rsplit([sep[, maxsplit]])` | `sep`을 기준으로 문자열을 오른쪽에서부터 나눔 | 문자열 리스트 |\n",
    "| join | `str.join(iterable)` | `iterable`의 각 요소를 문자열로 연결 | 새 문자열 |\n",
    "| count | `str.count(sub[, start[, end]])` | 문자열에서 부분 문자열 `sub`의 출현 횟수 계산 | 정수 |\n",
    "| index | `str.index(sub[, start[, end]])` | 부분 문자열 `sub`이 처음 나타나는 위치 탐색(찾지 못하면 예외 발생) | 위치 인덱스 |\n",
    "| rindex | `str.rindex(sub[, start[, end]])` | 부분 문자열 `sub`이 마지막으로 나타나는 위치 탐색(찾지 못하면 예외 발생) | 위치 인덱스 |\n",
    "| startswith | `str.startswith(prefix[, start[, end]])` | 문자열이 지정된 접두어로 시작하는지 여부 | 불리언 |\n",
    "| endswith | `str.endswith(suffix[, start[, end]])` | 문자열이 지정된 접미어로 끝나는지 여부 | 불리언 |\n",
    "| isdigit | `str.isdigit()` | 문자열이 숫자로만 구성되어 있는지 여부 | 불리언 |\n",
    "| isalpha | `str.isalpha()` | 문자열이 알파벳 문자로만 구성되어 있는지 여부 | 불리언 |\n",
    "| isalnum | `str.isalnum()` | 문자열이 알파벳 문자와 숫자로만 구성되어 있는지 여부 | 불리언 |\n",
    "| isspace | `str.isspace()` | 문자열이 공백 문자로만 구성되어 있는지 여부 | 불리언 |\n",
    "| istitle | `str.istitle()` | 문자열이 타이틀 케이스(각 단어의 첫 글자가 대문자)인지 여부 | 불리언 |\n",
    "| capitalize | `str.capitalize()` | 문자열의 첫 글자를 대문자로, 나머지는 소문자로 변환 | 새 문자열 |\n",
    "| title | `str.title()` | 각 단어의 첫 글자를 대문자로, 나머지는 소문자로 변환 | 새 문자열 |\n",
    "| zfill | `str.zfill(width)` | 문자열의 왼쪽을 '0'으로 채워 지정된 너비에 맞춤 | 새 문자열 |\n",
    "| ljust | `str.ljust(width[, fillchar])` | 문자열을 지정된 너비로 왼쪽 정렬 | 새 문자열 |\n",
    "| rjust | `str.rjust(width[, fillchar])` | 문자열을 지정된 너비로 오른쪽 정렬 | 새 문자열 |\n",
    "| center | `str.center(width[, fillchar])` | 문자열을 지정된 너비로 중앙 정렬 | 새 문자열 |\n",
    "| encode | `str.encode(encoding='utf-8', errors='strict')` | 문자열을 지정된 인코딩으로 인코딩 | 바이트 객체 |\n",
    "| format | `str.format(*args, **kwargs)` | 문자열의 형식을 지정된 값으로 채움 | 새 문자열 |"
   ]
  },
  {
   "cell_type": "markdown",
   "metadata": {},
   "source": [
    "#### 연산자\n",
    "1. 산술연산자 : +, -, *, /, //, %\n",
    "2. 지수연산자 : **\n",
    "3. 대입(복합)연산자 : =, +=, -=, *=, /=, //=, %=\n",
    "4. 관계(비교)연산자 : >, >=, <, <=, ==, !=\n",
    "5. 논리연산자\n",
    "    - and : 두 값이 참인경우 참(True), 이 이외에는 모두 거짓(False)\n",
    "    - or : 두 값중 하나라도 참인경우 참(True), 두 값이 거짓인 경우에 거짓(False)\n",
    "    - not : 부정\n",
    "\n",
    "6. 멤버연산자 : in, not in\n",
    "7. 삼항연산자 : a if 조건식 else b\n"
   ]
  },
  {
   "cell_type": "code",
   "execution_count": 52,
   "metadata": {},
   "outputs": [
    {
     "name": "stdout",
     "output_type": "stream",
     "text": [
      "나누기는 : 1.43\n",
      "몫나누기는 : 1\n",
      "나머지는 : 3\n"
     ]
    }
   ],
   "source": [
    "#산술연산자\n",
    "num1 = 10\n",
    "num2 = 7\n",
    "# :.2f는 소수점 둘째자리까지만 출력, 알아서 반올림하겠다.\n",
    "print(f\"나누기는 : {num1/num2:.2f}\")\n",
    "print(f\"몫나누기는 : {num1//num2}\")\n",
    "print(f\"나머지는 : {num1%num2}\")"
   ]
  },
  {
   "cell_type": "code",
   "execution_count": null,
   "metadata": {},
   "outputs": [],
   "source": [
    "str1 = \"안녕\"\n",
    "str2 = \"하세요~\"\n",
    "print(str1+str2)\n",
    "num_str1 = \"10\"\n",
    "num_str2 = \"7\"\n",
    "print(num_str1+num_str2)"
   ]
  }
 ],
 "metadata": {
  "kernelspec": {
   "display_name": "base",
   "language": "python",
   "name": "python3"
  },
  "language_info": {
   "codemirror_mode": {
    "name": "ipython",
    "version": 3
   },
   "file_extension": ".py",
   "mimetype": "text/x-python",
   "name": "python",
   "nbconvert_exporter": "python",
   "pygments_lexer": "ipython3",
   "version": "3.11.7"
  }
 },
 "nbformat": 4,
 "nbformat_minor": 2
}
