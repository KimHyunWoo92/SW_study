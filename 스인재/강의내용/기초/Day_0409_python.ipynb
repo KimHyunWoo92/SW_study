{
 "cells": [
  {
   "cell_type": "markdown",
   "metadata": {},
   "source": [
    "### 1.리스트\n",
    "- 파 이썬에 제공하는 자료형 중 하나\n",
    "- 순 서가 있는 수정 가능한 객체의 집합> \n",
    "\n",
    "- 대괄호 []로 작성되어, ㅂ=1'닛"
   ]
  },
  {
   "cell_type": "code",
   "execution_count": null,
   "metadata": {},
   "outputs": [],
   "source": [
    "# list\n",
    "list1=[]"
   ]
  },
  {
   "cell_type": "code",
   "execution_count": 1,
   "metadata": {},
   "outputs": [
    {
     "name": "stdout",
     "output_type": "stream",
     "text": [
      "파이썬최고\n",
      "파이썬최고\n",
      "파이썬최고\n",
      "파이썬최고\n",
      "파이썬최고\n",
      "파이썬최고\n",
      "파이썬최고\n",
      "파이썬최고\n",
      "파이썬최고\n",
      "파이썬최고\n"
     ]
    }
   ],
   "source": [
    "cut = 0\n",
    "while cut != 10 :\n",
    "    cut += 1\n",
    "    print(\"파이썬최고\")\n"
   ]
  },
  {
   "cell_type": "code",
   "execution_count": 2,
   "metadata": {},
   "outputs": [
    {
     "name": "stdout",
     "output_type": "stream",
     "text": [
      "파이썬최고\n",
      "파이썬최고\n",
      "파이썬최고\n",
      "파이썬최고\n",
      "파이썬최고\n",
      "파이썬최고\n",
      "파이썬최고\n",
      "파이썬최고\n",
      "파이썬최고\n",
      "파이썬최고\n"
     ]
    }
   ],
   "source": [
    "cnt = 1\n",
    "while True:\n",
    "    print(\"파이썬최고\")\n",
    "    if cnt == 10:\n",
    "        break\n",
    "    cnt += 1\n"
   ]
  },
  {
   "cell_type": "code",
   "execution_count": 6,
   "metadata": {},
   "outputs": [
    {
     "name": "stdout",
     "output_type": "stream",
     "text": [
      "두 정수의 합 : 4\n",
      "두 정수의 합 : 10\n",
      "두 정수의 합 : 90\n",
      "두 정수의 합 : 0\n",
      "프로그램이 종료되었습니다.\n"
     ]
    }
   ],
   "source": [
    "while True:\n",
    "    num1 = int(input(\"첫번째 정수 입력 :\"))\n",
    "    num2 = int(input(\"두번째 정수 입력 :\"))\n",
    "    print(f\"두 정수의 합 : {num1+num2}\")\n",
    "    if num1 == num2 == 0:\n",
    "        print(\"프로그램이 종료되었습니다.\")\n",
    "        break\n"
   ]
  }
 ],
 "metadata": {
  "kernelspec": {
   "display_name": "base",
   "language": "python",
   "name": "python3"
  },
  "language_info": {
   "codemirror_mode": {
    "name": "ipython",
    "version": 3
   },
   "file_extension": ".py",
   "mimetype": "text/x-python",
   "name": "python",
   "nbconvert_exporter": "python",
   "pygments_lexer": "ipython3",
   "version": "3.11.7"
  }
 },
 "nbformat": 4,
 "nbformat_minor": 2
}
