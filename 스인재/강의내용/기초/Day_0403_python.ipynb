{
 "cells": [
  {
   "cell_type": "markdown",
   "metadata": {},
   "source": [
    "### 변수, 자료형\n",
    "- 이미지나 표 등 다양한 형태로 메모하고자 할때 사용.\n",
    "- 프로그래밍에는 영향을 주지 않음"
   ]
  },
  {
   "cell_type": "markdown",
   "metadata": {},
   "source": [
    "#### 주피터 노트북 셀 구조\n",
    "- 마크다운 셀, 에디터 셀\n",
    "- 에딧셀\n",
    "    - 커맨드모드 : 셀을 조작할때 사용되는 모드\n",
    "    - 에딧모드 : 셀에 코드를 입력하는 모드\n",
    "\n",
    "#### 단축기 정리(커맨드모드)\n",
    "- Enter : 에딧모드로 변환\n",
    "- a : 위에 셀을 추가\n",
    "- b : 아래에 셀을 추가\n",
    "- n : 마크다운 셀로 전환\n",
    "- y : 에딧셀로 전환\n",
    "- x or dd : 셀 삭제\n",
    "\n",
    "#### 단축기 정리(에딧모드)\n",
    "- ESC : 커맨드모드로 변환\n",
    "\n",
    "#### 실행 단축기\n",
    "- Ctrl + Enter : 현재 셀 실행\n",
    "- Shift + Enter : 현재 셀 실행 후 다음 셀로 이동"
   ]
  },
  {
   "cell_type": "code",
   "execution_count": 3,
   "metadata": {},
   "outputs": [
    {
     "name": "stdout",
     "output_type": "stream",
     "text": [
      "3.1423\n",
      "1.24\n",
      "3.12\n"
     ]
    }
   ],
   "source": [
    "num4 = 3.1423\n",
    "num5 = 1.24\n",
    "num6 = 3.12\n",
    "\n",
    "print(num4)\n",
    "print(num5)\n",
    "print(num6)"
   ]
  },
  {
   "cell_type": "code",
   "execution_count": 4,
   "metadata": {},
   "outputs": [
    {
     "name": "stdout",
     "output_type": "stream",
     "text": [
      "Funny\n",
      "Easy\n",
      "Lunch\n"
     ]
    }
   ],
   "source": [
    "str1 = \"Funny\"\n",
    "str2 = \"Easy\"\n",
    "str3 = \"Lunch\"\n",
    "\n",
    "print(str1)\n",
    "print(str2)\n",
    "print(str3)"
   ]
  },
  {
   "cell_type": "markdown",
   "metadata": {},
   "source": [
    "### 변수명 규칙\n",
    "1. 영문자, 숫자, 언더바 \"_\" 사용가능\n",
    "2. 영문자는 대문자, 소문자를 다르게 인식\n",
    "3. 변수명은 숫자로 시작할 수 없음\n",
    "4. 예약어(키워드) 사용 불가"
   ]
  },
  {
   "cell_type": "markdown",
   "metadata": {},
   "source": [
    "# 변수명 권장사항\n",
    "- error가 발생하지 않지만, 개발자끼리 약속하여 정해둔 규칙\n",
    "- 소문자로 시작\n",
    "- 두가지이상의 단어를 넣어 변수명을 지정 할 경우, \"_\"를 통해서 구분\n",
    "\n"
   ]
  },
  {
   "cell_type": "code",
   "execution_count": 5,
   "metadata": {},
   "outputs": [
    {
     "name": "stdout",
     "output_type": "stream",
     "text": [
      "300\n"
     ]
    }
   ],
   "source": [
    "x = 100\n",
    "y = 200\n",
    "sum = x+y\n",
    "\n",
    "print(sum)"
   ]
  },
  {
   "cell_type": "markdown",
   "metadata": {},
   "source": [
    "# python에서 기본적으로 제공되는 도구들은 변수로 활용이 가능하지만,\n",
    "# 해당기능을 잃어버리기때문에 조심할것."
   ]
  }
 ],
 "metadata": {
  "kernelspec": {
   "display_name": "base",
   "language": "python",
   "name": "python3"
  },
  "language_info": {
   "codemirror_mode": {
    "name": "ipython",
    "version": 3
   },
   "file_extension": ".py",
   "mimetype": "text/x-python",
   "name": "python",
   "nbconvert_exporter": "python",
   "pygments_lexer": "ipython3",
   "version": "3.11.7"
  }
 },
 "nbformat": 4,
 "nbformat_minor": 2
}
