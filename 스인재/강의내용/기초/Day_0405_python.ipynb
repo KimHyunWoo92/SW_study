{
 "cells": [
  {
   "cell_type": "code",
   "execution_count": null,
   "metadata": {},
   "outputs": [],
   "source": [
    "#캐스팅 : 타입을 변환\n",
    "str1 = \"10\"\n",
    "num1 = 7\n",
    "\n",
    "print(int(str1)+num1)\n",
    "print(str1+str(num1))"
   ]
  },
  {
   "cell_type": "code",
   "execution_count": 6,
   "metadata": {},
   "outputs": [
    {
     "name": "stdout",
     "output_type": "stream",
     "text": [
      "더하기 결과 : 10\n",
      "빼기 결과 : -4\n",
      "곱하기 결과 : 21\n",
      "나누기 결과 : 0.42857142857142855\n",
      "<class 'int'>\n"
     ]
    }
   ],
   "source": [
    "num1 = int(input(\"정수를 입력하세요 >> \"))\n",
    "num2 = int(input(\"정수를 입력하세요 >> \"))\n",
    "print(f\"더하기 결과 : {num1+num2}\")\n",
    "print(f\"빼기 결과 : {num1-num2}\")\n",
    "print(f\"곱하기 결과 : {num1*num2}\")\n",
    "print(f\"나누기 결과 : {num1/num2}\")\n",
    "\n",
    "print(type(num1))"
   ]
  },
  {
   "cell_type": "code",
   "execution_count": 7,
   "metadata": {},
   "outputs": [
    {
     "name": "stdout",
     "output_type": "stream",
     "text": [
      "5의 2승은 25입니다!\n"
     ]
    }
   ],
   "source": [
    "#지수연산자\n",
    "num = int(input(\"정수를 입력하세요 : \"))\n",
    "power = int(input(\"지수를 입력하세요 : \"))\n",
    "\n",
    "print(f\"{num}의 {power}승은 {num**power}입니다!\")"
   ]
  },
  {
   "cell_type": "code",
   "execution_count": 25,
   "metadata": {},
   "outputs": [
    {
     "name": "stdout",
     "output_type": "stream",
     "text": [
      "0시간 18분 43초\n"
     ]
    }
   ],
   "source": [
    "time = int(input(\"시간 입력 >> \"))\n",
    "\n",
    "hour = time//60**2 # time//(60*60) , time//3600\n",
    "minute = (time//60)%60\n",
    "second = time%60\n",
    "\n",
    "print(\"{}시간 {}분 {}초\".format(hour,minute,second))"
   ]
  },
  {
   "cell_type": "code",
   "execution_count": 26,
   "metadata": {},
   "outputs": [
    {
     "name": "stdout",
     "output_type": "stream",
     "text": [
      "27\n",
      "30\n"
     ]
    }
   ],
   "source": [
    "#대입연산자\n",
    "num = 27\n",
    "print(num)\n",
    "num += 3\n",
    "print(num)\n"
   ]
  },
  {
   "cell_type": "code",
   "execution_count": 27,
   "metadata": {},
   "outputs": [
    {
     "name": "stdout",
     "output_type": "stream",
     "text": [
      "100\n",
      "200\n"
     ]
    }
   ],
   "source": [
    "num = 100\n",
    "print(num)\n",
    "num *= 2\n",
    "print(num)"
   ]
  },
  {
   "cell_type": "code",
   "execution_count": 28,
   "metadata": {},
   "outputs": [
    {
     "data": {
      "text/plain": [
       "'합격'"
      ]
     },
     "execution_count": 28,
     "metadata": {},
     "output_type": "execute_result"
    }
   ],
   "source": [
    "score = 60\n",
    "\"합격\" if score >=60 else \"불합격\""
   ]
  },
  {
   "cell_type": "code",
   "execution_count": 36,
   "metadata": {},
   "outputs": [
    {
     "name": "stdout",
     "output_type": "stream",
     "text": [
      "두 수의 차 : 5\n"
     ]
    }
   ],
   "source": [
    "a = int(input(\"첫번째 정수 입력 : \"))\n",
    "b = int(input(\"두번째 정수 입력 : \"))\n",
    "\n",
    "print(\"두 수의 차 :\",a-b if a>b else b-a)"
   ]
  },
  {
   "cell_type": "code",
   "execution_count": 46,
   "metadata": {},
   "outputs": [
    {
     "name": "stdout",
     "output_type": "stream",
     "text": [
      "33는(은) 홀수입니다.\n"
     ]
    }
   ],
   "source": [
    "a = int(input(\"정수 입력 : \"))\n",
    "\n",
    "print(f\"{a}는(은)\",\"짝수입니다.\" if a%2 == 0 else \"홀수입니다.\")"
   ]
  },
  {
   "cell_type": "markdown",
   "metadata": {},
   "source": [
    "### 조건문\n",
    "- 상황에 다라 실행 흐름을 다르게 하는 문법"
   ]
  },
  {
   "cell_type": "code",
   "execution_count": 49,
   "metadata": {},
   "outputs": [
    {
     "name": "stdout",
     "output_type": "stream",
     "text": [
      "택시를 타겠다.\n"
     ]
    }
   ],
   "source": [
    "money = int(input(\"가지고있는 돈을 입력하세요 :\"))\n",
    "\n",
    "if money >= 5000:\n",
    "    print(\"택시를 타겠다.\")\n",
    "elif money >= 2500:\n",
    "    print(\"버스를 타겠다.\")\n",
    "else:\n",
    "    print(\"걸어가겠다.\")"
   ]
  },
  {
   "cell_type": "code",
   "execution_count": 61,
   "metadata": {},
   "outputs": [
    {
     "name": "stdout",
     "output_type": "stream",
     "text": [
      "두번째 정수가 큽니다.\n"
     ]
    }
   ],
   "source": [
    "a = int(input(\"첫번째 정수입력 :\"))\n",
    "b = int(input(\"두번째 정수입력 :\"))\n",
    "\n",
    "if a > b:\n",
    "    print(\"첫번째 정수가 큽니다.\")\n",
    "elif a == b:\n",
    "    print(\"두 수가 같습니다.\")\n",
    "else:\n",
    "    print(\"두번째 정수가 큽니다.\")"
   ]
  },
  {
   "cell_type": "code",
   "execution_count": 58,
   "metadata": {},
   "outputs": [
    {
     "name": "stdout",
     "output_type": "stream",
     "text": [
      "점수 입력 오류 입니다.\n"
     ]
    }
   ],
   "source": [
    "score = int(input(\"점수 입력 :\"))\n",
    "if score > 100 or score <0:\n",
    "    print(\"점수 입력 오류 입니다.\")\n",
    "elif score >= 90:\n",
    "    print(f\"{score}점은 A학점 입니다.\")\n",
    "elif score >= 80:\n",
    "    print(f\"{score}점은 B학점 입니다.\")\n",
    "elif score >= 70:\n",
    "    print(f\"{score}점은 C학점 입니다.\")\n",
    "elif score >= 60:\n",
    "    print(f\"{score}점은 D학점 입니다.\")\n",
    "else:\n",
    "    print(f\"{score}점은 F학점 입니다.\")"
   ]
  },
  {
   "cell_type": "code",
   "execution_count": null,
   "metadata": {},
   "outputs": [],
   "source": []
  }
 ],
 "metadata": {
  "kernelspec": {
   "display_name": "base",
   "language": "python",
   "name": "python3"
  },
  "language_info": {
   "codemirror_mode": {
    "name": "ipython",
    "version": 3
   },
   "file_extension": ".py",
   "mimetype": "text/x-python",
   "name": "python",
   "nbconvert_exporter": "python",
   "pygments_lexer": "ipython3",
   "version": "3.11.7"
  }
 },
 "nbformat": 4,
 "nbformat_minor": 2
}
