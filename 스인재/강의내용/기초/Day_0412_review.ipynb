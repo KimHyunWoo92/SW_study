{
 "cells": [
  {
   "cell_type": "code",
   "execution_count": 1,
   "metadata": {},
   "outputs": [],
   "source": [
    "#파일 불러오기\n",
    "import pickle\n",
    "\n",
    "with open(\"movie_review.pkl\",\"rb\") as f:\n",
    "    data = pickle.load(f)"
   ]
  },
  {
   "cell_type": "code",
   "execution_count": 3,
   "metadata": {},
   "outputs": [
    {
     "data": {
      "text/plain": [
       "5000"
      ]
     },
     "execution_count": 3,
     "metadata": {},
     "output_type": "execute_result"
    }
   ],
   "source": [
    "len(data)"
   ]
  },
  {
   "cell_type": "code",
   "execution_count": 12,
   "metadata": {},
   "outputs": [
    {
     "name": "stdout",
     "output_type": "stream",
     "text": [
      "35.4866\n"
     ]
    }
   ],
   "source": [
    "review_len = 0\n",
    "\n",
    "for i in range(len(data)):\n",
    "    review_len += len(data[i][0])\n",
    "\n",
    "print(review_len/5000)\n"
   ]
  },
  {
   "cell_type": "code",
   "execution_count": 18,
   "metadata": {},
   "outputs": [
    {
     "name": "stdout",
     "output_type": "stream",
     "text": [
      "긍정 :'2499'개\n",
      "부정 :'2501'개\n"
     ]
    }
   ],
   "source": [
    "positive = 0\n",
    "negative = 0\n",
    "\n",
    "for i in range(len(data)):\n",
    "    if data[i][1] == 0 :\n",
    "        negative += 1\n",
    "    else:\n",
    "        positive += 1\n",
    "\n",
    "print(f\"긍정 :'{positive}'개\\n부정 :'{negative}'개\")"
   ]
  },
  {
   "cell_type": "code",
   "execution_count": 49,
   "metadata": {},
   "outputs": [
    {
     "name": "stdout",
     "output_type": "stream",
     "text": [
      "리뷰 최대길이는 '144'입니다.\n",
      "\"상처투성이인 한국인을 위하여 어제는 추기경님이 계셨고 오늘은 교황님께서 치유하시고 가셨습니다. \"\" 고난이 나를 찾을때 피하고 싶은 내마음은\"\"하시며 노래부르실때는 한 인간으로서 사제로서 격었을 그분의 고난에 눈물이 흐릅니다. 이땅에 이런어른 더안계시나요\"\n"
     ]
    }
   ],
   "source": [
    "max_len = 0\n",
    "idx = 0\n",
    "for i in range(len(data)): \n",
    "    if max_len < len(data[i][0]):\n",
    "        max_len = len(data[i][0])\n",
    "        idx = i\n",
    "    max_review = data[idx][0]\n",
    "\n",
    "print(f\"리뷰 최대길이는 '{max_len}'입니다.\\n{max_review}\")"
   ]
  },
  {
   "cell_type": "code",
   "execution_count": 53,
   "metadata": {},
   "outputs": [
    {
     "name": "stdout",
     "output_type": "stream",
     "text": [
      "'ㅋ'이 포함 된 리뷰는 328개 입니다.\n"
     ]
    }
   ],
   "source": [
    "count = 0\n",
    "for i in range(len(data)):\n",
    "    if 'ㅋ' in data[i][0]:\n",
    "        count += 1\n",
    "\n",
    "print(f\"'ㅋ'이 포함 된 리뷰는 {count}개 입니다.\")\n"
   ]
  },
  {
   "cell_type": "code",
   "execution_count": 54,
   "metadata": {},
   "outputs": [
    {
     "name": "stdout",
     "output_type": "stream",
     "text": [
      "'와'가 포함된 리뷰는 234개 입니다.\n"
     ]
    }
   ],
   "source": [
    "str1 = input(\"검색할 데이터 입력 >>\")\n",
    "input_count = 0\n",
    "for i in range(len(data)):\n",
    "    if str1 in data[i][0]:\n",
    "        input_count += 1\n",
    "\n",
    "print(f\"'{str1}'가 포함된 리뷰는 {input_count}개 입니다.\")"
   ]
  }
 ],
 "metadata": {
  "kernelspec": {
   "display_name": "base",
   "language": "python",
   "name": "python3"
  },
  "language_info": {
   "codemirror_mode": {
    "name": "ipython",
    "version": 3
   },
   "file_extension": ".py",
   "mimetype": "text/x-python",
   "name": "python",
   "nbconvert_exporter": "python",
   "pygments_lexer": "ipython3",
   "version": "3.11.7"
  }
 },
 "nbformat": 4,
 "nbformat_minor": 2
}
