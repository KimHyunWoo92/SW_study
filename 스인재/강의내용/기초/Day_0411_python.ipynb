{
 "cells": [
  {
   "cell_type": "code",
   "execution_count": null,
   "metadata": {},
   "outputs": [],
   "source": [
    "# 다이어트 관리 프로그램\n",
    "# 현재 몸무게와 목표 몸무게를 입력받고 주차 별 감량 모무게를 입력 받으세요\n",
    "# 목표 몸무게를 달성하면 훅하한다는 문구를 출력하고 입력을 멈추세요!\n",
    "\n",
    "weight = int(input(\"현재 몸무게 :\")) \n",
    "target_weight = int(input(\"목표 몸무게 :\")) \n",
    "week = 0\n",
    "while True:\n",
    "    if weight >= target_weight: # weight가 target_weight보다 작아졌을때 몀춰야하니까.\n",
    "        week += 1\n",
    "        minus_weight = int(input(\"감량 몸무게 :\"))\n",
    "        weight -= minus_weight\n",
    "        print(f\"{week}주차 감량 몸무게 :{minus_weight}\")\n",
    "    else:\n",
    "        print(f\"{weight}kg 달성!! 축하합니다.\")\n",
    "        break\n"
   ]
  },
  {
   "cell_type": "code",
   "execution_count": null,
   "metadata": {},
   "outputs": [],
   "source": [
    "# 런타임이 더 느림.\n",
    "# 반복문 안에 반복문이 다시 들어가있어서 느리다.\n",
    "\n",
    "weight = int(input(\"현재 몸무게 :\"))\n",
    "target_weight = int(input(\"목표 몸무게 :\"))\n",
    "\n",
    "while True:\n",
    "    week = 0\n",
    "    while target_weight <= weight:\n",
    "        week+=1\n",
    "        minus_weight = int(input(\"감량 몸무게 :\"))\n",
    "        weight -= minus_weight\n",
    "        print(f\"{week}주차 감량 몸무게 : {minus_weight}\")\n",
    "    print(f\"{weight}kg 달성!! 축하합니다.\")\n",
    "    break"
   ]
  },
  {
   "cell_type": "code",
   "execution_count": null,
   "metadata": {},
   "outputs": [],
   "source": [
    "#랜덤으로 1~50사이의 숫자를 뽑으면 뽑은 숫자를 맞추는 up, down 게임\n",
    "import random\n",
    "com_num = random.randint(1,50)\n",
    "\n",
    "while True:\n",
    "    select = int(input(\"숫자를 입력하세요 :\"))\n",
    "    if select < com_num :\n",
    "        print(f\"{select}보다 큰 수 입니다.\")\n",
    "    elif select > com_num:\n",
    "        print(f\"{select}보다 작은 수 입니다.\")\n",
    "    else:\n",
    "        print(\"정답을 맞추었습니다.\")\n",
    "        break"
   ]
  },
  {
   "cell_type": "code",
   "execution_count": 1,
   "metadata": {},
   "outputs": [
    {
     "name": "stdout",
     "output_type": "stream",
     "text": [
      "1번째 학생은 합격입니다.\n",
      "2번째 학생은 불합격입니다.\n",
      "3번째 학생은 합격입니다.\n",
      "4번째 학생은 합격입니다.\n",
      "5번째 학생은 불합격입니다.\n"
     ]
    }
   ],
   "source": [
    "score_list = [90,45,79,60,55]\n",
    "num = 0\n",
    "for i in score_list:\n",
    "    num += 1\n",
    "    if i >= 60:\n",
    "        print(f\"{num}번째 학생은 합격입니다.\")\n",
    "    else:\n",
    "        print(f\"{num}번째 학생은 불합격입니다.\")"
   ]
  },
  {
   "cell_type": "code",
   "execution_count": 2,
   "metadata": {},
   "outputs": [
    {
     "name": "stdout",
     "output_type": "stream",
     "text": [
      "1번째 학생은 합격입니다.\n",
      "\n",
      "3번째 학생은 합격입니다.\n",
      "4번째 학생은 합격입니다.\n",
      "\n"
     ]
    }
   ],
   "source": [
    "for i in range(len(score_list)):\n",
    "    if score_list[i] >= 60 :\n",
    "        print(f\"{i+1}번째 학생은 합격입니다.\")\n",
    "    else:\n",
    "        print(f\"{i+1}번째 학생은 불합격입니다.\")"
   ]
  },
  {
   "cell_type": "code",
   "execution_count": 19,
   "metadata": {},
   "outputs": [
    {
     "name": "stdout",
     "output_type": "stream",
     "text": [
      "99\n"
     ]
    }
   ],
   "source": [
    "num_list = [4,5,2,1,99,2,7,27]\n",
    "max_num = 0\n",
    "\n",
    "for num in num_list:\n",
    "    if max_num < num:\n",
    "        max_num = num\n",
    "print(max_num)\n",
    "    "
   ]
  },
  {
   "cell_type": "code",
   "execution_count": 20,
   "metadata": {},
   "outputs": [
    {
     "name": "stdout",
     "output_type": "stream",
     "text": [
      "99\n"
     ]
    }
   ],
   "source": [
    "num_list = [4,5,2,1,99,2,7,27]\n",
    "max_num = 0\n",
    "\n",
    "for i in range(len(num_list)):\n",
    "    if max_num < num_list[i]:\n",
    "        max_num = num_list[i]\n",
    "print(max_num)"
   ]
  }
 ],
 "metadata": {
  "kernelspec": {
   "display_name": "base",
   "language": "python",
   "name": "python3"
  },
  "language_info": {
   "codemirror_mode": {
    "name": "ipython",
    "version": 3
   },
   "file_extension": ".py",
   "mimetype": "text/x-python",
   "name": "python",
   "nbconvert_exporter": "python",
   "pygments_lexer": "ipython3",
   "version": "3.11.7"
  }
 },
 "nbformat": 4,
 "nbformat_minor": 2
}
