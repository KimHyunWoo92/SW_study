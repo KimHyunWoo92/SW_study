{
 "cells": [
  {
   "cell_type": "markdown",
   "metadata": {},
   "source": [
    "## 함수\n",
    "- <b> 호출 <b> 될 때, <b>특정기능<b>을 실행하는 <b>재사용 가능<b>한 코드블록"
   ]
  },
  {
   "cell_type": "code",
   "execution_count": 1,
   "metadata": {},
   "outputs": [],
   "source": [
    "# 함수 정의하기\n",
    "def add(x,y):\n",
    "    z = x+y\n",
    "    return z\n"
   ]
  },
  {
   "cell_type": "code",
   "execution_count": 3,
   "metadata": {},
   "outputs": [
    {
     "data": {
      "text/plain": [
       "3"
      ]
     },
     "execution_count": 3,
     "metadata": {},
     "output_type": "execute_result"
    }
   ],
   "source": [
    "add(1,2)"
   ]
  },
  {
   "cell_type": "markdown",
   "metadata": {},
   "source": [
    "# def 함수 정의(define) 할 때 사용하는 예약어\n",
    "# 매개변수 없으면 생략 가능\n",
    "# 들여쓰기 후 함수 내 코드블록 작성\n",
    "# return 없으면 생략가능"
   ]
  },
  {
   "cell_type": "markdown",
   "metadata": {},
   "source": [
    "#### 함수 사용 방법 :\n",
    "1. 문법에 맞춰서 함수 정의\n",
    "2. 정의된 함수명을 호출\n",
    "3. 매개변수 인자가 있다면, () 안에 값을 입력"
   ]
  },
  {
   "cell_type": "code",
   "execution_count": null,
   "metadata": {},
   "outputs": [],
   "source": [
    "# 두 수를 입력받아서 뺀 결과값을 return 하는 함수를 정의하라\n",
    "# 뺀 결과값은 항상 양수가 나오게끔"
   ]
  },
  {
   "cell_type": "code",
   "execution_count": 6,
   "metadata": {},
   "outputs": [
    {
     "name": "stdout",
     "output_type": "stream",
     "text": [
      "1\n"
     ]
    }
   ],
   "source": [
    "num1 = int(input(\"첫번째 정수 입력 :\"))\n",
    "num2 = int(input(\"두번째 정수 입력 :\"))\n",
    "\n",
    "def minus(x,y):\n",
    "    if x > y:\n",
    "        result = (x-y)\n",
    "    else:\n",
    "        result = (y-x)\n",
    "    return result\n",
    "\n",
    "result = minus(num1,num2)\n",
    "\n",
    "print(result)"
   ]
  },
  {
   "cell_type": "code",
   "execution_count": 5,
   "metadata": {},
   "outputs": [
    {
     "name": "stdout",
     "output_type": "stream",
     "text": [
      "4\n"
     ]
    }
   ],
   "source": [
    "num1 = int(input(\"첫번째 정수 입력 :\"))\n",
    "num2 = int(input(\"두번째 정수 입력 :\"))\n",
    "\n",
    "def minus(x,y):\n",
    "    return abs(x-y)\n",
    "\n",
    "result = minus(num1,num2)\n",
    "print(result)"
   ]
  },
  {
   "cell_type": "code",
   "execution_count": 22,
   "metadata": {},
   "outputs": [],
   "source": [
    "# 문자열을 입력받아서 'ㅋ'을 제거하고 return하는 함수\n",
    "\n",
    "\n",
    "def s_replace(x):\n",
    "    \"\"\"'ㅋ'이라는 문자를 문자열에서 제거해주는 기능\"\"\"\n",
    "    x = x.replace('ㅋ',\"\")\n",
    "    return x\n",
    "\n"
   ]
  },
  {
   "cell_type": "code",
   "execution_count": null,
   "metadata": {},
   "outputs": [],
   "source": [
    "s = input(\"문자열 입력 :\")\n",
    "result = s_replace(s)\n",
    "print(result)"
   ]
  },
  {
   "cell_type": "code",
   "execution_count": 17,
   "metadata": {},
   "outputs": [
    {
     "name": "stdout",
     "output_type": "stream",
     "text": [
      "을 지워주세요 \n"
     ]
    }
   ],
   "source": [
    "s = input(\"문자열 입력:\")\n",
    "\n",
    "def s_replace(x):\n",
    "    text = \"\"\n",
    "    for i in x:\n",
    "        if i != 'ㅋ':\n",
    "            text += i\n",
    "    return text\n",
    "result = s_replace(s)\n",
    "print(result)"
   ]
  },
  {
   "cell_type": "code",
   "execution_count": null,
   "metadata": {},
   "outputs": [],
   "source": [
    "# 함수의 특성\n",
    "# 1. 매개변수의 순서대로 인자가 들어감\n",
    "# 2. 기본값을 설정해 줄 수 있음\n",
    "# 3. 매개변수를 지정해서 호출 시 순서는 상관없어 짐\n",
    "# 4. return의 결과값은 하나\n",
    "# 5. 입력값이나 결과값이 없을 수 있다.\n",
    "\n"
   ]
  },
  {
   "cell_type": "markdown",
   "metadata": {},
   "source": [
    "#### 가변 매개변수(Variable - length arguments)\n",
    "- 함수 호출 시 몇 개의 인수가 전달될 지 알 수없다면, 사용자(호출자)가 직접 매개변수의 개수를 정할 수 있도록 선언\n",
    "- 인수를 무한으로 받음"
   ]
  },
  {
   "cell_type": "code",
   "execution_count": 23,
   "metadata": {},
   "outputs": [],
   "source": [
    "def add(*args):\n",
    "    add = sum(args)\n",
    "    return add"
   ]
  },
  {
   "cell_type": "code",
   "execution_count": 24,
   "metadata": {},
   "outputs": [
    {
     "data": {
      "text/plain": [
       "15"
      ]
     },
     "execution_count": 24,
     "metadata": {},
     "output_type": "execute_result"
    }
   ],
   "source": [
    "add(1,2,3,4,5)"
   ]
  },
  {
   "cell_type": "markdown",
   "metadata": {},
   "source": [
    "### 키워드 가변 매개변수(Keyword Varialbe - length arguments)\n",
    "- 함수 호출 시 몇개의 인수가 전달될 지 알 수 없으면서, 딕셔너리형 Packing하고 싶은 경우 사용으로 값을 받을 수있음.\n",
    "- 인수를 무한으로 받음\n"
   ]
  },
  {
   "cell_type": "code",
   "execution_count": 25,
   "metadata": {},
   "outputs": [],
   "source": [
    "def print_kargs(**kargs):\n",
    "    print(kargs)"
   ]
  },
  {
   "cell_type": "code",
   "execution_count": 26,
   "metadata": {},
   "outputs": [
    {
     "name": "stdout",
     "output_type": "stream",
     "text": [
      "{'name': 'HY', 'age': 20, 'country': '대한민국'}\n"
     ]
    }
   ],
   "source": [
    "print_kargs(name = \"HY\",age= 20, country = \"대한민국\")"
   ]
  },
  {
   "cell_type": "markdown",
   "metadata": {},
   "source": [
    "# 함수정의시 매개변수 순서\n",
    "1. 일반 매개변수(위치매개변수) : a,b\n",
    "2. 가변 매개변수 : *args\n",
    "3. 키워드 매개변수 : ex) power=2,num=3,....\n",
    "4. 키워드 가변 매개변수 : **kargs"
   ]
  },
  {
   "cell_type": "code",
   "execution_count": null,
   "metadata": {},
   "outputs": [],
   "source": [
    "# jupyter nbconvert : 주피터 파일을 다른 형식으로 변환할 수 이쓴 커맨드 명령어"
   ]
  },
  {
   "cell_type": "code",
   "execution_count": 36,
   "metadata": {},
   "outputs": [],
   "source": [
    "import 모듈 as module"
   ]
  },
  {
   "cell_type": "code",
   "execution_count": 37,
   "metadata": {},
   "outputs": [
    {
     "data": {
      "text/plain": [
       "1"
      ]
     },
     "execution_count": 37,
     "metadata": {},
     "output_type": "execute_result"
    }
   ],
   "source": [
    "module.a"
   ]
  },
  {
   "cell_type": "code",
   "execution_count": 38,
   "metadata": {},
   "outputs": [
    {
     "data": {
      "text/plain": [
       "2"
      ]
     },
     "execution_count": 38,
     "metadata": {},
     "output_type": "execute_result"
    }
   ],
   "source": [
    "module.b"
   ]
  },
  {
   "cell_type": "code",
   "execution_count": 39,
   "metadata": {},
   "outputs": [
    {
     "data": {
      "text/plain": [
       "10"
      ]
     },
     "execution_count": 39,
     "metadata": {},
     "output_type": "execute_result"
    }
   ],
   "source": [
    "module.add(1,2,3,4)"
   ]
  }
 ],
 "metadata": {
  "kernelspec": {
   "display_name": "base",
   "language": "python",
   "name": "python3"
  },
  "language_info": {
   "codemirror_mode": {
    "name": "ipython",
    "version": 3
   },
   "file_extension": ".py",
   "mimetype": "text/x-python",
   "name": "python",
   "nbconvert_exporter": "python",
   "pygments_lexer": "ipython3",
   "version": "3.11.7"
  }
 },
 "nbformat": 4,
 "nbformat_minor": 2
}
