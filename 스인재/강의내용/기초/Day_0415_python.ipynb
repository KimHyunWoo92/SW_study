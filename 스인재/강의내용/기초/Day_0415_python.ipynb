{
 "cells": [
  {
   "cell_type": "code",
   "execution_count": 2,
   "metadata": {},
   "outputs": [],
   "source": [
    "dic1 = {\"Key\":\"Value\",\"name\":\"HY\",\"age\":33,\"phone\":\"010-1111-1111\"}"
   ]
  },
  {
   "cell_type": "code",
   "execution_count": 4,
   "metadata": {},
   "outputs": [
    {
     "data": {
      "text/plain": [
       "{'Key': 'Value',\n",
       " 'name': 'HY',\n",
       " 'age': 33,\n",
       " 'phone': '010-1111-1111',\n",
       " 'birth': '05/05'}"
      ]
     },
     "execution_count": 4,
     "metadata": {},
     "output_type": "execute_result"
    }
   ],
   "source": [
    "# 딕서녀리 요소 추가, 수정\n",
    "# 지정(인덱싱, 슬라이싱) 하고 대입\n",
    "# 추가 : 없는 key값을 지정하고 대입!\n",
    "\n",
    "dic1['birth'] = \"05/05\"\n",
    "dic1"
   ]
  },
  {
   "cell_type": "code",
   "execution_count": 5,
   "metadata": {},
   "outputs": [
    {
     "data": {
      "text/plain": [
       "{'Key': 'Value',\n",
       " 'name': 'HY',\n",
       " 'age': 33,\n",
       " 'phone': '010-1111-2222',\n",
       " 'birth': '05/05'}"
      ]
     },
     "execution_count": 5,
     "metadata": {},
     "output_type": "execute_result"
    }
   ],
   "source": [
    "#수정 : 있는 key값을 지정하고 대입\n",
    "dic1[\"phone\"] = \"010-1111-2222\"\n",
    "dic1"
   ]
  },
  {
   "cell_type": "code",
   "execution_count": 6,
   "metadata": {},
   "outputs": [
    {
     "data": {
      "text/plain": [
       "{'Key': 'Value', 'name': 'HY', 'age': 33, 'phone': '010-1111-2222'}"
      ]
     },
     "execution_count": 6,
     "metadata": {},
     "output_type": "execute_result"
    }
   ],
   "source": [
    "#삭제\n",
    "#del 인덱싱, 슬라이싱\n",
    "del dic1['birth']\n",
    "dic1"
   ]
  },
  {
   "cell_type": "code",
   "execution_count": 7,
   "metadata": {},
   "outputs": [],
   "source": [
    "#get(): 지정할 때 없는 key인경, 자동으로 error 처리\n",
    "dic1.get('birth')"
   ]
  },
  {
   "cell_type": "code",
   "execution_count": 8,
   "metadata": {},
   "outputs": [
    {
     "data": {
      "text/plain": [
       "dict_keys(['Key', 'name', 'age', 'phone'])"
      ]
     },
     "execution_count": 8,
     "metadata": {},
     "output_type": "execute_result"
    }
   ],
   "source": [
    "dic1.keys()"
   ]
  },
  {
   "cell_type": "code",
   "execution_count": 9,
   "metadata": {},
   "outputs": [
    {
     "data": {
      "text/plain": [
       "dict_values(['Value', 'HY', 33, '010-1111-2222'])"
      ]
     },
     "execution_count": 9,
     "metadata": {},
     "output_type": "execute_result"
    }
   ],
   "source": [
    "dic1.values()"
   ]
  },
  {
   "cell_type": "code",
   "execution_count": 10,
   "metadata": {},
   "outputs": [
    {
     "data": {
      "text/plain": [
       "dict_items([('Key', 'Value'), ('name', 'HY'), ('age', 33), ('phone', '010-1111-2222')])"
      ]
     },
     "execution_count": 10,
     "metadata": {},
     "output_type": "execute_result"
    }
   ],
   "source": [
    "#items(): key와 value를 묶어서 활용하고자 할때\n",
    "dic1.items()"
   ]
  },
  {
   "cell_type": "code",
   "execution_count": 11,
   "metadata": {},
   "outputs": [
    {
     "name": "stdout",
     "output_type": "stream",
     "text": [
      "Key\n",
      "name\n",
      "age\n",
      "phone\n"
     ]
    }
   ],
   "source": [
    "for key in dic1.keys():\n",
    "    print(key)"
   ]
  },
  {
   "cell_type": "code",
   "execution_count": 12,
   "metadata": {},
   "outputs": [
    {
     "name": "stdout",
     "output_type": "stream",
     "text": [
      "Value\n",
      "HY\n",
      "33\n",
      "010-1111-2222\n"
     ]
    }
   ],
   "source": [
    "for value in dic1.values():\n",
    "    print(value)"
   ]
  },
  {
   "cell_type": "code",
   "execution_count": 13,
   "metadata": {},
   "outputs": [
    {
     "name": "stdout",
     "output_type": "stream",
     "text": [
      "('Key', 'Value')\n",
      "('name', 'HY')\n",
      "('age', 33)\n",
      "('phone', '010-1111-2222')\n"
     ]
    }
   ],
   "source": [
    "for item in dic1.items():\n",
    "    print(item)"
   ]
  },
  {
   "cell_type": "code",
   "execution_count": 14,
   "metadata": {},
   "outputs": [
    {
     "name": "stdout",
     "output_type": "stream",
     "text": [
      "Key\n",
      "Value\n",
      "name\n",
      "HY\n",
      "age\n",
      "33\n",
      "phone\n",
      "010-1111-2222\n"
     ]
    }
   ],
   "source": [
    "for key,value in dic1.items():\n",
    "    print(key)\n",
    "    print(value)"
   ]
  },
  {
   "cell_type": "code",
   "execution_count": 15,
   "metadata": {},
   "outputs": [
    {
     "data": {
      "text/plain": [
       "{'이름': ['정봉균', '조준용', '이주희', '정세연', '본부장님'],\n",
       " 'python': [90, 100, 85, 90, 80],\n",
       " 'java': [85, 80, 100, 95, 85],\n",
       " 'html/css': [75, 70, 90, 80, 90]}"
      ]
     },
     "execution_count": 15,
     "metadata": {},
     "output_type": "execute_result"
    }
   ],
   "source": [
    "score_dict = {\"이름\":['정봉균','조준용','이주희','정세연','본부장님'],\n",
    "              'python':[90,100,85,90,80],\n",
    "              'java':[85,80,100,95,85],\n",
    "              'html/css':[75,70,90,80,90]}\n",
    "score_dict"
   ]
  },
  {
   "cell_type": "code",
   "execution_count": 24,
   "metadata": {},
   "outputs": [
    {
     "data": {
      "text/plain": [
       "89.0"
      ]
     },
     "execution_count": 24,
     "metadata": {},
     "output_type": "execute_result"
    }
   ],
   "source": [
    "sum(score_dict['python'])/ len(score_dict['python'])"
   ]
  },
  {
   "cell_type": "code",
   "execution_count": 79,
   "metadata": {},
   "outputs": [
    {
     "name": "stdout",
     "output_type": "stream",
     "text": [
      "89.0\n"
     ]
    }
   ],
   "source": [
    "#1.python 과목의 평균 구하기\n",
    "for key in score_dict.keys():\n",
    "    if key == 'python':\n",
    "        avg = sum(score_dict[key]) / len(score_dict[key])\n",
    "print(avg)"
   ]
  },
  {
   "cell_type": "code",
   "execution_count": 73,
   "metadata": {},
   "outputs": [
    {
     "name": "stdout",
     "output_type": "stream",
     "text": [
      "89.0\n"
     ]
    }
   ],
   "source": [
    "for i in list(score_dict.items()):\n",
    "    if i[0] == 'python':\n",
    "        print(f\"{sum(i[1])/len(i[1])}\")"
   ]
  },
  {
   "cell_type": "code",
   "execution_count": 33,
   "metadata": {},
   "outputs": [
    {
     "name": "stdout",
     "output_type": "stream",
     "text": [
      "python 평균 :89.0\n",
      "java 평균 :89.0\n",
      "html/css 평균 :81.0\n"
     ]
    }
   ],
   "source": [
    "for key, value in score_dict.items():\n",
    "    if key == 'python':\n",
    "        py_avg = sum(value) / len(value)\n",
    "    elif key == 'java':\n",
    "        ja_avg = sum(value) / len(value)\n",
    "    elif key == 'html/css':\n",
    "        hc_avg = sum(value) / len(value)\n",
    "\n",
    "print(f\"python 평균 :{py_avg}\\njava 평균 :{ja_avg}\\nhtml/css 평균 :{hc_avg}\")"
   ]
  },
  {
   "cell_type": "code",
   "execution_count": 77,
   "metadata": {},
   "outputs": [
    {
     "name": "stdout",
     "output_type": "stream",
     "text": [
      "python 평균 : 89.0\n",
      "java 평균 : 89.0\n",
      "html/css 평균 : 81.0\n"
     ]
    }
   ],
   "source": [
    "for i in list(score_dict.items()):\n",
    "    if i[0] == 'python':\n",
    "        py_mean = sum(i[1]) / len(i[1])\n",
    "    elif i[0] == 'java':\n",
    "        ja_mean = sum(i[1]) / len(i[1])\n",
    "    elif i[0] == 'html/css':\n",
    "        hc_mean = sum(i[1]) / len(i[1])\n",
    "\n",
    "print(f\"python 평균 : {py_mean}\")\n",
    "print(f\"java 평균 : {ja_mean}\")\n",
    "print(f\"html/css 평균 : {hc_mean}\")"
   ]
  },
  {
   "cell_type": "code",
   "execution_count": 81,
   "metadata": {},
   "outputs": [
    {
     "name": "stdout",
     "output_type": "stream",
     "text": [
      "python 평균 : 89.0\n",
      "java 평균 : 89.0\n",
      "html/css 평균 : 81.0\n"
     ]
    }
   ],
   "source": [
    "for key in list(score_dict.keys())[1:]:\n",
    "    avg = sum(score_dict[key])/len(score_dict[key])\n",
    "    print(f\"{key} 평균 : {avg}\")"
   ]
  }
 ],
 "metadata": {
  "kernelspec": {
   "display_name": "base",
   "language": "python",
   "name": "python3"
  },
  "language_info": {
   "codemirror_mode": {
    "name": "ipython",
    "version": 3
   },
   "file_extension": ".py",
   "mimetype": "text/x-python",
   "name": "python",
   "nbconvert_exporter": "python",
   "pygments_lexer": "ipython3",
   "version": "3.11.7"
  }
 },
 "nbformat": 4,
 "nbformat_minor": 2
}
